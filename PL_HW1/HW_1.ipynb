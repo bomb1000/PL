{
 "cells": [
  {
   "cell_type": "markdown",
   "id": "4b8cc9a0",
   "metadata": {},
   "source": [
    "# 讀入資料"
   ]
  },
  {
   "cell_type": "code",
   "execution_count": 16,
   "id": "f259f7a5",
   "metadata": {},
   "outputs": [],
   "source": [
    "import pandas as pd"
   ]
  },
  {
   "cell_type": "code",
   "execution_count": 17,
   "id": "9e9be93b",
   "metadata": {},
   "outputs": [],
   "source": [
    "df = pd.read_csv('titanic.csv')"
   ]
  },
  {
   "cell_type": "code",
   "execution_count": 18,
   "id": "08ba76e9",
   "metadata": {},
   "outputs": [
    {
     "data": {
      "text/html": [
       "<div>\n",
       "<style scoped>\n",
       "    .dataframe tbody tr th:only-of-type {\n",
       "        vertical-align: middle;\n",
       "    }\n",
       "\n",
       "    .dataframe tbody tr th {\n",
       "        vertical-align: top;\n",
       "    }\n",
       "\n",
       "    .dataframe thead th {\n",
       "        text-align: right;\n",
       "    }\n",
       "</style>\n",
       "<table border=\"1\" class=\"dataframe\">\n",
       "  <thead>\n",
       "    <tr style=\"text-align: right;\">\n",
       "      <th></th>\n",
       "      <th>PassengerId</th>\n",
       "      <th>Survived</th>\n",
       "      <th>Pclass</th>\n",
       "      <th>Name</th>\n",
       "      <th>Sex</th>\n",
       "      <th>Age</th>\n",
       "      <th>SibSp</th>\n",
       "      <th>Parch</th>\n",
       "      <th>Ticket</th>\n",
       "      <th>Fare</th>\n",
       "      <th>Cabin</th>\n",
       "      <th>Embarked</th>\n",
       "    </tr>\n",
       "  </thead>\n",
       "  <tbody>\n",
       "    <tr>\n",
       "      <th>0</th>\n",
       "      <td>1</td>\n",
       "      <td>0</td>\n",
       "      <td>3</td>\n",
       "      <td>Braund, Mr. Owen Harris</td>\n",
       "      <td>male</td>\n",
       "      <td>22</td>\n",
       "      <td>1</td>\n",
       "      <td>0</td>\n",
       "      <td>A/5 21171</td>\n",
       "      <td>7.250</td>\n",
       "      <td>-</td>\n",
       "      <td>S</td>\n",
       "    </tr>\n",
       "    <tr>\n",
       "      <th>1</th>\n",
       "      <td>2</td>\n",
       "      <td>1</td>\n",
       "      <td>1</td>\n",
       "      <td>Cumings, Mrs. John Bradley (Florence Briggs Th...</td>\n",
       "      <td>female</td>\n",
       "      <td>38</td>\n",
       "      <td>1</td>\n",
       "      <td>0</td>\n",
       "      <td>PC 17599</td>\n",
       "      <td>71.283</td>\n",
       "      <td>C85</td>\n",
       "      <td>C</td>\n",
       "    </tr>\n",
       "    <tr>\n",
       "      <th>2</th>\n",
       "      <td>3</td>\n",
       "      <td>1</td>\n",
       "      <td>3</td>\n",
       "      <td>Heikkinen, Miss. Laina</td>\n",
       "      <td>female</td>\n",
       "      <td>26</td>\n",
       "      <td>0</td>\n",
       "      <td>0</td>\n",
       "      <td>STON/O2. 3101282</td>\n",
       "      <td>7.925</td>\n",
       "      <td>-</td>\n",
       "      <td>S</td>\n",
       "    </tr>\n",
       "    <tr>\n",
       "      <th>3</th>\n",
       "      <td>4</td>\n",
       "      <td>1</td>\n",
       "      <td>1</td>\n",
       "      <td>Futrelle, Mrs. Jacques Heath (Lily May Peel)</td>\n",
       "      <td>female</td>\n",
       "      <td>35</td>\n",
       "      <td>1</td>\n",
       "      <td>0</td>\n",
       "      <td>113803</td>\n",
       "      <td>53.100</td>\n",
       "      <td>C123</td>\n",
       "      <td>S</td>\n",
       "    </tr>\n",
       "    <tr>\n",
       "      <th>4</th>\n",
       "      <td>5</td>\n",
       "      <td>0</td>\n",
       "      <td>3</td>\n",
       "      <td>Allen, Mr. William Henry</td>\n",
       "      <td>male</td>\n",
       "      <td>35</td>\n",
       "      <td>0</td>\n",
       "      <td>0</td>\n",
       "      <td>373450</td>\n",
       "      <td>8.050</td>\n",
       "      <td>-</td>\n",
       "      <td>S</td>\n",
       "    </tr>\n",
       "  </tbody>\n",
       "</table>\n",
       "</div>"
      ],
      "text/plain": [
       "   PassengerId  Survived  Pclass  \\\n",
       "0            1         0       3   \n",
       "1            2         1       1   \n",
       "2            3         1       3   \n",
       "3            4         1       1   \n",
       "4            5         0       3   \n",
       "\n",
       "                                                Name     Sex Age  SibSp  \\\n",
       "0                            Braund, Mr. Owen Harris    male  22      1   \n",
       "1  Cumings, Mrs. John Bradley (Florence Briggs Th...  female  38      1   \n",
       "2                             Heikkinen, Miss. Laina  female  26      0   \n",
       "3       Futrelle, Mrs. Jacques Heath (Lily May Peel)  female  35      1   \n",
       "4                           Allen, Mr. William Henry    male  35      0   \n",
       "\n",
       "   Parch            Ticket    Fare Cabin Embarked  \n",
       "0      0         A/5 21171   7.250     -        S  \n",
       "1      0          PC 17599  71.283   C85        C  \n",
       "2      0  STON/O2. 3101282   7.925     -        S  \n",
       "3      0            113803  53.100  C123        S  \n",
       "4      0            373450   8.050     -        S  "
      ]
     },
     "execution_count": 18,
     "metadata": {},
     "output_type": "execute_result"
    }
   ],
   "source": [
    "df.head()"
   ]
  },
  {
   "cell_type": "code",
   "execution_count": 19,
   "id": "9982cd93",
   "metadata": {},
   "outputs": [
    {
     "data": {
      "text/plain": [
       "1      Cumings, Mrs. John Bradley (Florence Briggs Th...\n",
       "2                                 Heikkinen, Miss. Laina\n",
       "3           Futrelle, Mrs. Jacques Heath (Lily May Peel)\n",
       "8      Johnson, Mrs. Oscar W (Elisabeth Vilhelmina Berg)\n",
       "9                    Nasser, Mrs. Nicholas (Adele Achem)\n",
       "                             ...                        \n",
       "875                     Najib, Miss. Adele Kiamie \"Jane\"\n",
       "879        Potter, Mrs. Thomas Jr (Lily Alexenia Wilson)\n",
       "880         Shelley, Mrs. William (Imanita Parrish Hall)\n",
       "887                         Graham, Miss. Margaret Edith\n",
       "889                                Behr, Mr. Karl Howell\n",
       "Name: Name, Length: 342, dtype: object"
      ]
     },
     "execution_count": 19,
     "metadata": {},
     "output_type": "execute_result"
    }
   ],
   "source": [
    "survived_df = pd.DataFrame()\n",
    "survived_df['Name'] = df[df['Survived'] == 1]['Name']\n",
    "survived_df['Name']"
   ]
  },
  {
   "cell_type": "code",
   "execution_count": 20,
   "id": "4936fea1",
   "metadata": {},
   "outputs": [],
   "source": [
    "# 首先，創建一個新的空 DataFrame 或者根據 df 的結構創建一個新的 DataFrame\n",
    "pclass1_df = pd.DataFrame()\n",
    "pclass1_df['Name'] = df[df['Pclass'] == 1]['Name']\n",
    "pclass1_set = set(pclass1_df['Name'])"
   ]
  },
  {
   "cell_type": "code",
   "execution_count": 33,
   "id": "8d9b489f",
   "metadata": {},
   "outputs": [],
   "source": [
    "pclass2_df = pd.DataFrame()\n",
    "pclass2_df['Name'] = df[df['Pclass'] == 2]['Name']\n",
    "pclass2_set = set(pclass2_df['Name'])"
   ]
  },
  {
   "cell_type": "code",
   "execution_count": 22,
   "id": "c9b7b1b6",
   "metadata": {
    "scrolled": false
   },
   "outputs": [
    {
     "data": {
      "text/plain": [
       "0                       Braund, Mr. Owen Harris\n",
       "2                        Heikkinen, Miss. Laina\n",
       "4                      Allen, Mr. William Henry\n",
       "5                              Moran, Mr. James\n",
       "7                Palsson, Master. Gosta Leonard\n",
       "                         ...                   \n",
       "882                Dahlberg, Miss. Gerda Ulrika\n",
       "884                      Sutehall, Mr. Henry Jr\n",
       "885        Rice, Mrs. William (Margaret Norton)\n",
       "888    Johnston, Miss. Catherine Helen \"Carrie\"\n",
       "890                         Dooley, Mr. Patrick\n",
       "Name: Name, Length: 491, dtype: object"
      ]
     },
     "execution_count": 22,
     "metadata": {},
     "output_type": "execute_result"
    }
   ],
   "source": [
    "pclass3_df = pd.DataFrame()\n",
    "pclass3_df['Name'] = df[df['Pclass'] == 3]['Name']\n",
    "pclass3_df['Name']"
   ]
  },
  {
   "cell_type": "code",
   "execution_count": 23,
   "id": "53e1bdb3",
   "metadata": {},
   "outputs": [
    {
     "name": "stdout",
     "output_type": "stream",
     "text": [
      "<class 'pandas.core.frame.DataFrame'>\n",
      "Int64Index: 491 entries, 0 to 890\n",
      "Data columns (total 1 columns):\n",
      " #   Column  Non-Null Count  Dtype \n",
      "---  ------  --------------  ----- \n",
      " 0   Name    491 non-null    object\n",
      "dtypes: object(1)\n",
      "memory usage: 7.7+ KB\n"
     ]
    }
   ],
   "source": [
    "pclass3_df.info()"
   ]
  },
  {
   "cell_type": "code",
   "execution_count": 24,
   "id": "6825087b",
   "metadata": {},
   "outputs": [],
   "source": [
    "# 將DataFrame轉換為集合\n",
    "survived_set = set(survived_df['Name'])\n",
    "pclass3_set = set(pclass3_df['Name'])"
   ]
  },
  {
   "cell_type": "markdown",
   "id": "c959eefb",
   "metadata": {},
   "source": [
    "# 聯集 \n",
    "<br><br>\n",
    "(以下聯集、差及、交集的簡單示範均以pclass3_set做操作)"
   ]
  },
  {
   "cell_type": "code",
   "execution_count": 40,
   "id": "614dbc79",
   "metadata": {
    "scrolled": true
   },
   "outputs": [
    {
     "name": "stdout",
     "output_type": "stream",
     "text": [
      "聯集結果：\n",
      "\n",
      "元素個數為:  714 \n",
      "\n",
      "['Dimic, Mr. Jovan', 'Najib, Miss. Adele Kiamie \"Jane\"', 'Touma, Mrs. Darwis (Hanne Youssef Razi)', 'Celotti, Mr. Francesco', 'Longley, Miss. Gretchen Fiske', 'Harknett, Miss. Alice Phoebe', 'Backstrom, Mrs. Karl Alfred (Maria Mathilda Gustafsson)', 'Johansson, Mr. Karl Johan', 'Slayter, Miss. Hilda Mary', 'Leader, Dr. Alice (Farnham)', 'Mernagh, Mr. Robert', 'Greenfield, Mr. William Bertram', 'Graham, Miss. Margaret Edith', 'Kenyon, Mrs. Frederick R (Marion)', 'Keane, Miss. Nora A', 'Bourke, Mr. John', 'Stone, Mrs. George Nelson (Martha Evelyn)', 'Mannion, Miss. Margareth', 'Adahl, Mr. Mauritz Nils Martin', 'van Billiard, Mr. Austin Blyler']\n"
     ]
    }
   ],
   "source": [
    "# 聯集\n",
    "union_set = survived_set | pclass3_set\n",
    "\n",
    "print(\"聯集結果：\\n\")\n",
    "print(\"元素個數為: \", len(union_set), '\\n')\n",
    "print(list(union_set)[:20])"
   ]
  },
  {
   "cell_type": "markdown",
   "id": "8724e57e",
   "metadata": {},
   "source": [
    "# 差集"
   ]
  },
  {
   "cell_type": "code",
   "execution_count": 41,
   "id": "711367a5",
   "metadata": {
    "scrolled": true
   },
   "outputs": [
    {
     "name": "stdout",
     "output_type": "stream",
     "text": [
      "survived_df 中有而 pclass3_df 中沒有的差集：\n",
      "\n",
      "元素個數為:  223 \n",
      "\n",
      "['Hoyt, Mrs. Frederick Maxfield (Jane Anne Forby)', 'Drew, Mrs. James Vivian (Lulu Thorne Christian)', 'Spedden, Mrs. Frederic Oakley (Margaretta Corning Stone)', 'Longley, Miss. Gretchen Fiske', 'Richards, Mrs. Sidney (Emily Hocking)', 'Leitch, Miss. Jessie Wills', 'Harper, Mr. Henry Sleeper', 'Renouf, Mrs. Peter Henry (Lillian Jefferys)', 'Eustis, Miss. Elizabeth Mussey', 'Meyer, Mrs. Edgar Joseph (Leila Saks)', 'Trout, Mrs. William H (Jessie L)', 'Appleton, Mrs. Edward Dale (Charlotte Lamson)', 'Wells, Miss. Joan', 'Allison, Master. Hudson Trevor', 'Stephenson, Mrs. Walter Bertram (Martha Eustis)', 'Daniel, Mr. Robert Williams', 'Slayter, Miss. Hilda Mary', 'Leader, Dr. Alice (Farnham)', 'Greenfield, Mr. William Bertram', 'Graham, Miss. Margaret Edith']\n"
     ]
    }
   ],
   "source": [
    "# 差集\n",
    "# survived_df 中有而 pclass3_df 中沒有的 pclass1 + pclass2 的存活名單\n",
    "difference_set_survived = survived_set - pclass3_set\n",
    "print(\"survived_df 中有而 pclass3_df 中沒有的差集：\\n\")\n",
    "print(\"元素個數為: \", len(difference_set_survived), '\\n')\n",
    "print(list(difference_set_survived)[:20])"
   ]
  },
  {
   "cell_type": "code",
   "execution_count": 42,
   "id": "375919cd",
   "metadata": {
    "scrolled": true
   },
   "outputs": [
    {
     "name": "stdout",
     "output_type": "stream",
     "text": [
      "pclass3_df 中有而 survived_df 中沒有的差集：\n",
      "\n",
      "元素個數為:  372 \n",
      "\n",
      "['Dimic, Mr. Jovan', 'Celotti, Mr. Francesco', 'Harknett, Miss. Alice Phoebe', 'Johansson, Mr. Karl Johan', 'Mernagh, Mr. Robert', 'Bourke, Mr. John', 'Adahl, Mr. Mauritz Nils Martin', 'van Billiard, Mr. Austin Blyler', 'Andersson, Miss. Ellis Anna Maria', 'Morley, Mr. William', 'Kink, Mr. Vincenz', 'Klasen, Mr. Klas Albin', 'Elias, Mr. Dibo', 'Peduzzi, Mr. Joseph', 'Goodwin, Master. Sidney Leonard', 'Perkin, Mr. John Henry', 'Berglund, Mr. Karl Ivar Sven', 'Ling, Mr. Lee', 'Johnston, Miss. Catherine Helen \"Carrie\"', 'Lennon, Mr. Denis']\n"
     ]
    }
   ],
   "source": [
    "# pclass3_df 中有而 survived_df 中沒有的，i.e.pclass3的死亡名單\n",
    "difference_set_pclass3 = pclass3_set - survived_set\n",
    "print(\"pclass3_df 中有而 survived_df 中沒有的差集：\\n\")\n",
    "print(\"元素個數為: \", len(difference_set_pclass3), '\\n')\n",
    "print(list(difference_set_pclass3)[:20])"
   ]
  },
  {
   "cell_type": "markdown",
   "id": "5dcf5fec",
   "metadata": {},
   "source": [
    "解讀: 此為Pclass3的死亡名單"
   ]
  },
  {
   "cell_type": "markdown",
   "id": "9b2dade2",
   "metadata": {},
   "source": [
    "# 交集"
   ]
  },
  {
   "cell_type": "code",
   "execution_count": 43,
   "id": "7cb84970",
   "metadata": {
    "scrolled": true
   },
   "outputs": [
    {
     "name": "stdout",
     "output_type": "stream",
     "text": [
      "交集結果：\n",
      "\n",
      "元素個數為:  119 \n",
      "\n",
      "['Najib, Miss. Adele Kiamie \"Jane\"', 'Touma, Mrs. Darwis (Hanne Youssef Razi)', 'Hedman, Mr. Oskar Arvid', 'Jonsson, Mr. Carl', 'Niskanen, Mr. Juha', 'Lindqvist, Mr. Eino William', 'Backstrom, Mrs. Karl Alfred (Maria Mathilda Gustafsson)', 'Andersson, Miss. Erna Alexandra', 'O\\'Leary, Miss. Hanora \"Norah\"', 'Stanley, Miss. Amy Zillah Elsie', 'Carr, Miss. Helen \"Ellen\"', 'Mannion, Miss. Margareth', 'Emanuel, Miss. Virginia Ethel', 'Kelly, Miss. Anna Katherine \"Annie Kate\"', 'Jussila, Mr. Eiriik', 'Barah, Mr. Hanna Assi', 'Nakid, Mr. Sahid', 'Dorking, Mr. Edward Arthur', 'Baclini, Mrs. Solomon (Latifa Qurban)', 'Chip, Mr. Chang']\n"
     ]
    }
   ],
   "source": [
    "# 交集 pclass3的存活名單\n",
    "intersection_set = survived_set & pclass3_set\n",
    "print(\"交集結果：\\n\")\n",
    "print(\"元素個數為: \", len(intersection_set), '\\n')\n",
    "print(list(intersection_set)[:20])"
   ]
  },
  {
   "cell_type": "markdown",
   "id": "4c5ab13b",
   "metadata": {},
   "source": [
    "# 分析"
   ]
  },
  {
   "cell_type": "markdown",
   "id": "b8961a05",
   "metadata": {},
   "source": [
    "## 計算存活率\n",
    "\n",
    "- Pclass1 存活率: 62.96%\n",
    "- Pclass2 存活率: 47.28%\n",
    "- Pclass3 存活率: 24.24%"
   ]
  },
  {
   "cell_type": "code",
   "execution_count": 29,
   "id": "afeaa135",
   "metadata": {},
   "outputs": [],
   "source": [
    "def survive_rate(survived_set, pclass_set):\n",
    "    intersection_set = survived_set & pclass_set\n",
    "    \n",
    "    surv_rate = (len(intersection_set)/len(pclass_set))\n",
    "    return surv_rate"
   ]
  },
  {
   "cell_type": "code",
   "execution_count": 30,
   "id": "e3b9814a",
   "metadata": {},
   "outputs": [
    {
     "data": {
      "text/plain": [
       "0.6296296296296297"
      ]
     },
     "execution_count": 30,
     "metadata": {},
     "output_type": "execute_result"
    }
   ],
   "source": [
    "# Pclass1 存活率\n",
    "survive_rate(survived_set, pclass1_set)"
   ]
  },
  {
   "cell_type": "code",
   "execution_count": 34,
   "id": "04a550a6",
   "metadata": {
    "scrolled": true
   },
   "outputs": [
    {
     "data": {
      "text/plain": [
       "0.47282608695652173"
      ]
     },
     "execution_count": 34,
     "metadata": {},
     "output_type": "execute_result"
    }
   ],
   "source": [
    "# Pclass2 存活率\n",
    "survive_rate(survived_set, pclass2_set)"
   ]
  },
  {
   "cell_type": "code",
   "execution_count": 32,
   "id": "a91f02e1",
   "metadata": {},
   "outputs": [
    {
     "data": {
      "text/plain": [
       "0.24236252545824846"
      ]
     },
     "execution_count": 32,
     "metadata": {},
     "output_type": "execute_result"
    }
   ],
   "source": [
    "# Pclass3 存活率\n",
    "survive_rate(survived_set, pclass3_set)"
   ]
  },
  {
   "cell_type": "markdown",
   "id": "55592d0e",
   "metadata": {},
   "source": [
    "### 結論\n",
    "\n",
    "艙位越高級，存活率越高"
   ]
  },
  {
   "cell_type": "markdown",
   "id": "6f95abc7",
   "metadata": {},
   "source": [
    "# 各艙位死亡人數及名單"
   ]
  },
  {
   "cell_type": "code",
   "execution_count": 55,
   "id": "e0347120",
   "metadata": {},
   "outputs": [
    {
     "name": "stdout",
     "output_type": "stream",
     "text": [
      "Pclass1 的死亡人數為:  80 \n",
      "\n",
      "\n",
      "Pclass1 的死亡名單: \n",
      "['Brewe, Dr. Arthur Jackson', 'Williams-Lambert, Mr. Fletcher Fellows', 'Cavendish, Mr. Tyrell William', 'Taussig, Mr. Emil', 'Guggenheim, Mr. Benjamin', 'Baxter, Mr. Quigg Edmond', 'Colley, Mr. Edward Pomeroy', 'Fortune, Mr. Mark', 'Kent, Mr. Edward Austin', 'Meyer, Mr. Edgar Joseph', 'Widener, Mr. Harry Elkins', 'Uruchurtu, Don. Manuel E', 'Lewy, Mr. Ervin G', 'Cairns, Mr. Alexander', 'Carrau, Mr. Francisco M', 'Clifford, Mr. George Quincy', 'Artagaveytia, Mr. Ramon', 'Reuchlin, Jonkheer. John George', 'Harris, Mr. Henry Birkhardt', 'Natsch, Mr. Charles H']\n"
     ]
    }
   ],
   "source": [
    "# pclass3_df 中有而 survived_df 中沒有的，i.e.pclass3的死亡名單\n",
    "difference_set_pclass1 = pclass1_set - survived_set\n",
    "\n",
    "print(\"Pclass1 的死亡人數為: \", len(difference_set_pclass1), '\\n\\n')\n",
    "\n",
    "print('Pclass1 的死亡名單: ')\n",
    "print(list(difference_set_pclass1)[:20])"
   ]
  },
  {
   "cell_type": "code",
   "execution_count": 56,
   "id": "5af53d9d",
   "metadata": {},
   "outputs": [
    {
     "name": "stdout",
     "output_type": "stream",
     "text": [
      "Pclass2 的死亡人數為:  97 \n",
      "\n",
      "\n",
      "Pclass2 的死亡名單: \n",
      "['Jarvis, Mr. John Denzil', 'Navratil, Mr. Michel (\"Louis M Hoffman\")', 'Turpin, Mr. William John Robert', 'Bateman, Rev. Robert James', 'Slemen, Mr. Richard James', 'Andrew, Mr. Edgardo Samuel', 'Kantor, Mr. Sinai', 'Cunningham, Mr. Alfred Fleming', 'Gill, Mr. John William', 'Fahlstrom, Mr. Arne Jonas', 'Hart, Mr. Benjamin', 'Sedgwick, Mr. Charles Frederick Waddington', 'Knight, Mr. Robert J', 'Parkes, Mr. Francis \"Frank\"', 'Gillespie, Mr. William Henry', 'Harris, Mr. Walter', 'Leyson, Mr. Robert William Norman', 'Yrois, Miss. Henriette (\"Mrs Harbeck\")', 'Sjostedt, Mr. Ernst Adolf', 'Davies, Mr. Charles Henry']\n"
     ]
    }
   ],
   "source": [
    "# pclass3_df 中有而 survived_df 中沒有的，i.e.pclass3的死亡名單\n",
    "difference_set_pclass2 = pclass2_set - survived_set\n",
    "print(\"Pclass2 的死亡人數為: \", len(difference_set_pclass2), '\\n\\n')\n",
    "\n",
    "\n",
    "print('Pclass2 的死亡名單: ')\n",
    "print(list(difference_set_pclass2)[:20])"
   ]
  },
  {
   "cell_type": "code",
   "execution_count": 57,
   "id": "b6a090d8",
   "metadata": {},
   "outputs": [
    {
     "name": "stdout",
     "output_type": "stream",
     "text": [
      "Pclass3 的死亡人數為:  372 \n",
      "\n",
      "\n",
      "Pclass3 的死亡名單: \n",
      "['Dimic, Mr. Jovan', 'Celotti, Mr. Francesco', 'Harknett, Miss. Alice Phoebe', 'Johansson, Mr. Karl Johan', 'Mernagh, Mr. Robert', 'Bourke, Mr. John', 'Adahl, Mr. Mauritz Nils Martin', 'van Billiard, Mr. Austin Blyler', 'Andersson, Miss. Ellis Anna Maria', 'Morley, Mr. William', 'Kink, Mr. Vincenz', 'Klasen, Mr. Klas Albin', 'Elias, Mr. Dibo', 'Peduzzi, Mr. Joseph', 'Goodwin, Master. Sidney Leonard', 'Perkin, Mr. John Henry', 'Berglund, Mr. Karl Ivar Sven', 'Ling, Mr. Lee', 'Johnston, Miss. Catherine Helen \"Carrie\"', 'Lennon, Mr. Denis']\n"
     ]
    }
   ],
   "source": [
    "# pclass3_df 中有而 survived_df 中沒有的，i.e.pclass3的死亡名單\n",
    "difference_set_pclass3 = pclass3_set - survived_set\n",
    "print(\"Pclass3 的死亡人數為: \", len(difference_set_pclass3), '\\n\\n')\n",
    "\n",
    "print('Pclass3 的死亡名單: ')\n",
    "print(list(difference_set_pclass3)[:20])"
   ]
  },
  {
   "cell_type": "code",
   "execution_count": null,
   "id": "d0dda616",
   "metadata": {},
   "outputs": [],
   "source": []
  }
 ],
 "metadata": {
  "kernelspec": {
   "display_name": "Python 3 (ipykernel)",
   "language": "python",
   "name": "python3"
  },
  "language_info": {
   "codemirror_mode": {
    "name": "ipython",
    "version": 3
   },
   "file_extension": ".py",
   "mimetype": "text/x-python",
   "name": "python",
   "nbconvert_exporter": "python",
   "pygments_lexer": "ipython3",
   "version": "3.8.16"
  }
 },
 "nbformat": 4,
 "nbformat_minor": 5
}
