{
 "cells": [
  {
   "cell_type": "markdown",
   "id": "b102f103",
   "metadata": {},
   "source": [
    "# 讀入資料"
   ]
  },
  {
   "cell_type": "code",
   "execution_count": 1,
   "id": "f7e5a95a",
   "metadata": {},
   "outputs": [],
   "source": [
    "import pandas as pd"
   ]
  },
  {
   "cell_type": "code",
   "execution_count": 3,
   "id": "4353c056",
   "metadata": {},
   "outputs": [],
   "source": [
    "df = pd.read_csv('titanic.csv')"
   ]
  },
  {
   "cell_type": "code",
   "execution_count": 4,
   "id": "5bde7e4d",
   "metadata": {},
   "outputs": [
    {
     "data": {
      "text/html": [
       "<div>\n",
       "<style scoped>\n",
       "    .dataframe tbody tr th:only-of-type {\n",
       "        vertical-align: middle;\n",
       "    }\n",
       "\n",
       "    .dataframe tbody tr th {\n",
       "        vertical-align: top;\n",
       "    }\n",
       "\n",
       "    .dataframe thead th {\n",
       "        text-align: right;\n",
       "    }\n",
       "</style>\n",
       "<table border=\"1\" class=\"dataframe\">\n",
       "  <thead>\n",
       "    <tr style=\"text-align: right;\">\n",
       "      <th></th>\n",
       "      <th>PassengerId</th>\n",
       "      <th>Survived</th>\n",
       "      <th>Pclass</th>\n",
       "      <th>Name</th>\n",
       "      <th>Sex</th>\n",
       "      <th>Age</th>\n",
       "      <th>SibSp</th>\n",
       "      <th>Parch</th>\n",
       "      <th>Ticket</th>\n",
       "      <th>Fare</th>\n",
       "      <th>Cabin</th>\n",
       "      <th>Embarked</th>\n",
       "    </tr>\n",
       "  </thead>\n",
       "  <tbody>\n",
       "    <tr>\n",
       "      <th>0</th>\n",
       "      <td>1</td>\n",
       "      <td>0</td>\n",
       "      <td>3</td>\n",
       "      <td>Braund, Mr. Owen Harris</td>\n",
       "      <td>male</td>\n",
       "      <td>22</td>\n",
       "      <td>1</td>\n",
       "      <td>0</td>\n",
       "      <td>A/5 21171</td>\n",
       "      <td>7.250</td>\n",
       "      <td>-</td>\n",
       "      <td>S</td>\n",
       "    </tr>\n",
       "    <tr>\n",
       "      <th>1</th>\n",
       "      <td>2</td>\n",
       "      <td>1</td>\n",
       "      <td>1</td>\n",
       "      <td>Cumings, Mrs. John Bradley (Florence Briggs Th...</td>\n",
       "      <td>female</td>\n",
       "      <td>38</td>\n",
       "      <td>1</td>\n",
       "      <td>0</td>\n",
       "      <td>PC 17599</td>\n",
       "      <td>71.283</td>\n",
       "      <td>C85</td>\n",
       "      <td>C</td>\n",
       "    </tr>\n",
       "    <tr>\n",
       "      <th>2</th>\n",
       "      <td>3</td>\n",
       "      <td>1</td>\n",
       "      <td>3</td>\n",
       "      <td>Heikkinen, Miss. Laina</td>\n",
       "      <td>female</td>\n",
       "      <td>26</td>\n",
       "      <td>0</td>\n",
       "      <td>0</td>\n",
       "      <td>STON/O2. 3101282</td>\n",
       "      <td>7.925</td>\n",
       "      <td>-</td>\n",
       "      <td>S</td>\n",
       "    </tr>\n",
       "    <tr>\n",
       "      <th>3</th>\n",
       "      <td>4</td>\n",
       "      <td>1</td>\n",
       "      <td>1</td>\n",
       "      <td>Futrelle, Mrs. Jacques Heath (Lily May Peel)</td>\n",
       "      <td>female</td>\n",
       "      <td>35</td>\n",
       "      <td>1</td>\n",
       "      <td>0</td>\n",
       "      <td>113803</td>\n",
       "      <td>53.100</td>\n",
       "      <td>C123</td>\n",
       "      <td>S</td>\n",
       "    </tr>\n",
       "    <tr>\n",
       "      <th>4</th>\n",
       "      <td>5</td>\n",
       "      <td>0</td>\n",
       "      <td>3</td>\n",
       "      <td>Allen, Mr. William Henry</td>\n",
       "      <td>male</td>\n",
       "      <td>35</td>\n",
       "      <td>0</td>\n",
       "      <td>0</td>\n",
       "      <td>373450</td>\n",
       "      <td>8.050</td>\n",
       "      <td>-</td>\n",
       "      <td>S</td>\n",
       "    </tr>\n",
       "  </tbody>\n",
       "</table>\n",
       "</div>"
      ],
      "text/plain": [
       "   PassengerId  Survived  Pclass  \\\n",
       "0            1         0       3   \n",
       "1            2         1       1   \n",
       "2            3         1       3   \n",
       "3            4         1       1   \n",
       "4            5         0       3   \n",
       "\n",
       "                                                Name     Sex Age  SibSp  \\\n",
       "0                            Braund, Mr. Owen Harris    male  22      1   \n",
       "1  Cumings, Mrs. John Bradley (Florence Briggs Th...  female  38      1   \n",
       "2                             Heikkinen, Miss. Laina  female  26      0   \n",
       "3       Futrelle, Mrs. Jacques Heath (Lily May Peel)  female  35      1   \n",
       "4                           Allen, Mr. William Henry    male  35      0   \n",
       "\n",
       "   Parch            Ticket    Fare Cabin Embarked  \n",
       "0      0         A/5 21171   7.250     -        S  \n",
       "1      0          PC 17599  71.283   C85        C  \n",
       "2      0  STON/O2. 3101282   7.925     -        S  \n",
       "3      0            113803  53.100  C123        S  \n",
       "4      0            373450   8.050     -        S  "
      ]
     },
     "execution_count": 4,
     "metadata": {},
     "output_type": "execute_result"
    }
   ],
   "source": [
    "df.head()"
   ]
  },
  {
   "cell_type": "code",
   "execution_count": 14,
   "id": "dd923c3e",
   "metadata": {},
   "outputs": [
    {
     "name": "stderr",
     "output_type": "stream",
     "text": [
      "C:\\Users\\micha\\AppData\\Local\\Temp\\ipykernel_14040\\4122548690.py:1: SettingWithCopyWarning: \n",
      "A value is trying to be set on a copy of a slice from a DataFrame\n",
      "\n",
      "See the caveats in the documentation: https://pandas.pydata.org/pandas-docs/stable/user_guide/indexing.html#returning-a-view-versus-a-copy\n",
      "  survived_df['Name'] = df[df['Survived'] == 1]['Name']\n"
     ]
    },
    {
     "data": {
      "text/plain": [
       "1      Cumings, Mrs. John Bradley (Florence Briggs Th...\n",
       "2                                 Heikkinen, Miss. Laina\n",
       "3           Futrelle, Mrs. Jacques Heath (Lily May Peel)\n",
       "8      Johnson, Mrs. Oscar W (Elisabeth Vilhelmina Berg)\n",
       "9                    Nasser, Mrs. Nicholas (Adele Achem)\n",
       "                             ...                        \n",
       "875                     Najib, Miss. Adele Kiamie \"Jane\"\n",
       "879        Potter, Mrs. Thomas Jr (Lily Alexenia Wilson)\n",
       "880         Shelley, Mrs. William (Imanita Parrish Hall)\n",
       "887                         Graham, Miss. Margaret Edith\n",
       "889                                Behr, Mr. Karl Howell\n",
       "Name: Name, Length: 342, dtype: object"
      ]
     },
     "execution_count": 14,
     "metadata": {},
     "output_type": "execute_result"
    }
   ],
   "source": [
    "survived_df['Name'] = df[df['Survived'] == 1]['Name']\n",
    "survived_df['Name']"
   ]
  },
  {
   "cell_type": "code",
   "execution_count": null,
   "id": "f8c3b69d",
   "metadata": {},
   "outputs": [],
   "source": [
    "# 首先，創建一個新的空 DataFrame 或者根據 df 的結構創建一個新的 DataFrame\n",
    "pclass1_df = pd.DataFrame()\n",
    "pclass1_df['Name'] = df[df['Pclass'] == 1]['Name']\n",
    "pclass1_set = set(pclass1_df['Name'])"
   ]
  },
  {
   "cell_type": "code",
   "execution_count": null,
   "id": "25228620",
   "metadata": {},
   "outputs": [],
   "source": [
    "# 首先，創建一個新的空 DataFrame 或者根據 df 的結構創建一個新的 DataFrame\n",
    "pclass2_df = pd.DataFrame()\n",
    "pclass2_df['Name'] = df[df['Pclass'] == 1]['Name']\n",
    "pclass2_set = set(pclass2_df['Name'])"
   ]
  },
  {
   "cell_type": "code",
   "execution_count": 38,
   "id": "e2c5c1d3",
   "metadata": {
    "scrolled": false
   },
   "outputs": [
    {
     "name": "stderr",
     "output_type": "stream",
     "text": [
      "C:\\Users\\micha\\AppData\\Local\\Temp\\ipykernel_14040\\1991194755.py:1: SettingWithCopyWarning: \n",
      "A value is trying to be set on a copy of a slice from a DataFrame\n",
      "\n",
      "See the caveats in the documentation: https://pandas.pydata.org/pandas-docs/stable/user_guide/indexing.html#returning-a-view-versus-a-copy\n",
      "  pclass3_df['Name'] = df[df['Pclass'] == 3]['Name']\n"
     ]
    },
    {
     "data": {
      "text/plain": [
       "0                       Braund, Mr. Owen Harris\n",
       "2                        Heikkinen, Miss. Laina\n",
       "4                      Allen, Mr. William Henry\n",
       "5                              Moran, Mr. James\n",
       "7                Palsson, Master. Gosta Leonard\n",
       "                         ...                   \n",
       "882                Dahlberg, Miss. Gerda Ulrika\n",
       "884                      Sutehall, Mr. Henry Jr\n",
       "885        Rice, Mrs. William (Margaret Norton)\n",
       "888    Johnston, Miss. Catherine Helen \"Carrie\"\n",
       "890                         Dooley, Mr. Patrick\n",
       "Name: Name, Length: 491, dtype: object"
      ]
     },
     "execution_count": 38,
     "metadata": {},
     "output_type": "execute_result"
    }
   ],
   "source": [
    "pclass3_df['Name'] = df[df['Pclass'] == 3]['Name']\n",
    "pclass3_df['Name']"
   ]
  },
  {
   "cell_type": "code",
   "execution_count": 26,
   "id": "0a81a2f5",
   "metadata": {},
   "outputs": [
    {
     "name": "stdout",
     "output_type": "stream",
     "text": [
      "<class 'pandas.core.series.Series'>\n",
      "Index: 492 entries, 0 to Name\n",
      "Series name: Name\n",
      "Non-Null Count  Dtype \n",
      "--------------  ----- \n",
      "492 non-null    object\n",
      "dtypes: object(1)\n",
      "memory usage: 23.9+ KB\n"
     ]
    }
   ],
   "source": [
    "pclass3_df.info()"
   ]
  },
  {
   "cell_type": "code",
   "execution_count": null,
   "id": "5e6355c7",
   "metadata": {},
   "outputs": [],
   "source": [
    "# 將DataFrame轉換為集合\n",
    "survived_set = set(survived_df['Name'])\n",
    "pclass3_set = set(pclass3_df['Name'])"
   ]
  },
  {
   "cell_type": "markdown",
   "id": "ed0c0d28",
   "metadata": {},
   "source": [
    "# 聯集 (以下均以pclass3_set做操作)"
   ]
  },
  {
   "cell_type": "code",
   "execution_count": 27,
   "id": "603cfce6",
   "metadata": {
    "scrolled": false
   },
   "outputs": [
    {
     "name": "stdout",
     "output_type": "stream",
     "text": [
      "聯集結果：\n",
      "\n",
      "元素個數為:  714 \n",
      "\n",
      "{'Beane, Mrs. Edward (Ethel Clarke)', 'Barbara, Mrs. (Catherine David)', 'Windelov, Mr. Einar', 'Mitkoff, Mr. Mito', 'Petterson, Mr. Johan Emil', 'Arnold-Franchi, Mr. Josef', 'Hassab, Mr. Hammad', 'Compton, Miss. Sara Rebecca', 'Johannesen-Bratthammer, Mr. Bernt', 'Dean, Master. Bertram Vere', 'Frauenthal, Dr. Henry William', 'Leeni, Mr. Fahim (\"Philip Zenni\")', 'Goncalves, Mr. Manuel Estanslas', 'Peduzzi, Mr. Joseph', \"O'Connor, Mr. Maurice\", 'Samaan, Mr. Youssef', 'Mangan, Miss. Mary', 'Celotti, Mr. Francesco', 'van Billiard, Mr. Austin Blyler', 'Beckwith, Mr. Richard Leonard', 'Healy, Miss. Hanora \"Nora\"', 'Johansson, Mr. Karl Johan', 'Tornquist, Mr. William Henry', 'Vanden Steen, Mr. Leo Peter', 'Graham, Mrs. William Thompson (Edith Junkins)', 'Lefebre, Master. Henry Forbes', 'Thayer, Mrs. John Borland (Marian Longstreth Morris)', 'Leitch, Miss. Jessie Wills', 'Olsen, Mr. Ole Martin', 'Mannion, Miss. Margareth', 'Boulos, Miss. Nourelain', 'Bradley, Mr. George (\"George Arthur Brayton\")', 'Duane, Mr. Frank', 'Sawyer, Mr. Frederick Charles', 'Jensen, Mr. Hans Peder', 'Cleaver, Miss. Alice', 'Mellinger, Miss. Madeleine Violet', 'Moore, Mr. Leonard Charles', 'Nosworthy, Mr. Richard Cater', 'Farrell, Mr. James', 'Jardin, Mr. Jose Neto', 'Johnston, Mr. Andrew G', 'Webber, Mr. James', 'Skoog, Mrs. William (Anna Bernhardina Karlsson)', 'Petroff, Mr. Nedelio', 'Toufik, Mr. Nakli', 'Garside, Miss. Ethel', 'Jensen, Mr. Svend Lauritz', 'Sundman, Mr. Johan Julian', 'Andersson, Miss. Ingeborg Constanzia', 'Mayne, Mlle. Berthe Antonine (\"Mrs de Villiers\")', 'Andersson, Miss. Ellis Anna Maria', 'Leader, Dr. Alice (Farnham)', 'Adahl, Mr. Mauritz Nils Martin', 'Robert, Mrs. Edward Scott (Elisabeth Walton McMillan)', 'Rothschild, Mrs. Martin (Elizabeth L. Barrett)', 'Danbom, Mrs. Ernst Gilbert (Anna Sigrid Maria Brogren)', 'Tomlin, Mr. Ernest Portage', 'Staneff, Mr. Ivan', 'Taussig, Miss. Ruth', 'Harris, Mrs. Henry Birkhardt (Irene Wallach)', 'Moran, Mr. James', 'Saalfeld, Mr. Adolphe', 'Young, Miss. Marie Grice', 'Elias, Mr. Dibo', 'Ali, Mr. William', 'Lovell, Mr. John Hall (\"Henry\")', 'Bing, Mr. Lee', 'Perreault, Miss. Anne', 'Scanlan, Mr. James', 'Lang, Mr. Fang', 'Lines, Miss. Mary Conover', 'Newell, Miss. Madeleine', 'Fortune, Miss. Alice Elizabeth', 'Taylor, Mrs. Elmer Zebley (Juliet Cummins Wright)', 'Ford, Mr. William Neal', 'Vande Walle, Mr. Nestor Cyriel', \"O'Connell, Mr. Patrick D\", 'Johnson, Master. Harold Theodor', 'Pekoniemi, Mr. Edvard', 'Braund, Mr. Lewis Richard', 'Andersson, Miss. Ebba Iris Alfrida', 'Behr, Mr. Karl Howell', 'Goodwin, Master. William Frederick', 'Rice, Master. George Hugh', 'Masselmani, Mrs. Fatima', 'Renouf, Mrs. Peter Henry (Lillian Jefferys)', 'Palsson, Mrs. Nils (Alma Cornelia Berglund)', 'Penasco y Castellana, Mrs. Victor de Satode (Maria Josefa Perez de Soto y Vallejo)', 'Backstrom, Mrs. Karl Alfred (Maria Mathilda Gustafsson)', 'Crosby, Miss. Harriet R', 'Foo, Mr. Choong', 'Chambers, Mr. Norman Campbell', 'Lindblom, Miss. Augusta Charlotta', 'Dick, Mr. Albert Adrian', 'Carter, Master. William Thornton II', 'Rush, Mr. Alfred George John', 'Meo, Mr. Alfonzo', 'Davies, Master. John Morgan Jr', 'Laleff, Mr. Kristo', 'Stranden, Mr. Juho', 'Futrelle, Mrs. Jacques Heath (Lily May Peel)', 'Bishop, Mrs. Dickinson H (Helen Walton)', 'Oreskovic, Mr. Luka', 'Harper, Miss. Annie Jessie \"Nina\"', 'Panula, Mr. Ernesti Arvid', 'Frolicher, Miss. Hedwig Margaritha', 'Hoyt, Mr. Frederick Maxfield', 'Drew, Mrs. James Vivian (Lulu Thorne Christian)', 'Olsson, Mr. Nils Johan Goransson', 'Williams, Mr. Charles Eugene', 'O\\'Brien, Mrs. Thomas (Johanna \"Hannah\" Godfrey)', 'Harris, Mr. George', 'Herman, Miss. Alice', 'Goodwin, Miss. Lillian Amy', 'Jussila, Miss. Katriina', 'Dick, Mrs. Albert Adrian (Vera Gillespie)', 'Panula, Master. Juha Niilo', 'Holm, Mr. John Fredrik Alexander', 'Van Impe, Mrs. Jean Baptiste (Rosalie Paula Govaert)', 'Willey, Mr. Edward', 'Haas, Miss. Aloisia', 'Lesurer, Mr. Gustave J', 'Duff Gordon, Lady. (Lucille Christiana Sutherland) (\"Mrs Morgan\")', \"O'Sullivan, Miss. Bridget Mary\", 'Lemberopolous, Mr. Peter L', 'Bazzani, Miss. Albina', 'Sage, Miss. Constance Gladys', 'Moubarek, Master. Gerios', 'Panula, Mr. Jaako Arnold', 'McCoy, Mr. Bernard', 'Ohman, Miss. Velin', 'McDermott, Miss. Brigdet Delia', 'Sivola, Mr. Antti Wilhelm', 'Lindqvist, Mr. Eino William', 'Goodwin, Master. Harold Victor', 'Gustafsson, Mr. Karl Gideon', 'Rouse, Mr. Richard Henry', 'de Mulder, Mr. Theodore', 'Pavlovic, Mr. Stefo', 'Svensson, Mr. Olof', 'Silven, Miss. Lyyli Karoliina', 'Shorney, Mr. Charles Joseph', 'Panula, Master. Urho Abraham', 'Davis, Miss. Mary', 'Murdlin, Mr. Joseph', 'Hanna, Mr. Mansour', 'Vestrom, Miss. Hulda Amanda Adolfina', 'Abbott, Mrs. Stanton (Rosa Hunt)', 'Pears, Mrs. Thomas (Edith Wearne)', 'Carter, Mr. William Ernest', 'Markun, Mr. Johann', 'Anderson, Mr. Harry', 'Yousseff, Mr. Gerious', 'Cameron, Miss. Clear Annie', 'Moor, Master. Meier', 'Sage, Mr. Douglas Bullen', 'Kenyon, Mrs. Frederick R (Marion)', 'Sage, Mr. George John Jr', 'McNamee, Mr. Neal', 'Hamalainen, Master. Viljo', 'Hogeboom, Mrs. John C (Anna Andrews)', 'Rosblom, Mrs. Viktor (Helena Wilhelmina)', 'Bonnell, Miss. Elizabeth', 'Berglund, Mr. Karl Ivar Sven', 'Daly, Mr. Eugene Patrick', 'Mallet, Master. Andre', 'Fortune, Miss. Mabel Helen', 'Baclini, Miss. Helene Barbara', 'Boulos, Mr. Hanna', 'Braund, Mr. Owen Harris', 'Cook, Mr. Jacob', 'Kassem, Mr. Fared', 'Johnson, Mr. Alfred', 'Hays, Mrs. Charles Melville (Clara Jennings Gregg)', 'Thomas, Master. Assad Alexander', 'Lievens, Mr. Rene Aime', 'Serepeca, Miss. Augusta', 'Endres, Miss. Caroline Louise', 'Harknett, Miss. Alice Phoebe', 'Beavan, Mr. William Thomas', 'Hoyt, Mrs. Frederick Maxfield (Jane Anne Forby)', 'Meyer, Mrs. Edgar Joseph (Leila Saks)', 'Goldsmith, Master. Frank John William \"Frankie\"', 'Soholt, Mr. Peter Andreas Lauritz Andersen', 'Ivanoff, Mr. Kanio', 'Moutal, Mr. Rahamin Haim', 'Lehmann, Miss. Bertha', 'Strandberg, Miss. Ida Sofia', 'Leonard, Mr. Lionel', 'Henry, Miss. Delia', 'Toomey, Miss. Ellen', 'Thorneycroft, Mrs. Percival (Florence Kate White)', 'Harmer, Mr. Abraham (David Lishin)', 'Smith, Miss. Marion Elsie', 'Lester, Mr. James', 'Nasser, Mrs. Nicholas (Adele Achem)', 'Larsson, Mr. Bengt Edvin', 'Brown, Mrs. Thomas William Solomon (Elizabeth Catherine Ford)', 'O\\'Dwyer, Miss. Ellen \"Nellie\"', 'Williams, Mr. Howard Hugh \"Harry\"', 'Canavan, Miss. Mary', 'Andersson, Mrs. Anders Johan (Alfrida Konstantia Brogren)', 'Horgan, Mr. John', 'Bengtsson, Mr. John Viktor', 'Carter, Miss. Lucile Polk', 'Moran, Miss. Bertha', 'Glynn, Miss. Mary Agatha', 'Asplund, Mrs. Carl Oscar (Selma Augusta Emilia Johansson)', 'Palsson, Miss. Torborg Danira', 'Clarke, Mrs. Charles V (Ada Maria Winfield)', 'Maioni, Miss. Roberta', 'Oreskovic, Miss. Marija', 'Andrews, Miss. Kornelia Theodosia', 'Caldwell, Mrs. Albert Francis (Sylvia Mae Harbaugh)', 'Quick, Mrs. Frederick Charles (Jane Richards)', 'Nye, Mrs. (Elizabeth Ramell)', 'Cor, Mr. Liudevit', 'Lam, Mr. Len', 'Carr, Miss. Helen \"Ellen\"', 'Sagesser, Mlle. Emma', \"O'Driscoll, Miss. Bridget\", 'Kelly, Mrs. Florence \"Fannie\"', 'Eustis, Miss. Elizabeth Mussey', 'Mernagh, Mr. Robert', 'Skoog, Miss. Margit Elizabeth', 'Dakic, Mr. Branko', 'Lahoud, Mr. Sarkis', 'Danbom, Mr. Ernst Gilbert', 'Caram, Mrs. Joseph (Maria Elias)', 'Kimball, Mr. Edwin Nelson Jr', 'Vander Planke, Mrs. Julius (Emelia Maria Vandemoortele)', 'Davies, Mr. Alfred J', 'Vander Planke, Miss. Augusta Maria', 'Kilgannon, Mr. Thomas J', 'Corn, Mr. Harry', 'Culumovic, Mr. Jeso', 'Hosono, Mr. Masabumi', 'Herman, Mrs. Samuel (Jane Laver)', 'Woolner, Mr. Hugh', 'Hocking, Mrs. Elizabeth (Eliza Needs)', 'Fischer, Mr. Eberhard Thelander', 'Swift, Mrs. Frederick Joel (Margaret Welles Barron)', 'Dimic, Mr. Jovan', 'Rice, Master. Eric', 'Peuchen, Major. Arthur Godfrey', 'Andersson, Mr. Anders Johan', 'Skoog, Mr. Wilhelm', 'Charters, Mr. David', 'Zimmerman, Mr. Leo', 'Taylor, Mr. Elmer Zebley', 'Lindahl, Miss. Agda Thorilda Viktoria', 'Maenpaa, Mr. Matti Alexanteri', 'Brown, Miss. Amelia \"Mildred\"', 'Sheerlinck, Mr. Jan Baptist', 'Ford, Miss. Robina Maggie \"Ruby\"', 'Christy, Miss. Julie Rachel', 'Patchett, Mr. George', 'Shellard, Mr. Frederick William', 'Harper, Mrs. Henry Sleeper (Myna Haxtun)', 'Faunthorpe, Mrs. Lizzie (Elizabeth Anne Wilkinson)', 'Beckwith, Mrs. Richard Leonard (Sallie Monypeny)', 'Andersson, Master. Sigvard Harald Elias', 'Allum, Mr. Owen George', 'Chip, Mr. Chang', 'Holverson, Mrs. Alexander Oskar (Mary Aline Towner)', 'Razi, Mr. Raihed', 'Marechal, Mr. Pierre', 'Sloper, Mr. William Thompson', 'Cherry, Miss. Gladys', 'Longley, Miss. Gretchen Fiske', 'Gallagher, Mr. Martin', 'Peter, Mrs. Catherine (Catherine Rizk)', 'Danoff, Mr. Yoto', 'Stankovic, Mr. Ivan', 'Angle, Mrs. William A (Florence \"Mary\" Agnes Hughes)', 'O\\'Leary, Miss. Hanora \"Norah\"', 'Goodwin, Master. Sidney Leonard', 'Torber, Mr. Ernst William', 'Crease, Mr. Ernest James', 'Doling, Mrs. John T (Ada Julia Bone)', 'Salonen, Mr. Johan Werner', 'Panula, Mrs. Juha (Maria Emilia Ojala)', 'Sirota, Mr. Maurice', 'Leinonen, Mr. Antti Gustaf', 'Vande Velde, Mr. Johannes Joseph', 'Dahl, Mr. Karl Edwart', 'Coutts, Master. William Loch \"William\"', 'Bowerman, Miss. Elsie Edith', 'Gustafsson, Mr. Alfred Ossian', 'Jussila, Mr. Eiriik', 'Somerton, Mr. Francis William', 'Hirvonen, Miss. Hildur E', 'Robins, Mrs. Alexander A (Grace Charity Laury)', 'McGowan, Miss. Anna \"Annie\"', 'Buss, Miss. Kate', 'Murphy, Miss. Katherine \"Kate\"', 'Osman, Mrs. Mara', 'Ali, Mr. Ahmed', 'Pasic, Mr. Jakob', 'Hagland, Mr. Ingvald Olai Olsen', 'Barkworth, Mr. Algernon Henry Wilson', 'Sage, Miss. Dorothy Edith \"Dolly\"', 'Nilsson, Miss. Helmina Josefina', 'Weisz, Mrs. Leopold (Mathilde Francoise Pede)', 'Asim, Mr. Adola', 'Badt, Mr. Mohamed', 'Doharr, Mr. Tannous', 'Christmann, Mr. Emil', 'Olsvigen, Mr. Thor Anderson', 'Ridsdale, Miss. Lucy', 'Johnson, Mr. Malkolm Joackim', 'Sjoblom, Miss. Anna Sofia', 'Richards, Master. George Sibley', 'Calderhead, Mr. Edward Pennington', 'Bostandyeff, Mr. Guentcho', 'Flynn, Mr. John Irwin (\"Irving\")', 'Klasen, Mr. Klas Albin', 'Barbara, Miss. Saiide', 'Newell, Miss. Marjorie', 'Allison, Master. Hudson Trevor', 'Turcin, Mr. Stjepan', 'Lundahl, Mr. Johan Svensson', 'Dooley, Mr. Patrick', 'Rothes, the Countess. of (Lucy Noel Martha Dyer-Edwards)', 'Chronopoulos, Mr. Apostolos', 'Abelson, Mrs. Samuel (Hannah Wizosky)', 'Simonius-Blumer, Col. Oberst Alfons', 'Landergren, Miss. Aurora Adelia', 'Ford, Mrs. Edward (Margaret Ann Watson)', 'Waelens, Mr. Achille', 'Moor, Mrs. (Beila)', 'Goldenberg, Mrs. Samuel L (Edwiga Grabowska)', 'Markoff, Mr. Marin', 'Goodwin, Mr. Charles Edward', 'Drazenoic, Mr. Jozef', 'Graham, Miss. Margaret Edith', 'Keefe, Mr. Arthur', 'Ryerson, Miss. Emily Borie', 'Emanuel, Miss. Virginia Ethel', 'Davison, Mrs. Thomas Henry (Mary E Finck)', 'Blank, Mr. Henry', 'Louch, Mrs. Charles Alexander (Alice Adelaide Slow)', 'Padro y Manent, Mr. Julian', 'Karun, Miss. Manca', 'McEvoy, Mr. Michael', 'Gronnestad, Mr. Daniel Danielsen', 'Rintamaki, Mr. Matti', 'Skoog, Miss. Mabel', 'Navratil, Master. Michel M', 'Perkin, Mr. John Henry', 'Hakkarainen, Mrs. Pekka Pietari (Elin Matilda Dolck)', 'Mineff, Mr. Ivan', 'Rekic, Mr. Tido', 'Lobb, Mrs. William Arthur (Cordelia K Stanlick)', 'Keane, Miss. Nora A', 'West, Mrs. Edwy Arthur (Ada Mary Worth)', 'Persson, Mr. Ernst Ulrik', 'de Messemaeker, Mrs. Guillaume Joseph (Emma)', 'Hart, Mr. Henry', 'Lulic, Mr. Nikola', 'Calic, Mr. Jovo', 'Alhomaki, Mr. Ilmari Rudolf', 'Chibnall, Mrs. (Edith Martha Bowerman)', 'Boulos, Mrs. Joseph (Sultana)', 'Wick, Mrs. George Dennick (Mary Hitchcock)', 'Rugg, Miss. Emily', 'Abbott, Mr. Rossmore Edward', 'Dodge, Master. Washington', 'Kalvik, Mr. Johannes Halvorsen', 'Attalah, Miss. Malake', 'Osen, Mr. Olaf Elon', 'Rommetvedt, Mr. Knud Paust', 'Connors, Mr. Patrick', 'Green, Mr. George Henry', 'Laitinen, Miss. Kristina Sofia', 'Stanley, Miss. Amy Zillah Elsie', 'Denkoff, Mr. Mitto', 'Webber, Miss. Susan', 'Sadlier, Mr. Matthew', 'Peters, Miss. Katie', 'Coleff, Mr. Satio', 'Widegren, Mr. Carl/Charles Peter', 'Kallio, Mr. Nikolai Erland', 'Coelho, Mr. Domingos Fernandeo', 'Meanwell, Miss. (Marion Ogden)', 'Ryan, Mr. Patrick', 'Adams, Mr. John', 'Sinkkonen, Miss. Anna', 'Albimona, Mr. Nassef Cassem', 'Stanley, Mr. Edward Roland', 'Thorneycroft, Mr. Percival', 'Ryerson, Miss. Susan Parker \"Suzette\"', 'West, Miss. Constance Mirium', 'Kelly, Miss. Anna Katherine \"Annie Kate\"', 'Saundercock, Mr. William Henry', 'Lobb, Mr. William Arthur', 'Kelly, Mr. James', 'Becker, Master. Richard F', 'Zabour, Miss. Thamine', 'Barton, Mr. David John', 'Rice, Master. Arthur', 'Jerwan, Mrs. Amin S (Marie Marthe Thuillard)', 'Allen, Mr. William Henry', 'Homer, Mr. Harry (\"Mr E Haven\")', 'Troutt, Miss. Edwina Celia \"Winnie\"', 'Cumings, Mrs. John Bradley (Florence Briggs Thayer)', 'Ilett, Miss. Bertha', 'Jensen, Mr. Niels Peder', 'Strom, Mrs. Wilhelm (Elna Matilda Persson)', 'Kraeff, Mr. Theodor', 'Spedden, Mrs. Frederic Oakley (Margaretta Corning Stone)', 'Jonkoff, Mr. Lalio', 'Baxter, Mrs. James (Helene DeLaudeniere Chaput)', 'Moubarek, Master. Halim Gonios (\"William George\")', 'Nenkoff, Mr. Christo', 'Sandstrom, Mrs. Hjalmar (Agnes Charlotta Bengtsson)', 'Yasbeck, Mr. Antoni', 'Becker, Miss. Marion Louise', 'Appleton, Mrs. Edward Dale (Charlotte Lamson)', 'Sdycoff, Mr. Todor', 'Heininen, Miss. Wendla Maria', 'Murphy, Miss. Margaret Jane', 'Potter, Mrs. Thomas Jr (Lily Alexenia Wilson)', 'Goodwin, Mrs. Frederick (Augusta Tyler)', 'Palsson, Master. Gosta Leonard', 'Andreasson, Mr. Paul Edvin', 'Larsson, Mr. August Viktor', 'Thayer, Mr. John Borland Jr', 'Salkjelsvik, Miss. Anna Kristine', 'Cacic, Miss. Marija', \"O'Brien, Mr. Thomas\", 'Thorne, Mrs. Gertrude Maybelle', 'Hansen, Mr. Henrik Juul', 'Andersson, Miss. Sigrid Elisabeth', 'Cacic, Mr. Luka', 'Fleming, Miss. Margaret', 'Bowen, Mr. David John \"Dai\"', 'Ayoub, Miss. Banoura', 'Lefebre, Miss. Mathilde', 'Sirayanian, Mr. Orsen', 'Smiljanic, Mr. Mile', 'Palsson, Miss. Stina Viola', 'Rogers, Mr. William John', 'Tikkanen, Mr. Juho', 'Johnson, Mrs. Oscar W (Elisabeth Vilhelmina Berg)', 'Baclini, Mrs. Solomon (Latifa Qurban)', 'Saad, Mr. Amin', 'Hewlett, Mrs. (Mary D Kingcome) ', 'Hays, Miss. Margaret Bechstein', 'Paulner, Mr. Uscher', 'Vander Planke, Mr. Leo Edmondus', 'Silvey, Mrs. William Baird (Alice Munger)', 'Lam, Mr. Ali', 'Abbing, Mr. Anthony', 'Warren, Mrs. Frank Manley (Anna Sophia Atkinson)', 'Petroff, Mr. Pastcho (\"Pentcho\")', 'Madigan, Miss. Margaret \"Maggie\"', 'Sage, Master. Thomas Henry', 'Richards, Mrs. Sidney (Emily Hocking)', 'Birkeland, Mr. Hans Martin Monsen', 'Rice, Mrs. William (Margaret Norton)', 'Lefebre, Miss. Ida', 'Jermyn, Miss. Annie', 'Rosblom, Mr. Viktor Richard', 'Calic, Mr. Petar', 'Hampe, Mr. Leon', 'Carter, Mrs. William Ernest (Lucile Polk)', 'Hendekovic, Mr. Ignjac', 'Elsbury, Mr. William James', 'Bourke, Miss. Mary', 'Najib, Miss. Adele Kiamie \"Jane\"', 'Johnson, Mr. William Cahoone Jr', 'Coutts, Master. Eden Leslie \"Neville\"', 'Saad, Mr. Khalil', 'Johnson, Miss. Eleanor Ileen', 'Gilinski, Mr. Eliezer', 'Baclini, Miss. Marie Catherine', 'Minahan, Miss. Daisy E', 'Lindell, Mr. Edvard Bengtsson', 'Ford, Miss. Doolina Margaret \"Daisy\"', 'Heikkinen, Miss. Laina', 'Asplund, Miss. Lillian Gertrud', 'Hamalainen, Mrs. William (Anna)', 'Dennis, Mr. Samuel', 'Nirva, Mr. Iisakki Antino Aijo', 'Backstrom, Mr. Karl Alfred', 'McCormack, Mr. Thomas Joseph', 'Morley, Mr. William', 'Cann, Mr. Ernest Charles', 'Cohen, Mr. Gurshon \"Gus\"', 'Petranec, Miss. Matilda', 'Silverthorne, Mr. Spencer Victor', 'Yasbeck, Mrs. Antoni (Selini Alexander)', 'Lefebre, Miss. Jeannie', 'Nicola-Yarred, Master. Elias', 'Trout, Mrs. William H (Jessie L)', 'Risien, Mr. Samuel Beard', 'Elias, Mr. Tannous', 'Odahl, Mr. Nils Martin', 'Vovk, Mr. Janko', 'Andersson, Mr. August Edvard (\"Wennerstrom\")', 'Lemore, Mrs. (Amelia Milley)', 'Collyer, Mrs. Harvey (Charlotte Annie Tate)', 'Sandstrom, Miss. Marguerite Rut', 'Wiklund, Mr. Jakob Alfred', 'Moussa, Mrs. (Mantoura Boulos)', 'Bjornstrom-Steffansson, Mr. Mauritz Hakan', 'Plotcharsky, Mr. Vasil', 'Jacobsohn, Mrs. Sidney Samuel (Amy Frances Christy)', 'Pettersson, Miss. Ellen Natalia', 'Doling, Miss. Elsie', \"O'Brien, Mr. Timothy\", 'Panula, Master. Eino Viljami', 'McGovern, Miss. Mary', 'Greenfield, Mr. William Bertram', 'Sage, Miss. Stella Anna', 'Wells, Miss. Joan', 'Hippach, Mrs. Louis Albert (Ida Sophia Fischer)', 'Karaic, Mr. Milan', 'Andersson, Miss. Erna Alexandra', 'Lurette, Miss. Elise', 'Hansen, Mr. Henry Damsgaard', 'Reynaldo, Ms. Encarnacion', 'Simmons, Mr. John', 'Olsen, Mr. Henry Margido', 'Laroche, Miss. Simonne Marie Anne Andree', 'Myhrman, Mr. Pehr Fabian Oliver Malkolm', 'Hippach, Miss. Jean Gertrude', 'Brocklebank, Mr. William Alfred', 'Ahlin, Mrs. Johan (Johanna Persdotter Larsson)', 'Strom, Miss. Telma Matilda', 'Hassan, Mr. Houssein G N', 'Flynn, Mr. James', 'Keane, Mr. Andrew \"Andy\"', 'Humblen, Mr. Adolf Mathias Nicolai Olsen', 'Moran, Mr. Daniel J', 'Duff Gordon, Sir. Cosmo Edmund (\"Mr Morgan\")', 'Icard, Miss. Amelie', 'Sage, Mr. Frederick', 'Reed, Mr. James George', 'Allen, Miss. Elisabeth Walton', 'Stahelin-Maeglin, Dr. Max', 'Goldsmith, Mr. Frank John', 'Hakkarainen, Mr. Pekka Pietari', 'Andersen-Jensen, Miss. Carla Christine Nielsine', 'Johanson, Mr. Jakob Alfred', 'Olsen, Mr. Karl Siegwart Andreas', 'Pinsky, Mrs. (Rosa)', 'Alexander, Mr. William', 'Turja, Miss. Anna Sofia', 'Daly, Mr. Peter Denis ', 'Edvardsson, Mr. Gustaf Hjalmar', 'Van Impe, Miss. Catharina', 'Kink-Heilmann, Miss. Luise Gretchen', 'Frauenthal, Mrs. Henry William (Clara Heinsheimer)', 'Goldsmith, Mrs. Frank John (Emily Alice Brown)', 'Tobin, Mr. Roger', 'Kiernan, Mr. Philip', 'Youseff, Mr. Gerious', 'Wilhelms, Mr. Charles', 'Honkanen, Miss. Eliina', 'Bidois, Miss. Rosalie', 'Chambers, Mrs. Norman Campbell (Bertha Griggs)', 'Sivic, Mr. Husein', 'Dean, Mr. Bertram Frank', 'Aks, Mrs. Sam (Leah Rosen)', 'Bourke, Mr. John', 'Barber, Miss. Ellen \"Nellie\"', 'Newsom, Miss. Helen Monypeny', 'Cribb, Mr. John Hatfield', 'Karlsson, Mr. Nils August', 'Gilnagh, Miss. Katherine \"Katie\"', 'Johansson, Mr. Gustaf Joel', 'Laroche, Mrs. Joseph (Juliette Marie Louise Lafargue)', 'Quick, Miss. Phyllis May', 'Bystrom, Mrs. (Karolina)', 'Van Impe, Mr. Jean Baptiste', 'Navratil, Master. Edmond Roger', 'Coxon, Mr. Daniel', 'McGough, Mr. James Robert', 'Mellors, Mr. William John', 'Sunderland, Mr. Victor Francis', 'Nankoff, Mr. Minko', 'Madsen, Mr. Fridtjof Arne', 'Hagland, Mr. Konrad Mathias Reiersen', 'Bishop, Mr. Dickinson H', 'Augustsson, Mr. Albert', 'Flynn, Mr. John', 'Jonsson, Mr. Carl', 'Hart, Miss. Eva Miriam', 'Burke, Mr. Jeremiah', 'Williams, Mr. Leslie', 'Stone, Mrs. George Nelson (Martha Evelyn)', 'Todoroff, Mr. Lalio', 'Emir, Mr. Farred Chehab', 'Moss, Mr. Albert Johan', 'Jansson, Mr. Carl Olof', 'Harper, Mr. Henry Sleeper', 'Mullens, Miss. Katherine \"Katie\"', 'Watt, Mrs. James (Elizabeth \"Bessie\" Inglis Milne)', 'Peter, Miss. Anna', 'Astor, Mrs. John Jacob (Madeleine Talmadge Force)', 'Balkic, Mr. Cerin', 'Wiseman, Mr. Phillippe', 'Phillips, Miss. Kate Florence (\"Mrs Kate Louise Phillips Marshall\")', 'Bissette, Miss. Amelia', 'LeRoy, Miss. Bertha', 'Caldwell, Master. Alden Gates', 'Coleff, Mr. Peju', 'Theobald, Mr. Thomas Leonard', 'Francatelli, Miss. Laura Mabel', 'Nicola-Yarred, Miss. Jamila', 'Zabour, Miss. Hileni', 'Dantcheff, Mr. Ristiu', 'Rice, Master. Eugene', 'Goldenberg, Mr. Samuel L', 'Stephenson, Mrs. Walter Bertram (Martha Eustis)', 'Parrish, Mrs. (Lutie Davis)', 'Naidenoff, Mr. Penko', 'Gheorgheff, Mr. Stanio', 'Madill, Miss. Georgette Alexandra', 'Johansson, Mr. Erik', 'Gustafsson, Mr. Johan Birger', 'Yousif, Mr. Wazli', 'Romaine, Mr. Charles Hallace (\"Mr C Rolmane\")', 'Harder, Mr. George Achilles', 'Eklund, Mr. Hans Linus', 'Kink, Mr. Vincenz', 'Hansen, Mr. Claus Peter', 'Collyer, Miss. Marjorie \"Lottie\"', 'Seward, Mr. Frederic Kimber', 'Shutes, Miss. Elizabeth W', 'Nysten, Miss. Anna Sofia', 'Ball, Mrs. (Ada E Hall)', 'Aubart, Mme. Leontine Pauline', 'Mionoff, Mr. Stoytcho', 'de Pelsmaeker, Mr. Alfons', 'Duran y More, Miss. Asuncion', 'Kantor, Mrs. Sinai (Miriam Sternin)', 'Jussila, Miss. Mari Aina', 'Svensson, Mr. Johan', 'Hawksford, Mr. Walter James', 'Moen, Mr. Sigurd Hansen', 'Novel, Mr. Mansouer', 'Cardeza, Mr. Thomas Drake Martinez', 'Slayter, Miss. Hilda Mary', 'Taussig, Mrs. Emil (Tillie Mandelbaum)', 'McMahon, Mr. Martin', 'Niskanen, Mr. Juha', 'Pickard, Mr. Berk (Berk Trembisky)', 'Frolicher-Stehli, Mr. Maxmillian', 'Jalsevac, Mr. Ivan', 'Baclini, Miss. Eugenie', 'Olsson, Miss. Elina', 'Asplund, Master. Clarence Gustaf Hugo', 'Beane, Mr. Edward', 'Gustafsson, Mr. Anders Vilhelm', 'Johnston, Miss. Catherine Helen \"Carrie\"', 'Turkula, Mrs. (Hedwig)', 'Smith, Mr. Thomas', 'Wick, Miss. Mary Natalie', 'Radeff, Mr. Alexander', 'Dahlberg, Miss. Gerda Ulrika', 'Ward, Miss. Anna', 'Nysveen, Mr. Johan Hansen', 'Maisner, Mr. Simon', 'Elias, Mr. Joseph Jr', 'Slocovski, Mr. Selman Francis', 'Ilmakangas, Miss. Pieta Sofia', 'Touma, Mrs. Darwis (Hanne Youssef Razi)', 'Nakid, Mr. Sahid', 'Hart, Mrs. Benjamin (Esther Ada Bloomfield)', 'Arnold-Franchi, Mrs. Josef (Josefine Franchi)', 'Carlsson, Mr. August Sigfrid', 'Brown, Mrs. James Joseph (Margaret Tobin)', 'Shelley, Mrs. William (Imanita Parrish Hall)', 'Garfirth, Mr. John', 'Meek, Mrs. Thomas (Annie Louise Rowley)', 'Nakid, Miss. Maria (\"Mary\")', 'Mellinger, Mrs. (Elizabeth Anne Maidment)', 'Connolly, Miss. Kate', 'Slabenoff, Mr. Petco', 'van Melkebeke, Mr. Philemon', 'Asplund, Master. Edvin Rojj Felix', 'Vander Cruyssen, Mr. Victor', 'Ling, Mr. Lee', 'Morrow, Mr. Thomas Rowan', 'Stoytcheff, Mr. Ilia', 'Beesley, Mr. Lawrence', 'Hedman, Mr. Oskar Arvid', 'Ekstrom, Mr. Johan', 'Bourke, Mrs. John (Catherine)', 'Dowdell, Miss. Elizabeth', 'Ibrahim Shawah, Mr. Yousseff', 'Mockler, Miss. Helen Mary \"Ellie\"', 'Connaghton, Mr. Michael', 'Sutehall, Mr. Henry Jr', 'Lennon, Mr. Denis', 'Betros, Mr. Tannous', 'Attalah, Mr. Sleiman', 'Richards, Master. William Rowe', 'Daniel, Mr. Robert Williams', 'Skoog, Master. Karl Thorsten', 'Barah, Mr. Hanna Assi', 'Hegarty, Miss. Hanora \"Nora\"', 'Mamee, Mr. Hanna', 'Devaney, Miss. Margaret Delia', 'Kelly, Miss. Mary', 'Skoog, Master. Harald', 'Spencer, Mrs. William Augustus (Marie Eugenie)', 'Burns, Miss. Elizabeth Margaret', 'McCoy, Miss. Agnes', 'Dorking, Mr. Edward Arthur'}\n"
     ]
    }
   ],
   "source": [
    "# 聯集\n",
    "union_set = survived_set | pclass3_set\n",
    "\n",
    "print(\"聯集結果：\\n\")\n",
    "print(\"元素個數為: \", len(union_set), '\\n')\n",
    "print(union_set)"
   ]
  },
  {
   "cell_type": "markdown",
   "id": "f6da2260",
   "metadata": {},
   "source": [
    "# 差集"
   ]
  },
  {
   "cell_type": "code",
   "execution_count": 28,
   "id": "a582f6f9",
   "metadata": {},
   "outputs": [
    {
     "name": "stdout",
     "output_type": "stream",
     "text": [
      "survived_df 中有而 pclass3_df 中沒有的差集：\n",
      "\n",
      "元素個數為:  223 \n",
      "\n",
      "{'Beane, Mrs. Edward (Ethel Clarke)', 'Pinsky, Mrs. (Rosa)', 'Hoyt, Mrs. Frederick Maxfield (Jane Anne Forby)', 'Dodge, Master. Washington', 'Daly, Mr. Peter Denis ', 'Meyer, Mrs. Edgar Joseph (Leila Saks)', 'Compton, Miss. Sara Rebecca', 'Hassab, Mr. Hammad', 'Frauenthal, Mrs. Henry William (Clara Heinsheimer)', 'Lehmann, Miss. Bertha', 'Frauenthal, Dr. Henry William', 'Webber, Miss. Susan', 'Toomey, Miss. Ellen', 'Wilhelms, Mr. Charles', 'Bidois, Miss. Rosalie', 'Chambers, Mrs. Norman Campbell (Bertha Griggs)', 'Smith, Miss. Marion Elsie', 'Barber, Miss. Ellen \"Nellie\"', 'Nasser, Mrs. Nicholas (Adele Achem)', 'Sinkkonen, Miss. Anna', 'Newsom, Miss. Helen Monypeny', 'Beckwith, Mr. Richard Leonard', 'Brown, Mrs. Thomas William Solomon (Elizabeth Catherine Ford)', 'Ryerson, Miss. Susan Parker \"Suzette\"', 'West, Miss. Constance Mirium', 'Laroche, Mrs. Joseph (Juliette Marie Louise Lafargue)', 'Quick, Miss. Phyllis May', 'Carter, Miss. Lucile Polk', 'Bystrom, Mrs. (Karolina)', 'Navratil, Master. Edmond Roger', 'Graham, Mrs. William Thompson (Edith Junkins)', 'Becker, Master. Richard F', 'McGough, Mr. James Robert', 'Thayer, Mrs. John Borland (Marian Longstreth Morris)', 'Mellors, Mr. William John', 'Leitch, Miss. Jessie Wills', 'Jerwan, Mrs. Amin S (Marie Marthe Thuillard)', 'Homer, Mr. Harry (\"Mr E Haven\")', 'Troutt, Miss. Edwina Celia \"Winnie\"', 'Bradley, Mr. George (\"George Arthur Brayton\")', 'Clarke, Mrs. Charles V (Ada Maria Winfield)', 'Bishop, Mr. Dickinson H', 'Maioni, Miss. Roberta', 'Cleaver, Miss. Alice', 'Andrews, Miss. Kornelia Theodosia', 'Mellinger, Miss. Madeleine Violet', 'Caldwell, Mrs. Albert Francis (Sylvia Mae Harbaugh)', 'Quick, Mrs. Frederick Charles (Jane Richards)', 'Nye, Mrs. (Elizabeth Ramell)', 'Cumings, Mrs. John Bradley (Florence Briggs Thayer)', 'Ilett, Miss. Bertha', 'Spedden, Mrs. Frederic Oakley (Margaretta Corning Stone)', 'Baxter, Mrs. James (Helene DeLaudeniere Chaput)', 'Hart, Miss. Eva Miriam', 'Sagesser, Mlle. Emma', 'Garside, Miss. Ethel', 'Stone, Mrs. George Nelson (Martha Evelyn)', 'Kelly, Mrs. Florence \"Fannie\"', 'Eustis, Miss. Elizabeth Mussey', 'Becker, Miss. Marion Louise', 'Appleton, Mrs. Edward Dale (Charlotte Lamson)', 'Harper, Mr. Henry Sleeper', 'Potter, Mrs. Thomas Jr (Lily Alexenia Wilson)', 'Mayne, Mlle. Berthe Antonine (\"Mrs de Villiers\")', 'Watt, Mrs. James (Elizabeth \"Bessie\" Inglis Milne)', 'Astor, Mrs. John Jacob (Madeleine Talmadge Force)', 'Leader, Dr. Alice (Farnham)', 'Kimball, Mr. Edwin Nelson Jr', 'Phillips, Miss. Kate Florence (\"Mrs Kate Louise Phillips Marshall\")', 'Robert, Mrs. Edward Scott (Elisabeth Walton McMillan)', 'Rothschild, Mrs. Martin (Elizabeth L. Barrett)', 'Thayer, Mr. John Borland Jr', 'Bissette, Miss. Amelia', 'LeRoy, Miss. Bertha', 'Hosono, Mr. Masabumi', 'Taussig, Miss. Ruth', 'Harris, Mrs. Henry Birkhardt (Irene Wallach)', 'Herman, Mrs. Samuel (Jane Laver)', 'Woolner, Mr. Hugh', 'Hocking, Mrs. Elizabeth (Eliza Needs)', 'Caldwell, Master. Alden Gates', 'Francatelli, Miss. Laura Mabel', 'Thorne, Mrs. Gertrude Maybelle', 'Saalfeld, Mr. Adolphe', 'Swift, Mrs. Frederick Joel (Margaret Welles Barron)', 'Young, Miss. Marie Grice', 'Fleming, Miss. Margaret', 'Peuchen, Major. Arthur Godfrey', 'Wick, Mrs. George Dennick (Mary Hitchcock)', 'Perreault, Miss. Anne', 'Goldenberg, Mr. Samuel L', 'Stephenson, Mrs. Walter Bertram (Martha Eustis)', 'Taylor, Mr. Elmer Zebley', 'Parrish, Mrs. (Lutie Davis)', 'Lines, Miss. Mary Conover', 'Newell, Miss. Madeleine', 'Brown, Miss. Amelia \"Mildred\"', 'Madill, Miss. Georgette Alexandra', 'Fortune, Miss. Alice Elizabeth', 'Taylor, Mrs. Elmer Zebley (Juliet Cummins Wright)', 'Christy, Miss. Julie Rachel', 'Hewlett, Mrs. (Mary D Kingcome) ', 'Hays, Miss. Margaret Bechstein', 'Harper, Mrs. Henry Sleeper (Myna Haxtun)', 'Romaine, Mr. Charles Hallace (\"Mr C Rolmane\")', 'Harder, Mr. George Achilles', 'Behr, Mr. Karl Howell', 'Silvey, Mrs. William Baird (Alice Munger)', 'Faunthorpe, Mrs. Lizzie (Elizabeth Anne Wilkinson)', 'Collyer, Miss. Marjorie \"Lottie\"', 'Warren, Mrs. Frank Manley (Anna Sophia Atkinson)', 'Renouf, Mrs. Peter Henry (Lillian Jefferys)', 'Seward, Mr. Frederic Kimber', 'Penasco y Castellana, Mrs. Victor de Satode (Maria Josefa Perez de Soto y Vallejo)', 'Shutes, Miss. Elizabeth W', 'Beckwith, Mrs. Richard Leonard (Sallie Monypeny)', 'Crosby, Miss. Harriet R', 'Ball, Mrs. (Ada E Hall)', 'Aubart, Mme. Leontine Pauline', 'Richards, Mrs. Sidney (Emily Hocking)', 'Duran y More, Miss. Asuncion', 'Kantor, Mrs. Sinai (Miriam Sternin)', 'Holverson, Mrs. Alexander Oskar (Mary Aline Towner)', 'Chambers, Mr. Norman Campbell', 'Dick, Mr. Albert Adrian', 'Carter, Master. William Thornton II', 'Hawksford, Mr. Walter James', 'Davies, Master. John Morgan Jr', 'Marechal, Mr. Pierre', 'Sloper, Mr. William Thompson', 'Cherry, Miss. Gladys', 'Longley, Miss. Gretchen Fiske', 'Carter, Mrs. William Ernest (Lucile Polk)', 'Cardeza, Mr. Thomas Drake Martinez', 'Futrelle, Mrs. Jacques Heath (Lily May Peel)', 'Bishop, Mrs. Dickinson H (Helen Walton)', 'Slayter, Miss. Hilda Mary', 'Taussig, Mrs. Emil (Tillie Mandelbaum)', 'Harper, Miss. Annie Jessie \"Nina\"', 'Frolicher-Stehli, Mr. Maxmillian', 'Frolicher, Miss. Hedwig Margaritha', 'Angle, Mrs. William A (Florence \"Mary\" Agnes Hughes)', 'Hoyt, Mr. Frederick Maxfield', 'Beane, Mr. Edward', 'Drew, Mrs. James Vivian (Lulu Thorne Christian)', 'Doling, Mrs. John T (Ada Julia Bone)', 'Minahan, Miss. Daisy E', 'Williams, Mr. Charles Eugene', 'Hamalainen, Mrs. William (Anna)', 'Bowerman, Miss. Elsie Edith', 'Harris, Mr. George', 'Herman, Miss. Alice', 'Buss, Miss. Kate', 'Dick, Mrs. Albert Adrian (Vera Gillespie)', 'Barkworth, Mr. Algernon Henry Wilson', 'Lesurer, Mr. Gustave J', 'Duff Gordon, Lady. (Lucille Christiana Sutherland) (\"Mrs Morgan\")', 'Wick, Miss. Mary Natalie', 'Bazzani, Miss. Albina', 'Weisz, Mrs. Leopold (Mathilde Francoise Pede)', 'Silverthorne, Mr. Spencer Victor', 'Ward, Miss. Anna', 'Trout, Mrs. William H (Jessie L)', 'Lemore, Mrs. (Amelia Milley)', 'Ridsdale, Miss. Lucy', 'Hart, Mrs. Benjamin (Esther Ada Bloomfield)', 'Collyer, Mrs. Harvey (Charlotte Annie Tate)', 'Brown, Mrs. James Joseph (Margaret Tobin)', 'Richards, Master. George Sibley', 'Shelley, Mrs. William (Imanita Parrish Hall)', 'Calderhead, Mr. Edward Pennington', 'Flynn, Mr. John Irwin (\"Irving\")', 'Bjornstrom-Steffansson, Mr. Mauritz Hakan', 'Silven, Miss. Lyyli Karoliina', 'Davis, Miss. Mary', 'Newell, Miss. Marjorie', 'Mellinger, Mrs. (Elizabeth Anne Maidment)', 'Allison, Master. Hudson Trevor', 'Jacobsohn, Mrs. Sidney Samuel (Amy Frances Christy)', 'Doling, Miss. Elsie', 'Rothes, the Countess. of (Lucy Noel Martha Dyer-Edwards)', 'Carter, Mr. William Ernest', 'Pears, Mrs. Thomas (Edith Wearne)', 'Abelson, Mrs. Samuel (Hannah Wizosky)', 'Simonius-Blumer, Col. Oberst Alfons', 'Greenfield, Mr. William Bertram', 'Wells, Miss. Joan', 'Anderson, Mr. Harry', 'Goldenberg, Mrs. Samuel L (Edwiga Grabowska)', 'Beesley, Mr. Lawrence', 'Hippach, Mrs. Louis Albert (Ida Sophia Fischer)', 'Cameron, Miss. Clear Annie', 'Lurette, Miss. Elise', 'Graham, Miss. Margaret Edith', 'Reynaldo, Ms. Encarnacion', 'Kenyon, Mrs. Frederick R (Marion)', 'Laroche, Miss. Simonne Marie Anne Andree', 'Ryerson, Miss. Emily Borie', 'Hippach, Miss. Jean Gertrude', 'Hamalainen, Master. Viljo', 'Hogeboom, Mrs. John C (Anna Andrews)', 'Blank, Mr. Henry', 'Louch, Mrs. Charles Alexander (Alice Adelaide Slow)', 'Padro y Manent, Mr. Julian', 'Richards, Master. William Rowe', 'Daniel, Mr. Robert Williams', 'Bonnell, Miss. Elizabeth', 'Navratil, Master. Michel M', 'Mallet, Master. Andre', 'Fortune, Miss. Mabel Helen', 'Duff Gordon, Sir. Cosmo Edmund (\"Mr Morgan\")', 'Icard, Miss. Amelie', 'Keane, Miss. Nora A', 'West, Mrs. Edwy Arthur (Ada Mary Worth)', 'Spencer, Mrs. William Augustus (Marie Eugenie)', 'Hays, Mrs. Charles Melville (Clara Jennings Gregg)', 'Burns, Miss. Elizabeth Margaret', 'Allen, Miss. Elisabeth Walton', 'Stahelin-Maeglin, Dr. Max', 'Chibnall, Mrs. (Edith Martha Bowerman)', 'Serepeca, Miss. Augusta', 'Endres, Miss. Caroline Louise', 'Rugg, Miss. Emily'}\n"
     ]
    }
   ],
   "source": [
    "# 差集\n",
    "# survived_df 中有而 pclass3_df 中沒有的 pclass1 + pclass2 的存活名單\n",
    "difference_set_survived = survived_set - pclass3_set\n",
    "print(\"survived_df 中有而 pclass3_df 中沒有的差集：\\n\")\n",
    "print(\"元素個數為: \", len(difference_set_survived), '\\n')\n",
    "print(difference_set_survived)"
   ]
  },
  {
   "cell_type": "code",
   "execution_count": 30,
   "id": "a45dac68",
   "metadata": {},
   "outputs": [
    {
     "name": "stdout",
     "output_type": "stream",
     "text": [
      "pclass3_df 中有而 survived_df 中沒有的差集：\n",
      "\n",
      "元素個數為:  372 \n",
      "\n",
      "{'Barbara, Mrs. (Catherine David)', 'Windelov, Mr. Einar', 'Mitkoff, Mr. Mito', 'Petterson, Mr. Johan Emil', 'Arnold-Franchi, Mr. Josef', 'Goncalves, Mr. Manuel Estanslas', 'Peduzzi, Mr. Joseph', \"O'Connor, Mr. Maurice\", 'Samaan, Mr. Youssef', 'Mangan, Miss. Mary', 'Celotti, Mr. Francesco', 'van Billiard, Mr. Austin Blyler', 'Johansson, Mr. Karl Johan', 'Vanden Steen, Mr. Leo Peter', 'Lefebre, Master. Henry Forbes', 'Olsen, Mr. Ole Martin', 'Boulos, Miss. Nourelain', 'Duane, Mr. Frank', 'Sawyer, Mr. Frederick Charles', 'Jensen, Mr. Hans Peder', 'Moore, Mr. Leonard Charles', 'Nosworthy, Mr. Richard Cater', 'Farrell, Mr. James', 'Jardin, Mr. Jose Neto', 'Johnston, Mr. Andrew G', 'Webber, Mr. James', 'Skoog, Mrs. William (Anna Bernhardina Karlsson)', 'Petroff, Mr. Nedelio', 'Toufik, Mr. Nakli', 'Jensen, Mr. Svend Lauritz', 'Andersson, Miss. Ingeborg Constanzia', 'Andersson, Miss. Ellis Anna Maria', 'Adahl, Mr. Mauritz Nils Martin', 'Danbom, Mrs. Ernst Gilbert (Anna Sigrid Maria Brogren)', 'Tomlin, Mr. Ernest Portage', 'Staneff, Mr. Ivan', 'Moran, Mr. James', 'Elias, Mr. Dibo', 'Ali, Mr. William', 'Lovell, Mr. John Hall (\"Henry\")', 'Scanlan, Mr. James', 'Ford, Mr. William Neal', 'Vande Walle, Mr. Nestor Cyriel', \"O'Connell, Mr. Patrick D\", 'Pekoniemi, Mr. Edvard', 'Braund, Mr. Lewis Richard', 'Andersson, Miss. Ebba Iris Alfrida', 'Goodwin, Master. William Frederick', 'Rice, Master. George Hugh', 'Palsson, Mrs. Nils (Alma Cornelia Berglund)', 'Lindblom, Miss. Augusta Charlotta', 'Rush, Mr. Alfred George John', 'Meo, Mr. Alfonzo', 'Laleff, Mr. Kristo', 'Oreskovic, Mr. Luka', 'Panula, Mr. Ernesti Arvid', 'Goodwin, Miss. Lillian Amy', 'Jussila, Miss. Katriina', 'Panula, Master. Juha Niilo', 'Holm, Mr. John Fredrik Alexander', 'Van Impe, Mrs. Jean Baptiste (Rosalie Paula Govaert)', 'Willey, Mr. Edward', 'Haas, Miss. Aloisia', \"O'Sullivan, Miss. Bridget Mary\", 'Lemberopolous, Mr. Peter L', 'Sage, Miss. Constance Gladys', 'Panula, Mr. Jaako Arnold', 'Sivola, Mr. Antti Wilhelm', 'Goodwin, Master. Harold Victor', 'Gustafsson, Mr. Karl Gideon', 'Rouse, Mr. Richard Henry', 'Pavlovic, Mr. Stefo', 'Svensson, Mr. Olof', 'Shorney, Mr. Charles Joseph', 'Panula, Master. Urho Abraham', 'Murdlin, Mr. Joseph', 'Hanna, Mr. Mansour', 'Vestrom, Miss. Hulda Amanda Adolfina', 'Markun, Mr. Johann', 'Yousseff, Mr. Gerious', 'Sage, Mr. Douglas Bullen', 'Sage, Mr. George John Jr', 'McNamee, Mr. Neal', 'Rosblom, Mrs. Viktor (Helena Wilhelmina)', 'Berglund, Mr. Karl Ivar Sven', 'Boulos, Mr. Hanna', 'Braund, Mr. Owen Harris', 'Cook, Mr. Jacob', 'Kassem, Mr. Fared', 'Johnson, Mr. Alfred', 'Lievens, Mr. Rene Aime', 'Harknett, Miss. Alice Phoebe', 'Beavan, Mr. William Thomas', 'Soholt, Mr. Peter Andreas Lauritz Andersen', 'Ivanoff, Mr. Kanio', 'Moutal, Mr. Rahamin Haim', 'Strandberg, Miss. Ida Sofia', 'Leonard, Mr. Lionel', 'Henry, Miss. Delia', 'Harmer, Mr. Abraham (David Lishin)', 'Lester, Mr. James', 'Larsson, Mr. Bengt Edvin', 'Williams, Mr. Howard Hugh \"Harry\"', 'Canavan, Miss. Mary', 'Andersson, Mrs. Anders Johan (Alfrida Konstantia Brogren)', 'Horgan, Mr. John', 'Bengtsson, Mr. John Viktor', 'Palsson, Miss. Torborg Danira', 'Oreskovic, Miss. Marija', 'Cor, Mr. Liudevit', 'Lam, Mr. Len', 'Mernagh, Mr. Robert', 'Skoog, Miss. Margit Elizabeth', 'Dakic, Mr. Branko', 'Lahoud, Mr. Sarkis', 'Danbom, Mr. Ernst Gilbert', 'Caram, Mrs. Joseph (Maria Elias)', 'Vander Planke, Mrs. Julius (Emelia Maria Vandemoortele)', 'Davies, Mr. Alfred J', 'Vander Planke, Miss. Augusta Maria', 'Kilgannon, Mr. Thomas J', 'Corn, Mr. Harry', 'Culumovic, Mr. Jeso', 'Fischer, Mr. Eberhard Thelander', 'Dimic, Mr. Jovan', 'Rice, Master. Eric', 'Andersson, Mr. Anders Johan', 'Skoog, Mr. Wilhelm', 'Charters, Mr. David', 'Zimmerman, Mr. Leo', 'Lindahl, Miss. Agda Thorilda Viktoria', 'Maenpaa, Mr. Matti Alexanteri', 'Ford, Miss. Robina Maggie \"Ruby\"', 'Patchett, Mr. George', 'Shellard, Mr. Frederick William', 'Andersson, Master. Sigvard Harald Elias', 'Allum, Mr. Owen George', 'Razi, Mr. Raihed', 'Gallagher, Mr. Martin', 'Danoff, Mr. Yoto', 'Stankovic, Mr. Ivan', 'Goodwin, Master. Sidney Leonard', 'Torber, Mr. Ernst William', 'Crease, Mr. Ernest James', 'Salonen, Mr. Johan Werner', 'Panula, Mrs. Juha (Maria Emilia Ojala)', 'Sirota, Mr. Maurice', 'Leinonen, Mr. Antti Gustaf', 'Vande Velde, Mr. Johannes Joseph', 'Gustafsson, Mr. Alfred Ossian', 'Somerton, Mr. Francis William', 'Robins, Mrs. Alexander A (Grace Charity Laury)', 'Ali, Mr. Ahmed', 'Pasic, Mr. Jakob', 'Hagland, Mr. Ingvald Olai Olsen', 'Sage, Miss. Dorothy Edith \"Dolly\"', 'Asim, Mr. Adola', 'Badt, Mr. Mohamed', 'Doharr, Mr. Tannous', 'Christmann, Mr. Emil', 'Olsvigen, Mr. Thor Anderson', 'Johnson, Mr. Malkolm Joackim', 'Bostandyeff, Mr. Guentcho', 'Klasen, Mr. Klas Albin', 'Barbara, Miss. Saiide', 'Turcin, Mr. Stjepan', 'Lundahl, Mr. Johan Svensson', 'Dooley, Mr. Patrick', 'Chronopoulos, Mr. Apostolos', 'Ford, Mrs. Edward (Margaret Ann Watson)', 'Waelens, Mr. Achille', 'Markoff, Mr. Marin', 'Goodwin, Mr. Charles Edward', 'Drazenoic, Mr. Jozef', 'Keefe, Mr. Arthur', 'McEvoy, Mr. Michael', 'Gronnestad, Mr. Daniel Danielsen', 'Rintamaki, Mr. Matti', 'Skoog, Miss. Mabel', 'Perkin, Mr. John Henry', 'Mineff, Mr. Ivan', 'Rekic, Mr. Tido', 'Lobb, Mrs. William Arthur (Cordelia K Stanlick)', 'Hart, Mr. Henry', 'Calic, Mr. Jovo', 'Alhomaki, Mr. Ilmari Rudolf', 'Boulos, Mrs. Joseph (Sultana)', 'Abbott, Mr. Rossmore Edward', 'Kalvik, Mr. Johannes Halvorsen', 'Attalah, Miss. Malake', 'Osen, Mr. Olaf Elon', 'Rommetvedt, Mr. Knud Paust', 'Connors, Mr. Patrick', 'Green, Mr. George Henry', 'Laitinen, Miss. Kristina Sofia', 'Denkoff, Mr. Mitto', 'Sadlier, Mr. Matthew', 'Peters, Miss. Katie', 'Coleff, Mr. Satio', 'Widegren, Mr. Carl/Charles Peter', 'Kallio, Mr. Nikolai Erland', 'Coelho, Mr. Domingos Fernandeo', 'Meanwell, Miss. (Marion Ogden)', 'Ryan, Mr. Patrick', 'Adams, Mr. John', 'Thorneycroft, Mr. Percival', 'Stanley, Mr. Edward Roland', 'Saundercock, Mr. William Henry', 'Lobb, Mr. William Arthur', 'Kelly, Mr. James', 'Zabour, Miss. Thamine', 'Barton, Mr. David John', 'Rice, Master. Arthur', 'Allen, Mr. William Henry', 'Jensen, Mr. Niels Peder', 'Strom, Mrs. Wilhelm (Elna Matilda Persson)', 'Kraeff, Mr. Theodor', 'Jonkoff, Mr. Lalio', 'Nenkoff, Mr. Christo', 'Yasbeck, Mr. Antoni', 'Sdycoff, Mr. Todor', 'Heininen, Miss. Wendla Maria', 'Goodwin, Mrs. Frederick (Augusta Tyler)', 'Palsson, Master. Gosta Leonard', 'Andreasson, Mr. Paul Edvin', 'Larsson, Mr. August Viktor', 'Cacic, Miss. Marija', \"O'Brien, Mr. Thomas\", 'Hansen, Mr. Henrik Juul', 'Andersson, Miss. Sigrid Elisabeth', 'Cacic, Mr. Luka', 'Bowen, Mr. David John \"Dai\"', 'Lefebre, Miss. Mathilde', 'Sirayanian, Mr. Orsen', 'Smiljanic, Mr. Mile', 'Palsson, Miss. Stina Viola', 'Rogers, Mr. William John', 'Tikkanen, Mr. Juho', 'Saad, Mr. Amin', 'Paulner, Mr. Uscher', 'Vander Planke, Mr. Leo Edmondus', 'Abbing, Mr. Anthony', 'Petroff, Mr. Pastcho (\"Pentcho\")', 'Sage, Master. Thomas Henry', 'Birkeland, Mr. Hans Martin Monsen', 'Rice, Mrs. William (Margaret Norton)', 'Lefebre, Miss. Ida', 'Rosblom, Mr. Viktor Richard', 'Calic, Mr. Petar', 'Hampe, Mr. Leon', 'Hendekovic, Mr. Ignjac', 'Elsbury, Mr. William James', 'Bourke, Miss. Mary', 'Johnson, Mr. William Cahoone Jr', 'Saad, Mr. Khalil', 'Gilinski, Mr. Eliezer', 'Lindell, Mr. Edvard Bengtsson', 'Ford, Miss. Doolina Margaret \"Daisy\"', 'Dennis, Mr. Samuel', 'Nirva, Mr. Iisakki Antino Aijo', 'Backstrom, Mr. Karl Alfred', 'Morley, Mr. William', 'Cann, Mr. Ernest Charles', 'Lefebre, Miss. Jeannie', 'Petranec, Miss. Matilda', 'Risien, Mr. Samuel Beard', 'Elias, Mr. Tannous', 'Odahl, Mr. Nils Martin', 'Vovk, Mr. Janko', 'Wiklund, Mr. Jakob Alfred', 'Plotcharsky, Mr. Vasil', 'Pettersson, Miss. Ellen Natalia', \"O'Brien, Mr. Timothy\", 'Panula, Master. Eino Viljami', 'Sage, Miss. Stella Anna', 'Karaic, Mr. Milan', 'Hansen, Mr. Henry Damsgaard', 'Simmons, Mr. John', 'Olsen, Mr. Henry Margido', 'Myhrman, Mr. Pehr Fabian Oliver Malkolm', 'Brocklebank, Mr. William Alfred', 'Ahlin, Mrs. Johan (Johanna Persdotter Larsson)', 'Strom, Miss. Telma Matilda', 'Hassan, Mr. Houssein G N', 'Flynn, Mr. James', 'Keane, Mr. Andrew \"Andy\"', 'Humblen, Mr. Adolf Mathias Nicolai Olsen', 'Moran, Mr. Daniel J', 'Sage, Mr. Frederick', 'Reed, Mr. James George', 'Goldsmith, Mr. Frank John', 'Johanson, Mr. Jakob Alfred', 'Hakkarainen, Mr. Pekka Pietari', 'Olsen, Mr. Karl Siegwart Andreas', 'Alexander, Mr. William', 'Edvardsson, Mr. Gustaf Hjalmar', 'Van Impe, Miss. Catharina', 'Tobin, Mr. Roger', 'Kiernan, Mr. Philip', 'Youseff, Mr. Gerious', 'Sivic, Mr. Husein', 'Dean, Mr. Bertram Frank', 'Bourke, Mr. John', 'Cribb, Mr. John Hatfield', 'Karlsson, Mr. Nils August', 'Johansson, Mr. Gustaf Joel', 'Van Impe, Mr. Jean Baptiste', 'Coxon, Mr. Daniel', 'Nankoff, Mr. Minko', 'Hagland, Mr. Konrad Mathias Reiersen', 'Augustsson, Mr. Albert', 'Flynn, Mr. John', 'Burke, Mr. Jeremiah', 'Williams, Mr. Leslie', 'Todoroff, Mr. Lalio', 'Emir, Mr. Farred Chehab', 'Balkic, Mr. Cerin', 'Wiseman, Mr. Phillippe', 'Coleff, Mr. Peju', 'Theobald, Mr. Thomas Leonard', 'Zabour, Miss. Hileni', 'Dantcheff, Mr. Ristiu', 'Rice, Master. Eugene', 'Naidenoff, Mr. Penko', 'Gheorgheff, Mr. Stanio', 'Johansson, Mr. Erik', 'Gustafsson, Mr. Johan Birger', 'Yousif, Mr. Wazli', 'Eklund, Mr. Hans Linus', 'Kink, Mr. Vincenz', 'Hansen, Mr. Claus Peter', 'Mionoff, Mr. Stoytcho', 'de Pelsmaeker, Mr. Alfons', 'Jussila, Miss. Mari Aina', 'Svensson, Mr. Johan', 'Moen, Mr. Sigurd Hansen', 'Novel, Mr. Mansouer', 'McMahon, Mr. Martin', 'Olsson, Miss. Elina', 'Asplund, Master. Clarence Gustaf Hugo', 'Gustafsson, Mr. Anders Vilhelm', 'Johnston, Miss. Catherine Helen \"Carrie\"', 'Smith, Mr. Thomas', 'Radeff, Mr. Alexander', 'Dahlberg, Miss. Gerda Ulrika', 'Nysveen, Mr. Johan Hansen', 'Maisner, Mr. Simon', 'Elias, Mr. Joseph Jr', 'Slocovski, Mr. Selman Francis', 'Ilmakangas, Miss. Pieta Sofia', 'Arnold-Franchi, Mrs. Josef (Josefine Franchi)', 'Carlsson, Mr. August Sigfrid', 'Garfirth, Mr. John', 'Meek, Mrs. Thomas (Annie Louise Rowley)', 'Slabenoff, Mr. Petco', 'van Melkebeke, Mr. Philemon', 'Vander Cruyssen, Mr. Victor', 'Ling, Mr. Lee', 'Morrow, Mr. Thomas Rowan', 'Stoytcheff, Mr. Ilia', 'Ekstrom, Mr. Johan', 'Bourke, Mrs. John (Catherine)', 'Ibrahim Shawah, Mr. Yousseff', 'Connaghton, Mr. Michael', 'Sutehall, Mr. Henry Jr', 'Lennon, Mr. Denis', 'Betros, Mr. Tannous', 'Attalah, Mr. Sleiman', 'Skoog, Master. Karl Thorsten', 'Hegarty, Miss. Hanora \"Nora\"', 'Skoog, Master. Harald', 'Olsson, Mr. Nils Johan Goransson'}\n"
     ]
    }
   ],
   "source": [
    "# pclass3_df 中有而 survived_df 中沒有的，i.e.pclass3的死亡名單\n",
    "difference_set_pclass3 = pclass3_set - survived_set\n",
    "print(\"pclass3_df 中有而 survived_df 中沒有的差集：\\n\")\n",
    "print(\"元素個數為: \", len(difference_set_pclass3), '\\n')\n",
    "print(difference_set_pclass3)"
   ]
  },
  {
   "cell_type": "markdown",
   "id": "66bc901c",
   "metadata": {},
   "source": [
    "# 交集"
   ]
  },
  {
   "cell_type": "code",
   "execution_count": 29,
   "id": "f055e67d",
   "metadata": {
    "scrolled": true
   },
   "outputs": [
    {
     "name": "stdout",
     "output_type": "stream",
     "text": [
      "交集結果：\n",
      "\n",
      "元素個數為:  119 \n",
      "\n",
      "{'Turja, Miss. Anna Sofia', 'Goldsmith, Master. Frank John William \"Frankie\"', 'Kink-Heilmann, Miss. Luise Gretchen', 'Johannesen-Bratthammer, Mr. Bernt', 'Goldsmith, Mrs. Frank John (Emily Alice Brown)', 'Dean, Master. Bertram Vere', 'Stanley, Miss. Amy Zillah Elsie', 'Leeni, Mr. Fahim (\"Philip Zenni\")', 'Thorneycroft, Mrs. Percival (Florence Kate White)', 'Honkanen, Miss. Eliina', 'Aks, Mrs. Sam (Leah Rosen)', 'Albimona, Mr. Nassef Cassem', 'Healy, Miss. Hanora \"Nora\"', 'O\\'Dwyer, Miss. Ellen \"Nellie\"', 'Gilnagh, Miss. Katherine \"Katie\"', 'Tornquist, Mr. William Henry', 'Kelly, Miss. Anna Katherine \"Annie Kate\"', 'Moran, Miss. Bertha', 'Glynn, Miss. Mary Agatha', 'Sunderland, Mr. Victor Francis', 'Mannion, Miss. Margareth', 'Asplund, Mrs. Carl Oscar (Selma Augusta Emilia Johansson)', 'Madsen, Mr. Fridtjof Arne', 'Carr, Miss. Helen \"Ellen\"', 'Jonsson, Mr. Carl', 'Moubarek, Master. Halim Gonios (\"William George\")', \"O'Driscoll, Miss. Bridget\", 'Sandstrom, Mrs. Hjalmar (Agnes Charlotta Bengtsson)', 'Moss, Mr. Albert Johan', 'Jansson, Mr. Carl Olof', 'Sundman, Mr. Johan Julian', 'Mullens, Miss. Katherine \"Katie\"', 'Murphy, Miss. Margaret Jane', 'Peter, Miss. Anna', 'Salkjelsvik, Miss. Anna Kristine', 'Nicola-Yarred, Miss. Jamila', 'Ayoub, Miss. Banoura', 'Bing, Mr. Lee', 'Lang, Mr. Fang', 'Sheerlinck, Mr. Jan Baptist', 'Johnson, Mrs. Oscar W (Elisabeth Vilhelmina Berg)', 'Baclini, Mrs. Solomon (Latifa Qurban)', 'Johnson, Master. Harold Theodor', 'Lam, Mr. Ali', 'Masselmani, Mrs. Fatima', 'Madigan, Miss. Margaret \"Maggie\"', 'Backstrom, Mrs. Karl Alfred (Maria Mathilda Gustafsson)', 'Nysten, Miss. Anna Sofia', 'Foo, Mr. Choong', 'Chip, Mr. Chang', 'Jermyn, Miss. Annie', 'Stranden, Mr. Juho', 'Peter, Mrs. Catherine (Catherine Rizk)', 'Niskanen, Mr. Juha', 'Pickard, Mr. Berk (Berk Trembisky)', 'Najib, Miss. Adele Kiamie \"Jane\"', 'Jalsevac, Mr. Ivan', 'Baclini, Miss. Eugenie', 'O\\'Leary, Miss. Hanora \"Norah\"', 'Coutts, Master. Eden Leslie \"Neville\"', 'Johnson, Miss. Eleanor Ileen', 'Baclini, Miss. Marie Catherine', 'O\\'Brien, Mrs. Thomas (Johanna \"Hannah\" Godfrey)', 'Heikkinen, Miss. Laina', 'Dahl, Mr. Karl Edwart', 'Asplund, Miss. Lillian Gertrud', 'Coutts, Master. William Loch \"William\"', 'Jussila, Mr. Eiriik', 'Hirvonen, Miss. Hildur E', 'McGowan, Miss. Anna \"Annie\"', 'Murphy, Miss. Katherine \"Kate\"', 'Osman, Mrs. Mara', 'Turkula, Mrs. (Hedwig)', 'McCormack, Mr. Thomas Joseph', 'McCoy, Miss. Agnes', 'Cohen, Mr. Gurshon \"Gus\"', 'Nilsson, Miss. Helmina Josefina', 'Yasbeck, Mrs. Antoni (Selini Alexander)', 'Moubarek, Master. Gerios', 'Nicola-Yarred, Master. Elias', 'McCoy, Mr. Bernard', 'Ohman, Miss. Velin', 'McDermott, Miss. Brigdet Delia', 'Touma, Mrs. Darwis (Hanne Youssef Razi)', 'Lindqvist, Mr. Eino William', 'Nakid, Mr. Sahid', 'Andersson, Mr. August Edvard (\"Wennerstrom\")', 'de Mulder, Mr. Theodore', 'Sjoblom, Miss. Anna Sofia', 'Sandstrom, Miss. Marguerite Rut', 'Moussa, Mrs. (Mantoura Boulos)', 'Nakid, Miss. Maria (\"Mary\")', 'Connolly, Miss. Kate', 'Abbott, Mrs. Stanton (Rosa Hunt)', 'McGovern, Miss. Mary', 'Asplund, Master. Edvin Rojj Felix', 'Landergren, Miss. Aurora Adelia', 'Moor, Mrs. (Beila)', 'Moor, Master. Meier', 'Andersson, Miss. Erna Alexandra', 'Hedman, Mr. Oskar Arvid', 'Dowdell, Miss. Elizabeth', 'Emanuel, Miss. Virginia Ethel', 'Davison, Mrs. Thomas Henry (Mary E Finck)', 'Mockler, Miss. Helen Mary \"Ellie\"', 'Karun, Miss. Manca', 'Barah, Mr. Hanna Assi', 'Daly, Mr. Eugene Patrick', 'Mamee, Mr. Hanna', 'Hakkarainen, Mrs. Pekka Pietari (Elin Matilda Dolck)', 'Devaney, Miss. Margaret Delia', 'Kelly, Miss. Mary', 'Baclini, Miss. Helene Barbara', 'Persson, Mr. Ernst Ulrik', 'de Messemaeker, Mrs. Guillaume Joseph (Emma)', 'Lulic, Mr. Nikola', 'Thomas, Master. Assad Alexander', 'Andersen-Jensen, Miss. Carla Christine Nielsine', 'Dorking, Mr. Edward Arthur'}\n"
     ]
    }
   ],
   "source": [
    "# 交集 pclass3的存活名單\n",
    "intersection_set = survived_set & pclass3_set\n",
    "print(\"交集結果：\\n\")\n",
    "print(\"元素個數為: \", len(intersection_set), '\\n')\n",
    "print(intersection_set)"
   ]
  },
  {
   "cell_type": "markdown",
   "id": "79704098",
   "metadata": {},
   "source": [
    "# 分析"
   ]
  },
  {
   "cell_type": "markdown",
   "id": "1d24f08a",
   "metadata": {},
   "source": [
    "## 計算存活率\n",
    "\n",
    "- Pclass1 存活率: 62.96%\n",
    "- Pclass2 存活率: 47.28%\n",
    "- Pclass3 存活率: 24.24%"
   ]
  },
  {
   "cell_type": "code",
   "execution_count": 46,
   "id": "f57da00c",
   "metadata": {},
   "outputs": [],
   "source": [
    "def survive_rate(survived_set, pclass_set):\n",
    "    intersection_set = survived_set & pclass_set\n",
    "    \n",
    "    surv_rate = (len(intersection_set)/len(pclass_set))\n",
    "    return surv_rate"
   ]
  },
  {
   "cell_type": "code",
   "execution_count": 48,
   "id": "33175a18",
   "metadata": {},
   "outputs": [
    {
     "data": {
      "text/plain": [
       "0.6296296296296297"
      ]
     },
     "execution_count": 48,
     "metadata": {},
     "output_type": "execute_result"
    }
   ],
   "source": [
    "# Pclass1 存活率\n",
    "survive_rate(survived_set, pclass1_set)"
   ]
  },
  {
   "cell_type": "code",
   "execution_count": 49,
   "id": "10c1f128",
   "metadata": {
    "scrolled": true
   },
   "outputs": [
    {
     "data": {
      "text/plain": [
       "0.47282608695652173"
      ]
     },
     "execution_count": 49,
     "metadata": {},
     "output_type": "execute_result"
    }
   ],
   "source": [
    "# Pclass2 存活率\n",
    "survive_rate(survived_set, pclass2_set)"
   ]
  },
  {
   "cell_type": "code",
   "execution_count": 47,
   "id": "083189e6",
   "metadata": {},
   "outputs": [
    {
     "data": {
      "text/plain": [
       "0.24236252545824846"
      ]
     },
     "execution_count": 47,
     "metadata": {},
     "output_type": "execute_result"
    }
   ],
   "source": [
    "# Pclass3 存活率\n",
    "survive_rate(survived_set, pclass3_set)"
   ]
  },
  {
   "cell_type": "markdown",
   "id": "40417a08",
   "metadata": {},
   "source": [
    "# 結論\n",
    "\n",
    "艙位越高級，存活率越高"
   ]
  },
  {
   "cell_type": "code",
   "execution_count": null,
   "id": "f4177653",
   "metadata": {},
   "outputs": [],
   "source": []
  }
 ],
 "metadata": {
  "kernelspec": {
   "display_name": "Python 3 (ipykernel)",
   "language": "python",
   "name": "python3"
  },
  "language_info": {
   "codemirror_mode": {
    "name": "ipython",
    "version": 3
   },
   "file_extension": ".py",
   "mimetype": "text/x-python",
   "name": "python",
   "nbconvert_exporter": "python",
   "pygments_lexer": "ipython3",
   "version": "3.8.16"
  }
 },
 "nbformat": 4,
 "nbformat_minor": 5
}
