{
 "cells": [
  {
   "cell_type": "markdown",
   "id": "08782046",
   "metadata": {},
   "source": [
    "![Corporación Favorita](https://marcasecuador.club/wp-content/uploads/2022/07/corporacion-la-favorita.jpg)\n"
   ]
  },
  {
   "cell_type": "markdown",
   "id": "533cb567",
   "metadata": {},
   "source": [
    "# 背景描述\n",
    "\n",
    "### 動機\n",
    "對於實體零售食品店來說，\"預測\"這件事非常重要，他們必須很小心地掌握進貨量。<br>\n",
    "如果預測過多，食品店會擁有過多的易腐品。<br>\n",
    "如果預測不足，熱門商品很快就會售罄，這樣就會導致收入損失和顧客不滿。<br><br>\n",
    "\n",
    "### 行動\n",
    "我從Kaggle下載了Corporación Favorita 的銷售資料集，並對其進行分析 [Data](https://www.kaggle.com/competitions/store-sales-time-series-forecasting/data)<br>\n",
    "\n",
    "\n",
    "( Corporación Favorita是一家位於厄瓜多的大型連鎖雜貨零售商，其總部位於瓜亞基爾市。<br>\n",
    "該公司成立於1952年，是厄瓜多爾最大的零售商之一，經營超市、便利店、酒類店等業務。<br>\n",
    "Corporación Favorita擁有多個知名品牌，包括Super Aki、GranAki、Megamaxi、Supermaxi等。<br>\n",
    "該公司不僅在厄瓜多爾國內擁有廣泛的業務網絡，還在其他拉丁美洲國家擴展了業務，包括哥倫比亞、秘魯、巴拿馬等地。)<br><br>\n",
    "\n",
    "以下是 Corporación Favorita 的銷售資料集<br>\n",
    "\n",
    "(原始資料為30萬筆，時間為2013-2017，因為硬體上的限制，我使用盡量還原母體信息的分層抽樣，從中抽取部分資料，總共41165筆資料，且全部為2017的資料)<br>\n",
    "\n",
    "### 目標 \n",
    "藉由機器學習對銷售量做更準確的預測，幫助零售商在適當的時間以適量的正確產品滿足顧客需求。\n",
    "<br><br><br>\n",
    "\n"
   ]
  },
  {
   "cell_type": "markdown",
   "id": "0163818f",
   "metadata": {},
   "source": [
    "# 資料欄位描述\n",
    "\n",
    "<br>\n",
    "\n",
    "1. **id（唯一標識符）**: 每條記錄在數據集中的唯一編號。例如：如果id為12345，則表示這是數據集中第12345條獨立記錄。<br><br>\n",
    "2. **date（日期）**: 記錄所代表的交易或觀察日期。例如：若date為2023-01-15，則該記錄的數據來自2023年1月15日。<br><br>\n",
    "3. **store_nbr（商店編號）**: 代表售賣產品的商店的唯一編號。例如：如果store_nbr為9，則表示該數據來自第9號商店。<br><br>\n",
    "4. **family（產品家族）**: 商品類別的描述。例如：若family為\"飲料\"，則該記錄關聯於飲料類商品的銷售數據。<br><br>\n",
    "5. **sales（銷售額）**: 在特定日期、特定商店、特定商品類別下的銷售額。例如：如果sales為500，則意味著在某日某商店某產品家族的銷售總額為500美元。<br><br>\n",
    "6. **onpromotion（促銷商品數量）**: 在特定日期、特定商店推廣的商品數量。例如：若onpromotion為20，則表示在某日該商店有20個該家族商品正在促銷。<br><br>\n",
    "7. **city（城市）**: 商店所在的城市。例如：如果city為\"基多\"，則該商店位於厄瓜多爾的首都基多。<br><br>\n",
    "8. **state（州/地區）**: 商店所在的州或地區。例如：若state為\"皮欽查\"，則表示該商店位於厄瓜多爾的皮欽查省。<br><br>\n",
    "9. **type_x（商店類型）**: 商店的類型。例如：若type_x為\"超市\"，則表示該商店是一家超市。<br><br>\n",
    "10. **cluster（群組）**: 商店所屬的群組或分類。例如：若cluster為5，則表示該商店屬於第5群組，代表具有某些共同特徵。<br><br>\n",
    "11. **dcoilwtico（油價）**: 特定日期的西德克薩斯中質原油價格。例如：若dcoilwtico為60，則表示在該日油價為每桶60美元。<br><br>\n",
    "12. **type_y（節假日類型）**: 節假日的類型。例如：若type_y為\"國家\"，則表示該節假日為全國性節假日。<br><br>\n",
    "13. **locale（節假日範圍）**: 節假日的範圍。例如：若locale為\"National\"（全國範圍），則該節假日影響整個國家。<br><br>\n",
    "14. **locale_name（節假日地名/名稱）**: 節假日影響的具體地名或節假日名稱。例如：若locale_name<br><br>\n",
    "15. **description（節假日描述）**: 對節假日的描述。例如：若description為\"勞動節\"，則該節假日為慶祝勞動者的節日。<br><br>\n",
    "16. **transferred（節假日是否轉移）**: 表示節假日是否被轉移到其他日期。例如：若transferred為True，則表示該節假日被官方移至其他日期慶祝。<br>\n"
   ]
  },
  {
   "cell_type": "markdown",
   "id": "e1ecce3b",
   "metadata": {},
   "source": [
    "# EDA"
   ]
  },
  {
   "cell_type": "code",
   "execution_count": 81,
   "id": "3351f205",
   "metadata": {},
   "outputs": [
    {
     "data": {
      "text/html": [
       "<div>\n",
       "<style scoped>\n",
       "    .dataframe tbody tr th:only-of-type {\n",
       "        vertical-align: middle;\n",
       "    }\n",
       "\n",
       "    .dataframe tbody tr th {\n",
       "        vertical-align: top;\n",
       "    }\n",
       "\n",
       "    .dataframe thead th {\n",
       "        text-align: right;\n",
       "    }\n",
       "</style>\n",
       "<table border=\"1\" class=\"dataframe\">\n",
       "  <thead>\n",
       "    <tr style=\"text-align: right;\">\n",
       "      <th></th>\n",
       "      <th>Unnamed: 0</th>\n",
       "      <th>id</th>\n",
       "      <th>date</th>\n",
       "      <th>store_nbr</th>\n",
       "      <th>family</th>\n",
       "      <th>sales</th>\n",
       "      <th>onpromotion</th>\n",
       "      <th>city</th>\n",
       "      <th>state</th>\n",
       "      <th>type_x</th>\n",
       "      <th>cluster</th>\n",
       "      <th>dcoilwtico</th>\n",
       "      <th>type_y</th>\n",
       "      <th>locale</th>\n",
       "      <th>locale_name</th>\n",
       "      <th>description</th>\n",
       "      <th>transferred</th>\n",
       "    </tr>\n",
       "  </thead>\n",
       "  <tbody>\n",
       "    <tr>\n",
       "      <th>41160</th>\n",
       "      <td>2988294</td>\n",
       "      <td>2934834</td>\n",
       "      <td>2017-07-09</td>\n",
       "      <td>6</td>\n",
       "      <td>GROCERY I</td>\n",
       "      <td>6624.000</td>\n",
       "      <td>54</td>\n",
       "      <td>Quito</td>\n",
       "      <td>Pichincha</td>\n",
       "      <td>D</td>\n",
       "      <td>13</td>\n",
       "      <td>44.25</td>\n",
       "      <td>Unknown</td>\n",
       "      <td>Unknown</td>\n",
       "      <td>Unknown</td>\n",
       "      <td>Unknown</td>\n",
       "      <td>Unknown</td>\n",
       "    </tr>\n",
       "    <tr>\n",
       "      <th>41161</th>\n",
       "      <td>2856991</td>\n",
       "      <td>2808877</td>\n",
       "      <td>2017-04-30</td>\n",
       "      <td>21</td>\n",
       "      <td>HOME AND KITCHEN II</td>\n",
       "      <td>69.000</td>\n",
       "      <td>4</td>\n",
       "      <td>Santo Domingo</td>\n",
       "      <td>Santo Domingo de los Tsachilas</td>\n",
       "      <td>B</td>\n",
       "      <td>6</td>\n",
       "      <td>49.31</td>\n",
       "      <td>Unknown</td>\n",
       "      <td>Unknown</td>\n",
       "      <td>Unknown</td>\n",
       "      <td>Unknown</td>\n",
       "      <td>Unknown</td>\n",
       "    </tr>\n",
       "    <tr>\n",
       "      <th>41162</th>\n",
       "      <td>3027876</td>\n",
       "      <td>2974416</td>\n",
       "      <td>2017-08-01</td>\n",
       "      <td>16</td>\n",
       "      <td>PLAYERS AND ELECTRONICS</td>\n",
       "      <td>8.000</td>\n",
       "      <td>0</td>\n",
       "      <td>Santo Domingo</td>\n",
       "      <td>Santo Domingo de los Tsachilas</td>\n",
       "      <td>C</td>\n",
       "      <td>3</td>\n",
       "      <td>49.19</td>\n",
       "      <td>Unknown</td>\n",
       "      <td>Unknown</td>\n",
       "      <td>Unknown</td>\n",
       "      <td>Unknown</td>\n",
       "      <td>Unknown</td>\n",
       "    </tr>\n",
       "    <tr>\n",
       "      <th>41163</th>\n",
       "      <td>2716989</td>\n",
       "      <td>2670657</td>\n",
       "      <td>2017-02-11</td>\n",
       "      <td>43</td>\n",
       "      <td>AUTOMOTIVE</td>\n",
       "      <td>7.000</td>\n",
       "      <td>0</td>\n",
       "      <td>Esmeraldas</td>\n",
       "      <td>Esmeraldas</td>\n",
       "      <td>E</td>\n",
       "      <td>10</td>\n",
       "      <td>53.84</td>\n",
       "      <td>Unknown</td>\n",
       "      <td>Unknown</td>\n",
       "      <td>Unknown</td>\n",
       "      <td>Unknown</td>\n",
       "      <td>Unknown</td>\n",
       "    </tr>\n",
       "    <tr>\n",
       "      <th>41164</th>\n",
       "      <td>2678341</td>\n",
       "      <td>2632009</td>\n",
       "      <td>2017-01-20</td>\n",
       "      <td>9</td>\n",
       "      <td>POULTRY</td>\n",
       "      <td>408.059</td>\n",
       "      <td>19</td>\n",
       "      <td>Quito</td>\n",
       "      <td>Pichincha</td>\n",
       "      <td>B</td>\n",
       "      <td>6</td>\n",
       "      <td>52.33</td>\n",
       "      <td>Unknown</td>\n",
       "      <td>Unknown</td>\n",
       "      <td>Unknown</td>\n",
       "      <td>Unknown</td>\n",
       "      <td>Unknown</td>\n",
       "    </tr>\n",
       "  </tbody>\n",
       "</table>\n",
       "</div>"
      ],
      "text/plain": [
       "       Unnamed: 0       id        date  store_nbr                   family  \\\n",
       "41160     2988294  2934834  2017-07-09          6                GROCERY I   \n",
       "41161     2856991  2808877  2017-04-30         21      HOME AND KITCHEN II   \n",
       "41162     3027876  2974416  2017-08-01         16  PLAYERS AND ELECTRONICS   \n",
       "41163     2716989  2670657  2017-02-11         43               AUTOMOTIVE   \n",
       "41164     2678341  2632009  2017-01-20          9                  POULTRY   \n",
       "\n",
       "          sales  onpromotion           city                           state  \\\n",
       "41160  6624.000           54          Quito                       Pichincha   \n",
       "41161    69.000            4  Santo Domingo  Santo Domingo de los Tsachilas   \n",
       "41162     8.000            0  Santo Domingo  Santo Domingo de los Tsachilas   \n",
       "41163     7.000            0     Esmeraldas                      Esmeraldas   \n",
       "41164   408.059           19          Quito                       Pichincha   \n",
       "\n",
       "      type_x  cluster  dcoilwtico   type_y   locale locale_name description  \\\n",
       "41160      D       13       44.25  Unknown  Unknown     Unknown     Unknown   \n",
       "41161      B        6       49.31  Unknown  Unknown     Unknown     Unknown   \n",
       "41162      C        3       49.19  Unknown  Unknown     Unknown     Unknown   \n",
       "41163      E       10       53.84  Unknown  Unknown     Unknown     Unknown   \n",
       "41164      B        6       52.33  Unknown  Unknown     Unknown     Unknown   \n",
       "\n",
       "      transferred  \n",
       "41160     Unknown  \n",
       "41161     Unknown  \n",
       "41162     Unknown  \n",
       "41163     Unknown  \n",
       "41164     Unknown  "
      ]
     },
     "execution_count": 81,
     "metadata": {},
     "output_type": "execute_result"
    }
   ],
   "source": [
    "import pandas as pd\n",
    "sampled_train_df = pd.read_csv('data/sampled_missing_values_processed_train_df.csv')\n",
    "sampled_train_df.tail()"
   ]
  },
  {
   "cell_type": "code",
   "execution_count": 82,
   "id": "15732e32",
   "metadata": {},
   "outputs": [
    {
     "name": "stdout",
     "output_type": "stream",
     "text": [
      "<class 'pandas.core.frame.DataFrame'>\n",
      "RangeIndex: 41165 entries, 0 to 41164\n",
      "Data columns (total 17 columns):\n",
      " #   Column       Non-Null Count  Dtype  \n",
      "---  ------       --------------  -----  \n",
      " 0   Unnamed: 0   41165 non-null  int64  \n",
      " 1   id           41165 non-null  int64  \n",
      " 2   date         41165 non-null  object \n",
      " 3   store_nbr    41165 non-null  int64  \n",
      " 4   family       41165 non-null  object \n",
      " 5   sales        41165 non-null  float64\n",
      " 6   onpromotion  41165 non-null  int64  \n",
      " 7   city         41165 non-null  object \n",
      " 8   state        41165 non-null  object \n",
      " 9   type_x       41165 non-null  object \n",
      " 10  cluster      41165 non-null  int64  \n",
      " 11  dcoilwtico   41165 non-null  float64\n",
      " 12  type_y       41165 non-null  object \n",
      " 13  locale       41165 non-null  object \n",
      " 14  locale_name  41165 non-null  object \n",
      " 15  description  41165 non-null  object \n",
      " 16  transferred  41165 non-null  object \n",
      "dtypes: float64(2), int64(5), object(10)\n",
      "memory usage: 5.3+ MB\n"
     ]
    }
   ],
   "source": [
    "sampled_train_df.info()"
   ]
  },
  {
   "cell_type": "markdown",
   "id": "b48bae31",
   "metadata": {},
   "source": [
    "# 問題一 \n",
    "\n",
    "### 哪一個特徵對銷售量預測的影響最大?\n",
    "\n",
    "我們直搗核心! 希望最後訓練出來的模型能夠盡可能準確預測銷售量<br>\n",
    "\n",
    "所以我們先使用常見好用的隨機森林模型，來檢視特徵重要度，看看在所有特徵當中，哪一個是模型最看重的\n",
    "\n",
    "延伸問題: 隨機森林覺得重要的特徵，其他的機器學習演算法也覺得重要嗎?\n",
    "\n",
    "作法:\n",
    "1. 將資料的數據全部轉換成數值類型資料\n",
    "2. 訓練模型 (此模型將當作是baseline模型)\n",
    "3. 使用隨機森林內建的特徵重要度模塊，觀察哪個特徵影響模型最大"
   ]
  },
  {
   "cell_type": "code",
   "execution_count": 83,
   "id": "7cee0692",
   "metadata": {},
   "outputs": [],
   "source": [
    "sampled_train_df_copy = sampled_train_df.copy()\n",
    "sampled_train_df_copy = sampled_train_df_copy.drop('Unnamed: 0', axis=1)"
   ]
  },
  {
   "cell_type": "markdown",
   "id": "858e7daf",
   "metadata": {},
   "source": [
    "將非數值欄位改成數值欄位"
   ]
  },
  {
   "cell_type": "code",
   "execution_count": 84,
   "id": "ca397d40",
   "metadata": {},
   "outputs": [],
   "source": [
    "# 選定適合獨熱編碼的特徵\n",
    "categorical_features = ['family', 'type_x', 'city', 'state', 'type_y', 'locale', 'locale_name', 'transferred', 'description']\n",
    "\n",
    "# 對這些特徵進行獨熱編碼\n",
    "sampled_train_df_copy = pd.get_dummies(sampled_train_df_copy, columns=categorical_features)\n",
    "# 確保日期是日期格式\n",
    "sampled_train_df_copy['date'] = pd.to_datetime(sampled_train_df_copy['date'])\n",
    "\n",
    "# 提取時間相關特徵\n",
    "sampled_train_df_copy['year'] = sampled_train_df_copy['date'].dt.year\n",
    "sampled_train_df_copy['month'] = sampled_train_df_copy['date'].dt.month\n",
    "sampled_train_df_copy['day'] = sampled_train_df_copy['date'].dt.day\n"
   ]
  },
  {
   "cell_type": "code",
   "execution_count": 85,
   "id": "dd61c688",
   "metadata": {},
   "outputs": [],
   "source": [
    "from sklearn.metrics import mean_squared_log_error\n",
    "from sklearn.model_selection import train_test_split\n",
    "from sklearn.linear_model import LinearRegression\n",
    "import numpy as np\n",
    "\n",
    "# 函數：計算 RMSLE\n",
    "def rmsle(y_true, y_pred):\n",
    "    return np.sqrt(mean_squared_log_error(y_true, y_pred))\n",
    "\n",
    "from sklearn.model_selection import train_test_split\n",
    "\n",
    "# 函數\n",
    "def split_data(dataframe, target_column, drop_columns=['id', 'date', 'sales'], test_size=0.2, dev_size=0.25, random_state=42):\n",
    "    \"\"\"\n",
    "    分割數據集為訓練集、開發集和測試集。\n",
    "\n",
    "    :param dataframe: pandas DataFrame，包含特徵和目標列。\n",
    "    :param target_column: str，目標變量的列名。\n",
    "    :param test_size: float，測試集占總數據集的比例。\n",
    "    :param dev_size: float，開發集占訓練和開發數據集的比例。\n",
    "    :param random_state: int，隨機數生成器的種子。\n",
    "    :return: 分割後的 X_train, X_dev, X_test, y_train, y_dev, y_test。\n",
    "    \"\"\"\n",
    "\n",
    "    # 動態構建要刪除的列的列表\n",
    "    columns_to_drop = [col for col in drop_columns if col in dataframe.columns]\n",
    "    if 'Unnamed: 0' in dataframe.columns:\n",
    "        columns_to_drop.append('Unnamed: 0')\n",
    "\n",
    "    # 選擇特徵和目標變量\n",
    "    X = dataframe.drop(columns_to_drop, axis=1)\n",
    "    y = dataframe[target_column]\n",
    "\n",
    "    # 分割數據集：先分割出測試集\n",
    "    X_train_dev, X_test, y_train_dev, y_test = train_test_split(X, y, test_size=test_size, random_state=random_state)\n",
    "\n",
    "    # 再從剩餘數據中分割出訓練集和開發集\n",
    "    X_train, X_dev, y_train, y_dev = train_test_split(X_train_dev, y_train_dev, test_size=dev_size, random_state=random_state)\n",
    "\n",
    "    return X_train, X_dev, X_test, y_train, y_dev, y_test\n",
    "\n",
    "# 函數\n",
    "def get_feature_importances(model, X_train):\n",
    "\n",
    "    # 計算特徵重要性\n",
    "    importances = model.feature_importances_\n",
    "\n",
    "    # 將特徵重要性轉換為列表\n",
    "    importances = importances.tolist()\n",
    "\n",
    "    # 將特徵名稱作為列標籤\n",
    "    columns = X_train.columns.tolist()\n",
    "\n",
    "    # 將特徵重要性和特徵名稱組合成一個 `DataFrame`\n",
    "    df = pd.DataFrame({'feature': columns, 'importance': importances})\n",
    "\n",
    "    # 對 `importance` 欄位按重要性降序排列\n",
    "    df = df.sort_values('importance', ascending=False)\n",
    "\n",
    "    # 計算每個 `importance` 的累積占比\n",
    "    df['cumulative_percentage'] = df['importance'].cumsum() / sum(df['importance'])\n",
    "\n",
    "    # 計算每個 `importance` 的排名\n",
    "    df['rank'] = df['importance'].rank(method='dense', ascending=False)\n",
    "\n",
    "    return df\n"
   ]
  },
  {
   "cell_type": "markdown",
   "id": "9781802d",
   "metadata": {},
   "source": [
    "將數據拆分成訓練集、開發集、測試集"
   ]
  },
  {
   "cell_type": "code",
   "execution_count": 86,
   "id": "8ca1e032",
   "metadata": {},
   "outputs": [],
   "source": [
    "X_train, X_dev, X_test, y_train, y_dev, y_test = split_data(sampled_train_df_copy, 'sales', test_size=0.2, dev_size=0.25, random_state=42)"
   ]
  },
  {
   "cell_type": "code",
   "execution_count": 87,
   "id": "18218a9f",
   "metadata": {},
   "outputs": [
    {
     "name": "stdout",
     "output_type": "stream",
     "text": [
      "開發集上的 RMSLE（隨機森林）: 0.6312489334197909\n"
     ]
    }
   ],
   "source": [
    "from sklearn.ensemble import RandomForestRegressor\n",
    "\n",
    "# 建立隨機森林模型\n",
    "rf_model_baseline = RandomForestRegressor(n_estimators=100, random_state=42)\n",
    "rf_model_baseline.fit(X_train, y_train)\n",
    "\n",
    "# 在開發集上進行預測\n",
    "rf_predictions_dev = rf_model_baseline.predict(X_dev)\n",
    "\n",
    "# 替換負數預測值為零（隨機森林通常不會預測出負值，但仍然檢查以確保）\n",
    "rf_predictions_dev_adj = np.where(rf_predictions_dev < 0, 0, rf_predictions_dev)\n",
    "\n",
    "# 計算 RMSLE\n",
    "rf_rmsle_value = rmsle(y_dev, rf_predictions_dev_adj)\n",
    "print(\"開發集上的 RMSLE（隨機森林）:\", rf_rmsle_value)\n"
   ]
  },
  {
   "cell_type": "markdown",
   "id": "0c8975f1",
   "metadata": {},
   "source": [
    "以下為模型認為的前20重要的特徵!"
   ]
  },
  {
   "cell_type": "code",
   "execution_count": 88,
   "id": "4f1b8cb0",
   "metadata": {
    "scrolled": false
   },
   "outputs": [
    {
     "data": {
      "text/html": [
       "<div>\n",
       "<style scoped>\n",
       "    .dataframe tbody tr th:only-of-type {\n",
       "        vertical-align: middle;\n",
       "    }\n",
       "\n",
       "    .dataframe tbody tr th {\n",
       "        vertical-align: top;\n",
       "    }\n",
       "\n",
       "    .dataframe thead th {\n",
       "        text-align: right;\n",
       "    }\n",
       "</style>\n",
       "<table border=\"1\" class=\"dataframe\">\n",
       "  <thead>\n",
       "    <tr style=\"text-align: right;\">\n",
       "      <th></th>\n",
       "      <th>feature</th>\n",
       "      <th>importance</th>\n",
       "      <th>cumulative_percentage</th>\n",
       "      <th>rank</th>\n",
       "    </tr>\n",
       "  </thead>\n",
       "  <tbody>\n",
       "    <tr>\n",
       "      <th>1</th>\n",
       "      <td>onpromotion</td>\n",
       "      <td>0.396433</td>\n",
       "      <td>0.396433</td>\n",
       "      <td>1.0</td>\n",
       "    </tr>\n",
       "    <tr>\n",
       "      <th>37</th>\n",
       "      <td>type_x_A</td>\n",
       "      <td>0.121993</td>\n",
       "      <td>0.518426</td>\n",
       "      <td>2.0</td>\n",
       "    </tr>\n",
       "    <tr>\n",
       "      <th>7</th>\n",
       "      <td>family_BEVERAGES</td>\n",
       "      <td>0.116069</td>\n",
       "      <td>0.634495</td>\n",
       "      <td>3.0</td>\n",
       "    </tr>\n",
       "    <tr>\n",
       "      <th>16</th>\n",
       "      <td>family_GROCERY I</td>\n",
       "      <td>0.086603</td>\n",
       "      <td>0.721098</td>\n",
       "      <td>4.0</td>\n",
       "    </tr>\n",
       "    <tr>\n",
       "      <th>34</th>\n",
       "      <td>family_PRODUCE</td>\n",
       "      <td>0.059864</td>\n",
       "      <td>0.780962</td>\n",
       "      <td>5.0</td>\n",
       "    </tr>\n",
       "    <tr>\n",
       "      <th>0</th>\n",
       "      <td>store_nbr</td>\n",
       "      <td>0.057615</td>\n",
       "      <td>0.838577</td>\n",
       "      <td>6.0</td>\n",
       "    </tr>\n",
       "    <tr>\n",
       "      <th>2</th>\n",
       "      <td>cluster</td>\n",
       "      <td>0.028079</td>\n",
       "      <td>0.866656</td>\n",
       "      <td>7.0</td>\n",
       "    </tr>\n",
       "    <tr>\n",
       "      <th>140</th>\n",
       "      <td>day</td>\n",
       "      <td>0.022767</td>\n",
       "      <td>0.889424</td>\n",
       "      <td>8.0</td>\n",
       "    </tr>\n",
       "    <tr>\n",
       "      <th>3</th>\n",
       "      <td>dcoilwtico</td>\n",
       "      <td>0.020571</td>\n",
       "      <td>0.909995</td>\n",
       "      <td>9.0</td>\n",
       "    </tr>\n",
       "    <tr>\n",
       "      <th>76</th>\n",
       "      <td>state_Pichincha</td>\n",
       "      <td>0.017044</td>\n",
       "      <td>0.927039</td>\n",
       "      <td>10.0</td>\n",
       "    </tr>\n",
       "    <tr>\n",
       "      <th>40</th>\n",
       "      <td>type_x_D</td>\n",
       "      <td>0.010002</td>\n",
       "      <td>0.937041</td>\n",
       "      <td>11.0</td>\n",
       "    </tr>\n",
       "    <tr>\n",
       "      <th>139</th>\n",
       "      <td>month</td>\n",
       "      <td>0.009963</td>\n",
       "      <td>0.947004</td>\n",
       "      <td>12.0</td>\n",
       "    </tr>\n",
       "    <tr>\n",
       "      <th>11</th>\n",
       "      <td>family_CLEANING</td>\n",
       "      <td>0.007148</td>\n",
       "      <td>0.954152</td>\n",
       "      <td>13.0</td>\n",
       "    </tr>\n",
       "    <tr>\n",
       "      <th>39</th>\n",
       "      <td>type_x_C</td>\n",
       "      <td>0.006896</td>\n",
       "      <td>0.961047</td>\n",
       "      <td>14.0</td>\n",
       "    </tr>\n",
       "    <tr>\n",
       "      <th>60</th>\n",
       "      <td>city_Quito</td>\n",
       "      <td>0.005664</td>\n",
       "      <td>0.966711</td>\n",
       "      <td>15.0</td>\n",
       "    </tr>\n",
       "    <tr>\n",
       "      <th>12</th>\n",
       "      <td>family_DAIRY</td>\n",
       "      <td>0.002625</td>\n",
       "      <td>0.969336</td>\n",
       "      <td>16.0</td>\n",
       "    </tr>\n",
       "    <tr>\n",
       "      <th>9</th>\n",
       "      <td>family_BREAD/BAKERY</td>\n",
       "      <td>0.002054</td>\n",
       "      <td>0.971390</td>\n",
       "      <td>17.0</td>\n",
       "    </tr>\n",
       "    <tr>\n",
       "      <th>38</th>\n",
       "      <td>type_x_B</td>\n",
       "      <td>0.001966</td>\n",
       "      <td>0.973356</td>\n",
       "      <td>18.0</td>\n",
       "    </tr>\n",
       "    <tr>\n",
       "      <th>32</th>\n",
       "      <td>family_POULTRY</td>\n",
       "      <td>0.001598</td>\n",
       "      <td>0.974954</td>\n",
       "      <td>19.0</td>\n",
       "    </tr>\n",
       "    <tr>\n",
       "      <th>135</th>\n",
       "      <td>description_Traslado Primer dia del ano</td>\n",
       "      <td>0.001236</td>\n",
       "      <td>0.976189</td>\n",
       "      <td>20.0</td>\n",
       "    </tr>\n",
       "  </tbody>\n",
       "</table>\n",
       "</div>"
      ],
      "text/plain": [
       "                                     feature  importance  \\\n",
       "1                                onpromotion    0.396433   \n",
       "37                                  type_x_A    0.121993   \n",
       "7                           family_BEVERAGES    0.116069   \n",
       "16                          family_GROCERY I    0.086603   \n",
       "34                            family_PRODUCE    0.059864   \n",
       "0                                  store_nbr    0.057615   \n",
       "2                                    cluster    0.028079   \n",
       "140                                      day    0.022767   \n",
       "3                                 dcoilwtico    0.020571   \n",
       "76                           state_Pichincha    0.017044   \n",
       "40                                  type_x_D    0.010002   \n",
       "139                                    month    0.009963   \n",
       "11                           family_CLEANING    0.007148   \n",
       "39                                  type_x_C    0.006896   \n",
       "60                                city_Quito    0.005664   \n",
       "12                              family_DAIRY    0.002625   \n",
       "9                        family_BREAD/BAKERY    0.002054   \n",
       "38                                  type_x_B    0.001966   \n",
       "32                            family_POULTRY    0.001598   \n",
       "135  description_Traslado Primer dia del ano    0.001236   \n",
       "\n",
       "     cumulative_percentage  rank  \n",
       "1                 0.396433   1.0  \n",
       "37                0.518426   2.0  \n",
       "7                 0.634495   3.0  \n",
       "16                0.721098   4.0  \n",
       "34                0.780962   5.0  \n",
       "0                 0.838577   6.0  \n",
       "2                 0.866656   7.0  \n",
       "140               0.889424   8.0  \n",
       "3                 0.909995   9.0  \n",
       "76                0.927039  10.0  \n",
       "40                0.937041  11.0  \n",
       "139               0.947004  12.0  \n",
       "11                0.954152  13.0  \n",
       "39                0.961047  14.0  \n",
       "60                0.966711  15.0  \n",
       "12                0.969336  16.0  \n",
       "9                 0.971390  17.0  \n",
       "38                0.973356  18.0  \n",
       "32                0.974954  19.0  \n",
       "135               0.976189  20.0  "
      ]
     },
     "metadata": {},
     "output_type": "display_data"
    }
   ],
   "source": [
    "rf_feature_importance_df = get_feature_importances(rf_model_baseline, X_train)\n",
    "top20_rf_feature_importance_df = rf_feature_importance_df.head(20)\n",
    "display(top20_rf_feature_importance_df)"
   ]
  },
  {
   "cell_type": "code",
   "execution_count": 89,
   "id": "42ec067f",
   "metadata": {},
   "outputs": [
    {
     "data": {
      "image/png": "[encoded data removed]",
      "text/plain": [
       "<Figure size 1200x800 with 1 Axes>"
      ]
     },
     "metadata": {},
     "output_type": "display_data"
    }
   ],
   "source": [
    "import seaborn as sns\n",
    "import matplotlib.pyplot as plt\n",
    "import pandas as pd\n",
    "\n",
    "# 繪製長條圖\n",
    "plt.figure(figsize=(12, 8))  # 設定圖形大小\n",
    "sns.barplot(x='importance', y='feature', data=top20_rf_feature_importance_df, orient='h')  # 繪製水平長條圖\n",
    "\n",
    "# 設定圖表標題和軸標籤\n",
    "plt.title('Top 20 Feature Importances')\n",
    "plt.xlabel('Importance')\n",
    "plt.ylabel('Features')\n",
    "\n",
    "# 顯示圖表\n",
    "plt.show()\n"
   ]
  },
  {
   "cell_type": "markdown",
   "id": "f80d6e0d",
   "metadata": {},
   "source": [
    "發現1:\n",
    "<br>\n",
    "\n",
    "我們發現了幾件事:<br>\n",
    "\n",
    "當天商品是否正在**促銷**是影響銷售量的關鍵因素!\n",
    "\n",
    "商品是否是在類型A的商家販售，是個重要因素\n",
    "\n",
    "當你的商品種為BEVERAGES、GROCERY I、PRODUCE，對銷售量的影響特別大(個人猜測這三種的銷售量特別大)\n",
    "\n",
    "\n",
    "小結1: 光是這張圖就帶給我們了非常非常多得信息，這些信息都能幫助我們去做假設，也是我們之後做特徵工程的依據!\n",
    "\n",
    "欄位複習:<br>\n",
    "onpromotion（促銷商品數量）: 在特定日期、特定商店推廣的商品數量。例如：若onpromotion為20，則表示在某日該商店有20個該家族商品正在促銷。<br>\n",
    "type_x（商店類型）: 商店的類型。例如：若type_x為\"超市\"，則表示該商店是一家超市。<br>\n",
    "family（產品家族）: 商品類別的描述。例如：若family為\"飲料\"，則該記錄關聯於飲料類商品的銷售數據。<br>\n",
    "store_nbr（商店編號）: 代表售賣產品的商店的唯一編號。例如：如果store_nbr為9，則表示該數據來自第9號商店。<br>"
   ]
  },
  {
   "cell_type": "markdown",
   "id": "eff846c8",
   "metadata": {},
   "source": [
    "# 問題二\n",
    "### 在這前20個重要的特徵之間，他們的相互線性關係為何?"
   ]
  },
  {
   "cell_type": "code",
   "execution_count": 90,
   "id": "30ac39ec",
   "metadata": {},
   "outputs": [
    {
     "name": "stdout",
     "output_type": "stream",
     "text": [
      "                  onpromotion  type_x_A  family_BEVERAGES  family_GROCERY I  \\\n",
      "onpromotion          1.000000  0.020265          0.191628          0.490720   \n",
      "type_x_A             0.020265  1.000000         -0.000307          0.000073   \n",
      "family_BEVERAGES     0.191628 -0.000307          1.000000         -0.031239   \n",
      "family_GROCERY I     0.490720  0.000073         -0.031239          1.000000   \n",
      "family_PRODUCE       0.168782 -0.000117         -0.031278         -0.031278   \n",
      "store_nbr            0.007125  0.588152         -0.000473          0.000082   \n",
      "cluster              0.006503  0.370572         -0.000050          0.000133   \n",
      "day                  0.010151 -0.000111          0.004600          0.006493   \n",
      "dcoilwtico          -0.031283 -0.008633          0.003550         -0.000004   \n",
      "state_Pichincha      0.025717  0.294614          0.000116          0.000116   \n",
      "\n",
      "                  family_PRODUCE  store_nbr   cluster       day  dcoilwtico  \\\n",
      "onpromotion             0.168782   0.007125  0.006503  0.010151   -0.031283   \n",
      "type_x_A               -0.000117   0.588152  0.370572 -0.000111   -0.008633   \n",
      "family_BEVERAGES       -0.031278  -0.000473 -0.000050  0.004600    0.003550   \n",
      "family_GROCERY I       -0.031278   0.000082  0.000133  0.006493   -0.000004   \n",
      "family_PRODUCE          1.000000  -0.000023 -0.000368  0.003035   -0.001086   \n",
      "store_nbr              -0.000023   1.000000 -0.059231  0.002466   -0.006216   \n",
      "cluster                -0.000368  -0.059231  1.000000  0.000523    0.002017   \n",
      "day                     0.003035   0.002466  0.000523  1.000000   -0.081074   \n",
      "dcoilwtico             -0.001086  -0.006216  0.002017 -0.081074    1.000000   \n",
      "state_Pichincha        -0.000493  -0.317447  0.340588  0.002977   -0.000339   \n",
      "\n",
      "                  state_Pichincha  \n",
      "onpromotion              0.025717  \n",
      "type_x_A                 0.294614  \n",
      "family_BEVERAGES         0.000116  \n",
      "family_GROCERY I         0.000116  \n",
      "family_PRODUCE          -0.000493  \n",
      "store_nbr               -0.317447  \n",
      "cluster                  0.340588  \n",
      "day                      0.002977  \n",
      "dcoilwtico              -0.000339  \n",
      "state_Pichincha          1.000000  \n"
     ]
    },
    {
     "data": {
      "image/png": "[encoded data removed]",
      "text/plain": [
       "<Figure size 2000x1500 with 2 Axes>"
      ]
     },
     "metadata": {},
     "output_type": "display_data"
    }
   ],
   "source": [
    "top20_rf_features = top20_rf_feature_importance_df['feature'].to_list()\n",
    "# sampled_train_df_copy.head(20)\n",
    "\n",
    "# 計算相關係數矩陣\n",
    "corr_matrix = sampled_train_df_copy[top20_rf_features[:10]].corr()\n",
    "print(corr_matrix)\n",
    "# 繪製熱力圖\n",
    "plt.figure(figsize=(20, 15))\n",
    "heatmap = sns.heatmap(corr_matrix, annot=False, cmap='coolwarm', fmt=\".2f\")\n",
    "heatmap.set_xticklabels(heatmap.get_xticklabels(), rotation=45, ha='right')\n",
    "plt.title('correlation of top 20 features')\n",
    "plt.show()"
   ]
  },
  {
   "cell_type": "markdown",
   "id": "e5a15244",
   "metadata": {},
   "source": [
    "發現2\n",
    "\n",
    "從深藍色框框可以得知<br>\n",
    "如果商店編號減少，那麼商店位於Pichincha省的可能性會增加 (沒什麼用的資訊)\n",
    "\n",
    "小結2: \n",
    "\n",
    "特徵之間並沒有很強的線性關係，最大的也沒超過 0.5，這是好事，代表每個特徵都能一定地貢獻資訊，冗餘的部分不多"
   ]
  },
  {
   "cell_type": "markdown",
   "id": "3e997f82",
   "metadata": {},
   "source": [
    "# 問題3\n",
    "\n",
    "### 假如抽離隨機森林，看看各個特徵最銷售量的關係為何?"
   ]
  },
  {
   "cell_type": "code",
   "execution_count": 91,
   "id": "7e0db0b6",
   "metadata": {},
   "outputs": [
    {
     "name": "stdout",
     "output_type": "stream",
     "text": [
      "Average sales during promotion: 185.87288818097738\n",
      "Average sales without promotion: 53.909194622772276\n"
     ]
    }
   ],
   "source": [
    "import pandas as pd\n",
    "import matplotlib.pyplot as plt\n",
    "import seaborn as sns\n",
    "\n",
    "# 基本統計分析\n",
    "promo_sales_mean = sampled_train_df[sampled_train_df['onpromotion'] == True]['sales'].mean()\n",
    "non_promo_sales_mean = sampled_train_df[sampled_train_df['onpromotion'] == False]['sales'].mean()\n",
    "\n",
    "print(f\"Average sales during promotion: {promo_sales_mean}\")\n",
    "print(f\"Average sales without promotion: {non_promo_sales_mean}\")"
   ]
  },
  {
   "cell_type": "code",
   "execution_count": 92,
   "id": "17910623",
   "metadata": {},
   "outputs": [],
   "source": [
    "drop_columns=['id', 'date', 'sales','Unnamed: 0']\n",
    "\n",
    "for i in drop_columns:\n",
    "    if 'Unnamed: 0' in sampled_train_df_copy:\n",
    "        sampled_train_df_copy = sampled_train_df_copy.drop('Unnamed: 0', axis=1)\n",
    "    if i in X:\n",
    "        X = sampled_train_df_copy.drop(i, axis=1)\n",
    "\n",
    "y = sampled_train_df_copy['sales']   \n",
    "# print(sampled_train_df_copy.head()"
   ]
  },
  {
   "cell_type": "code",
   "execution_count": 93,
   "id": "f788885b",
   "metadata": {},
   "outputs": [
    {
     "data": {
      "image/png": "[encoded data removed]",
      "text/plain": [
       "<Figure size 1200x800 with 1 Axes>"
      ]
     },
     "metadata": {},
     "output_type": "display_data"
    }
   ],
   "source": [
    "from sklearn.feature_selection import mutual_info_regression\n",
    "import pandas as pd\n",
    "\n",
    "# 確保已經有了特徵矩陣 X 和目標變量 y\n",
    "drop_columns=['id', 'date', 'sales','Unnamed: 0']\n",
    "\n",
    "for i in drop_columns:\n",
    "    if 'Unnamed: 0' in sampled_train_df_copy:\n",
    "        sampled_train_df_copy = sampled_train_df_copy.drop('Unnamed: 0', axis=1)\n",
    "    if i in X:\n",
    "        X = sampled_train_df_copy.drop(i, axis=1)\n",
    "\n",
    "y = sampled_train_df_copy['sales']   \n",
    "# print(sampled_train_df_copy.head()\n",
    "\n",
    "# 計算MI分數\n",
    "mi_scores = mutual_info_regression(X, y, random_state=42)  # 添加隨機狀態以確保結果的可重現性\n",
    "mi_scores_series = pd.Series(mi_scores, index=X.columns)  # 轉換成Pandas序列以便更好地顯示\n",
    "\n",
    "# 將MI分數由高到低排序\n",
    "mi_scores_series = mi_scores_series.sort_values(ascending=False)\n",
    "\n",
    "# 顯示MI分數\n",
    "# print(mi_scores_series)\n",
    "\n",
    "# 對 MI 分數進行降序排序\n",
    "mi_scores_sorted_top20 = mi_scores_series.sort_values(ascending=False).head(20)\n",
    "\n",
    "# 繪製條形圖\n",
    "plt.figure(figsize=(12, 8))\n",
    "sns.barplot(x=mi_scores_sorted_top20.values, y=mi_scores_sorted_top20.index)\n",
    "plt.title('Top 20 MI Socre')\n",
    "plt.xlabel('MI Socre')\n",
    "plt.ylabel('Features')\n",
    "\n",
    "# 顯示圖表\n",
    "plt.show()\n"
   ]
  },
  {
   "cell_type": "code",
   "execution_count": 94,
   "id": "407a1900",
   "metadata": {
    "scrolled": true
   },
   "outputs": [
    {
     "name": "stdout",
     "output_type": "stream",
     "text": [
      "                   feature  mi score  cumulative_percentage  rank\n",
      "0              onpromotion  0.500399               0.406102   1.0\n",
      "1                store_nbr  0.102793               0.531071   2.0\n",
      "2                  cluster  0.070803               0.649971   3.0\n",
      "3         family_GROCERY I  0.069956               0.738686   4.0\n",
      "4         family_BEVERAGES  0.068082               0.800010   5.0\n",
      "5             family_BOOKS  0.056279               0.859031   6.0\n",
      "6         family_BABY CARE  0.052919               0.887794   7.0\n",
      "7          family_CLEANING  0.049191               0.911117   8.0\n",
      "8           family_PRODUCE  0.045864               0.932189   9.0\n",
      "9          family_HARDWARE  0.044631               0.949649  10.0\n",
      "10  family_HOME APPLIANCES  0.043212               0.959895  11.0\n",
      "11             family_DELI  0.043085               0.970101  12.0\n",
      "12            family_DAIRY  0.041834               0.977423  13.0\n",
      "13            family_MEATS  0.039440               0.984488  14.0\n",
      "14          family_POULTRY  0.037075               0.990290  15.0\n",
      "15     family_BREAD/BAKERY  0.035999               0.992979  16.0\n",
      "16          family_SEAFOOD  0.035043               0.995083  17.0\n",
      "17    family_PERSONAL CARE  0.034905               0.997097  18.0\n",
      "18     family_FROZEN FOODS  0.034418               0.998734  19.0\n",
      "19       family_AUTOMOTIVE  0.033417               1.000000  20.0\n"
     ]
    }
   ],
   "source": [
    "mi_scores_series.sort_values(ascending=False).head(20)\n",
    "\n",
    "# 計算每個 `mi score` 的累積占比\n",
    "mi_scores_df = mi_scores_series.sort_values(ascending=False).head(20).reset_index()\n",
    "mi_scores_df.columns = ['feature', 'mi score']\n",
    "mi_scores_df['cumulative_percentage'] = df['importance'].cumsum() / sum(df['importance'])\n",
    "\n",
    "# 計算每個 `importance` 的排名\n",
    "mi_scores_df['rank'] = df['importance'].rank(method='dense', ascending=False)\n",
    "\n",
    "print(mi_scores_df)"
   ]
  },
  {
   "cell_type": "markdown",
   "id": "a10f2247",
   "metadata": {},
   "source": [
    "# 問題四\n",
    "\n",
    "### 隨機森林和 MI Score 選出來的前20個重要特徵，有哪些不同? 哪些相同?"
   ]
  },
  {
   "cell_type": "code",
   "execution_count": 95,
   "id": "2ebabec8",
   "metadata": {},
   "outputs": [],
   "source": [
    "top20_mi_scores_set = set(mi_scores_df['feature'].to_list())\n",
    "top20_rf_features_set = set(top20_rf_features)"
   ]
  },
  {
   "cell_type": "code",
   "execution_count": 107,
   "id": "538fdc5d",
   "metadata": {},
   "outputs": [
    {
     "name": "stdout",
     "output_type": "stream",
     "text": [
      "rf_features 和 mi_scores 篩出來共同的特徵有 10 個:\n",
      " {'cluster', 'family_PRODUCE', 'onpromotion', 'family_CLEANING', 'family_GROCERY I', 'family_DAIRY', 'family_POULTRY', 'family_BREAD/BAKERY', 'store_nbr', 'family_BEVERAGES'}\n"
     ]
    }
   ],
   "source": [
    "common_features = top20_mi_scores_set & top20_rf_features_set\n",
    "print('rf 和 mi_score 篩出來共同的特徵有', len(common_features),'個:\\n',common_features)"
   ]
  },
  {
   "cell_type": "code",
   "execution_count": 121,
   "id": "9d60a142",
   "metadata": {},
   "outputs": [],
   "source": [
    "all_features = top20_mi_scores_set | top20_rf_features_set\n",
    "rf_unique_features = all_features - top20_mi_scores_set\n",
    "mi_scores_unique_features = all_features - top20_rf_features_set\n",
    "different_features = rf_unique_features | mi_scores_features\n",
    "common_features = top20_mi_scores_set & top20_rf_features_set\n"
   ]
  },
  {
   "cell_type": "code",
   "execution_count": 147,
   "id": "125356b9",
   "metadata": {},
   "outputs": [
    {
     "data": {
      "text/plain": [
       "Text(0.15, 0.1, 'Common Features\\n')"
      ]
     },
     "execution_count": 147,
     "metadata": {},
     "output_type": "execute_result"
    },
    {
     "data": {
      "image/png": "[encoded data removed]",
      "text/plain": [
       "<Figure size 1000x600 with 1 Axes>"
      ]
     },
     "metadata": {},
     "output_type": "display_data"
    }
   ],
   "source": [
    "import matplotlib.pyplot as plt\n",
    "from matplotlib_venn import venn2\n",
    "\n",
    "\n",
    "# 繪製溫氏圖\n",
    "# 绘制温氏图\n",
    "plt.figure(figsize=(10, 6))\n",
    "venn_diagram = venn2(subsets=(len(mi_scores_unique_features), len(rf_unique_features), len(common_features)),\n",
    "                     set_labels=('Top 20 MI Scores Unique', 'Top 20 RF Features Unique', 'Common Features'))\n",
    "\n",
    "plt.text(0.15, 0.1, 'Common Features\\n', ha='right', va='center', fontsize=10)\n"
   ]
  },
  {
   "cell_type": "code",
   "execution_count": 152,
   "id": "eae5f0aa",
   "metadata": {},
   "outputs": [],
   "source": [
    "# !pip install matplotlib-venn\n",
    "# !pip install plotly"
   ]
  },
  {
   "cell_type": "markdown",
   "id": "c1cdf082",
   "metadata": {},
   "source": [
    "# 問題五\n",
    "\n",
    "### 依照促銷的次數多寡，店家的分布為何?"
   ]
  },
  {
   "cell_type": "code",
   "execution_count": 153,
   "id": "56f92aeb",
   "metadata": {},
   "outputs": [],
   "source": [
    "import plotly.express as px"
   ]
  },
  {
   "cell_type": "markdown",
   "id": "40b28f48",
   "metadata": {},
   "source": [
    "合併經緯度資料"
   ]
  },
  {
   "cell_type": "code",
   "execution_count": 161,
   "id": "ea58354e",
   "metadata": {
    "scrolled": true
   },
   "outputs": [
    {
     "data": {
      "text/html": [
       "<div>\n",
       "<style scoped>\n",
       "    .dataframe tbody tr th:only-of-type {\n",
       "        vertical-align: middle;\n",
       "    }\n",
       "\n",
       "    .dataframe tbody tr th {\n",
       "        vertical-align: top;\n",
       "    }\n",
       "\n",
       "    .dataframe thead th {\n",
       "        text-align: right;\n",
       "    }\n",
       "</style>\n",
       "<table border=\"1\" class=\"dataframe\">\n",
       "  <thead>\n",
       "    <tr style=\"text-align: right;\">\n",
       "      <th></th>\n",
       "      <th>city</th>\n",
       "      <th>onpromotion</th>\n",
       "      <th>City</th>\n",
       "      <th>Latitude</th>\n",
       "      <th>Longitude</th>\n",
       "    </tr>\n",
       "  </thead>\n",
       "  <tbody>\n",
       "    <tr>\n",
       "      <th>0</th>\n",
       "      <td>Ambato</td>\n",
       "      <td>10305</td>\n",
       "      <td>Ambato</td>\n",
       "      <td>-1.241667</td>\n",
       "      <td>-78.619545</td>\n",
       "    </tr>\n",
       "    <tr>\n",
       "      <th>1</th>\n",
       "      <td>Babahoyo</td>\n",
       "      <td>5954</td>\n",
       "      <td>Babahoyo</td>\n",
       "      <td>-1.801926</td>\n",
       "      <td>-79.534645</td>\n",
       "    </tr>\n",
       "    <tr>\n",
       "      <th>2</th>\n",
       "      <td>Cayambe</td>\n",
       "      <td>5767</td>\n",
       "      <td>Cayambe</td>\n",
       "      <td>0.040704</td>\n",
       "      <td>-78.159666</td>\n",
       "    </tr>\n",
       "    <tr>\n",
       "      <th>3</th>\n",
       "      <td>Cuenca</td>\n",
       "      <td>15797</td>\n",
       "      <td>Cuenca</td>\n",
       "      <td>-2.897414</td>\n",
       "      <td>-79.004530</td>\n",
       "    </tr>\n",
       "    <tr>\n",
       "      <th>4</th>\n",
       "      <td>Daule</td>\n",
       "      <td>5134</td>\n",
       "      <td>Daule</td>\n",
       "      <td>-1.862180</td>\n",
       "      <td>-79.977730</td>\n",
       "    </tr>\n",
       "  </tbody>\n",
       "</table>\n",
       "</div>"
      ],
      "text/plain": [
       "       city  onpromotion      City  Latitude  Longitude\n",
       "0    Ambato        10305    Ambato -1.241667 -78.619545\n",
       "1  Babahoyo         5954  Babahoyo -1.801926 -79.534645\n",
       "2   Cayambe         5767   Cayambe  0.040704 -78.159666\n",
       "3    Cuenca        15797    Cuenca -2.897414 -79.004530\n",
       "4     Daule         5134     Daule -1.862180 -79.977730"
      ]
     },
     "execution_count": 161,
     "metadata": {},
     "output_type": "execute_result"
    }
   ],
   "source": [
    "city_coordinates = pd.read_csv('data/city_coordinates.csv')\n",
    "# Calculate the total number of promotions for each city\n",
    "promotions_by_city = sampled_train_df.groupby('city')['onpromotion'].sum().reset_index()\n",
    "merged_data = pd.merge(promotions_by_city, city_coordinates, left_on='city', right_on='City', how='left')\n",
    "\n",
    "# merged_data.head()"
   ]
  },
  {
   "cell_type": "code",
   "execution_count": 175,
   "id": "5a3ebd8c",
   "metadata": {},
   "outputs": [
    {
     "data": {
      "application/vnd.plotly.v1+json": {
       "config": {
        "plotlyServerURL": "https://plot.ly"
       },
       "data": [
        {
         "hovertemplate": "<b>%{hovertext}</b><br><br>onpromotion=%{marker.color}<br>Latitude=%{lat}<br>Longitude=%{lon}<extra></extra>",
         "hovertext": [
          "Ambato",
          "Babahoyo",
          "Cayambe",
          "Cuenca",
          "Daule",
          "El Carmen",
          "Esmeraldas",
          "Guaranda",
          "Guayaquil",
          "Ibarra",
          "Latacunga",
          "Libertad",
          "Loja",
          "Machala",
          "Manta",
          "Playas",
          "Puyo",
          "Quevedo",
          "Quito",
          "Riobamba",
          "Salinas",
          "Santo Domingo"
         ],
         "lat": [
          -1.241667,
          -1.801926,
          0.040704,
          -2.897414,
          -1.86218,
          -0.265308,
          0.95921,
          -1.609097,
          -2.170998,
          0.339176,
          -0.933333,
          -2.233333,
          -3.99313,
          -3.258611,
          -0.967653,
          -2.62986,
          -1.48371,
          -1.022512,
          -0.21861,
          -1.663551,
          -2.214015,
          -0.25221
         ],
         "legendgroup": "",
         "lon": [
          -78.619545,
          -79.534645,
          -78.159666,
          -79.00453,
          -79.97773,
          -79.45645,
          -79.65397,
          -79.011261,
          -79.922359,
          -78.122234,
          -78.61667,
          -80.9,
          -79.20422,
          -79.955278,
          -80.70891,
          -80.37997,
          -77.98723,
          -79.460403,
          -78.50972,
          -78.654645,
          -80.973988,
          -79.17284
         ],
         "marker": {
          "color": [
           10305,
           5954,
           5767,
           15797,
           5134,
           4226,
           5752,
           4297,
           40160,
           5042,
           8923,
           5697,
           5057,
           9558,
           8359,
           4047,
           4409,
           5125,
           101219,
           4468,
           4479,
           15479
          ],
          "coloraxis": "coloraxis",
          "size": [
           10305,
           5954,
           5767,
           15797,
           5134,
           4226,
           5752,
           4297,
           40160,
           5042,
           8923,
           5697,
           5057,
           9558,
           8359,
           4047,
           4409,
           5125,
           101219,
           4468,
           4479,
           15479
          ],
          "sizemode": "area",
          "sizeref": 449.8622222222222
         },
         "mode": "markers",
         "name": "",
         "showlegend": false,
         "subplot": "mapbox",
         "type": "scattermapbox"
        }
       ],
       "layout": {
        "coloraxis": {
         "colorbar": {
          "title": {
           "text": "onpromotion"
          }
         },
         "colorscale": [
          [
           0,
           "rgb(0,0,255)"
          ],
          [
           1,
           "rgb(255,0,0)"
          ]
         ]
        },
        "legend": {
         "itemsizing": "constant",
         "tracegroupgap": 0
        },
        "mapbox": {
         "center": {
          "lat": -1.426364909090909,
          "lon": -79.363012
         },
         "domain": {
          "x": [
           0,
           1
          ],
          "y": [
           0,
           1
          ]
         },
         "style": "carto-positron",
         "zoom": 5
        },
        "margin": {
         "b": 0,
         "l": 0,
         "r": 0,
         "t": 0
        },
        "template": {
         "data": {
          "bar": [
           {
            "error_x": {
             "color": "#2a3f5f"
            },
            "error_y": {
             "color": "#2a3f5f"
            },
            "marker": {
             "line": {
              "color": "#E5ECF6",
              "width": 0.5
             },
             "pattern": {
              "fillmode": "overlay",
              "size": 10,
              "solidity": 0.2
             }
            },
            "type": "bar"
           }
          ],
          "barpolar": [
           {
            "marker": {
             "line": {
              "color": "#E5ECF6",
              "width": 0.5
             },
             "pattern": {
              "fillmode": "overlay",
              "size": 10,
              "solidity": 0.2
             }
            },
            "type": "barpolar"
           }
          ],
          "carpet": [
           {
            "aaxis": {
             "endlinecolor": "#2a3f5f",
             "gridcolor": "white",
             "linecolor": "white",
             "minorgridcolor": "white",
             "startlinecolor": "#2a3f5f"
            },
            "baxis": {
             "endlinecolor": "#2a3f5f",
             "gridcolor": "white",
             "linecolor": "white",
             "minorgridcolor": "white",
             "startlinecolor": "#2a3f5f"
            },
            "type": "carpet"
           }
          ],
          "choropleth": [
           {
            "colorbar": {
             "outlinewidth": 0,
             "ticks": ""
            },
            "type": "choropleth"
           }
          ],
          "contour": [
           {
            "colorbar": {
             "outlinewidth": 0,
             "ticks": ""
            },
            "colorscale": [
             [
              0,
              "#0d0887"
             ],
             [
              0.1111111111111111,
              "#46039f"
             ],
             [
              0.2222222222222222,
              "#7201a8"
             ],
             [
              0.3333333333333333,
              "#9c179e"
             ],
             [
              0.4444444444444444,
              "#bd3786"
             ],
             [
              0.5555555555555556,
              "#d8576b"
             ],
             [
              0.6666666666666666,
              "#ed7953"
             ],
             [
              0.7777777777777778,
              "#fb9f3a"
             ],
             [
              0.8888888888888888,
              "#fdca26"
             ],
             [
              1,
              "#f0f921"
             ]
            ],
            "type": "contour"
           }
          ],
          "contourcarpet": [
           {
            "colorbar": {
             "outlinewidth": 0,
             "ticks": ""
            },
            "type": "contourcarpet"
           }
          ],
          "heatmap": [
           {
            "colorbar": {
             "outlinewidth": 0,
             "ticks": ""
            },
            "colorscale": [
             [
              0,
              "#0d0887"
             ],
             [
              0.1111111111111111,
              "#46039f"
             ],
             [
              0.2222222222222222,
              "#7201a8"
             ],
             [
              0.3333333333333333,
              "#9c179e"
             ],
             [
              0.4444444444444444,
              "#bd3786"
             ],
             [
              0.5555555555555556,
              "#d8576b"
             ],
             [
              0.6666666666666666,
              "#ed7953"
             ],
             [
              0.7777777777777778,
              "#fb9f3a"
             ],
             [
              0.8888888888888888,
              "#fdca26"
             ],
             [
              1,
              "#f0f921"
             ]
            ],
            "type": "heatmap"
           }
          ],
          "heatmapgl": [
           {
            "colorbar": {
             "outlinewidth": 0,
             "ticks": ""
            },
            "colorscale": [
             [
              0,
              "#0d0887"
             ],
             [
              0.1111111111111111,
              "#46039f"
             ],
             [
              0.2222222222222222,
              "#7201a8"
             ],
             [
              0.3333333333333333,
              "#9c179e"
             ],
             [
              0.4444444444444444,
              "#bd3786"
             ],
             [
              0.5555555555555556,
              "#d8576b"
             ],
             [
              0.6666666666666666,
              "#ed7953"
             ],
             [
              0.7777777777777778,
              "#fb9f3a"
             ],
             [
              0.8888888888888888,
              "#fdca26"
             ],
             [
              1,
              "#f0f921"
             ]
            ],
            "type": "heatmapgl"
           }
          ],
          "histogram": [
           {
            "marker": {
             "pattern": {
              "fillmode": "overlay",
              "size": 10,
              "solidity": 0.2
             }
            },
            "type": "histogram"
           }
          ],
          "histogram2d": [
           {
            "colorbar": {
             "outlinewidth": 0,
             "ticks": ""
            },
            "colorscale": [
             [
              0,
              "#0d0887"
             ],
             [
              0.1111111111111111,
              "#46039f"
             ],
             [
              0.2222222222222222,
              "#7201a8"
             ],
             [
              0.3333333333333333,
              "#9c179e"
             ],
             [
              0.4444444444444444,
              "#bd3786"
             ],
             [
              0.5555555555555556,
              "#d8576b"
             ],
             [
              0.6666666666666666,
              "#ed7953"
             ],
             [
              0.7777777777777778,
              "#fb9f3a"
             ],
             [
              0.8888888888888888,
              "#fdca26"
             ],
             [
              1,
              "#f0f921"
             ]
            ],
            "type": "histogram2d"
           }
          ],
          "histogram2dcontour": [
           {
            "colorbar": {
             "outlinewidth": 0,
             "ticks": ""
            },
            "colorscale": [
             [
              0,
              "#0d0887"
             ],
             [
              0.1111111111111111,
              "#46039f"
             ],
             [
              0.2222222222222222,
              "#7201a8"
             ],
             [
              0.3333333333333333,
              "#9c179e"
             ],
             [
              0.4444444444444444,
              "#bd3786"
             ],
             [
              0.5555555555555556,
              "#d8576b"
             ],
             [
              0.6666666666666666,
              "#ed7953"
             ],
             [
              0.7777777777777778,
              "#fb9f3a"
             ],
             [
              0.8888888888888888,
              "#fdca26"
             ],
             [
              1,
              "#f0f921"
             ]
            ],
            "type": "histogram2dcontour"
           }
          ],
          "mesh3d": [
           {
            "colorbar": {
             "outlinewidth": 0,
             "ticks": ""
            },
            "type": "mesh3d"
           }
          ],
          "parcoords": [
           {
            "line": {
             "colorbar": {
              "outlinewidth": 0,
              "ticks": ""
             }
            },
            "type": "parcoords"
           }
          ],
          "pie": [
           {
            "automargin": true,
            "type": "pie"
           }
          ],
          "scatter": [
           {
            "fillpattern": {
             "fillmode": "overlay",
             "size": 10,
             "solidity": 0.2
            },
            "type": "scatter"
           }
          ],
          "scatter3d": [
           {
            "line": {
             "colorbar": {
              "outlinewidth": 0,
              "ticks": ""
             }
            },
            "marker": {
             "colorbar": {
              "outlinewidth": 0,
              "ticks": ""
             }
            },
            "type": "scatter3d"
           }
          ],
          "scattercarpet": [
           {
            "marker": {
             "colorbar": {
              "outlinewidth": 0,
              "ticks": ""
             }
            },
            "type": "scattercarpet"
           }
          ],
          "scattergeo": [
           {
            "marker": {
             "colorbar": {
              "outlinewidth": 0,
              "ticks": ""
             }
            },
            "type": "scattergeo"
           }
          ],
          "scattergl": [
           {
            "marker": {
             "colorbar": {
              "outlinewidth": 0,
              "ticks": ""
             }
            },
            "type": "scattergl"
           }
          ],
          "scattermapbox": [
           {
            "marker": {
             "colorbar": {
              "outlinewidth": 0,
              "ticks": ""
             }
            },
            "type": "scattermapbox"
           }
          ],
          "scatterpolar": [
           {
            "marker": {
             "colorbar": {
              "outlinewidth": 0,
              "ticks": ""
             }
            },
            "type": "scatterpolar"
           }
          ],
          "scatterpolargl": [
           {
            "marker": {
             "colorbar": {
              "outlinewidth": 0,
              "ticks": ""
             }
            },
            "type": "scatterpolargl"
           }
          ],
          "scatterternary": [
           {
            "marker": {
             "colorbar": {
              "outlinewidth": 0,
              "ticks": ""
             }
            },
            "type": "scatterternary"
           }
          ],
          "surface": [
           {
            "colorbar": {
             "outlinewidth": 0,
             "ticks": ""
            },
            "colorscale": [
             [
              0,
              "#0d0887"
             ],
             [
              0.1111111111111111,
              "#46039f"
             ],
             [
              0.2222222222222222,
              "#7201a8"
             ],
             [
              0.3333333333333333,
              "#9c179e"
             ],
             [
              0.4444444444444444,
              "#bd3786"
             ],
             [
              0.5555555555555556,
              "#d8576b"
             ],
             [
              0.6666666666666666,
              "#ed7953"
             ],
             [
              0.7777777777777778,
              "#fb9f3a"
             ],
             [
              0.8888888888888888,
              "#fdca26"
             ],
             [
              1,
              "#f0f921"
             ]
            ],
            "type": "surface"
           }
          ],
          "table": [
           {
            "cells": {
             "fill": {
              "color": "#EBF0F8"
             },
             "line": {
              "color": "white"
             }
            },
            "header": {
             "fill": {
              "color": "#C8D4E3"
             },
             "line": {
              "color": "white"
             }
            },
            "type": "table"
           }
          ]
         },
         "layout": {
          "annotationdefaults": {
           "arrowcolor": "#2a3f5f",
           "arrowhead": 0,
           "arrowwidth": 1
          },
          "autotypenumbers": "strict",
          "coloraxis": {
           "colorbar": {
            "outlinewidth": 0,
            "ticks": ""
           }
          },
          "colorscale": {
           "diverging": [
            [
             0,
             "#8e0152"
            ],
            [
             0.1,
             "#c51b7d"
            ],
            [
             0.2,
             "#de77ae"
            ],
            [
             0.3,
             "#f1b6da"
            ],
            [
             0.4,
             "#fde0ef"
            ],
            [
             0.5,
             "#f7f7f7"
            ],
            [
             0.6,
             "#e6f5d0"
            ],
            [
             0.7,
             "#b8e186"
            ],
            [
             0.8,
             "#7fbc41"
            ],
            [
             0.9,
             "#4d9221"
            ],
            [
             1,
             "#276419"
            ]
           ],
           "sequential": [
            [
             0,
             "#0d0887"
            ],
            [
             0.1111111111111111,
             "#46039f"
            ],
            [
             0.2222222222222222,
             "#7201a8"
            ],
            [
             0.3333333333333333,
             "#9c179e"
            ],
            [
             0.4444444444444444,
             "#bd3786"
            ],
            [
             0.5555555555555556,
             "#d8576b"
            ],
            [
             0.6666666666666666,
             "#ed7953"
            ],
            [
             0.7777777777777778,
             "#fb9f3a"
            ],
            [
             0.8888888888888888,
             "#fdca26"
            ],
            [
             1,
             "#f0f921"
            ]
           ],
           "sequentialminus": [
            [
             0,
             "#0d0887"
            ],
            [
             0.1111111111111111,
             "#46039f"
            ],
            [
             0.2222222222222222,
             "#7201a8"
            ],
            [
             0.3333333333333333,
             "#9c179e"
            ],
            [
             0.4444444444444444,
             "#bd3786"
            ],
            [
             0.5555555555555556,
             "#d8576b"
            ],
            [
             0.6666666666666666,
             "#ed7953"
            ],
            [
             0.7777777777777778,
             "#fb9f3a"
            ],
            [
             0.8888888888888888,
             "#fdca26"
            ],
            [
             1,
             "#f0f921"
            ]
           ]
          },
          "colorway": [
           "#636efa",
           "#EF553B",
           "#00cc96",
           "#ab63fa",
           "#FFA15A",
           "#19d3f3",
           "#FF6692",
           "#B6E880",
           "#FF97FF",
           "#FECB52"
          ],
          "font": {
           "color": "#2a3f5f"
          },
          "geo": {
           "bgcolor": "white",
           "lakecolor": "white",
           "landcolor": "#E5ECF6",
           "showlakes": true,
           "showland": true,
           "subunitcolor": "white"
          },
          "hoverlabel": {
           "align": "left"
          },
          "hovermode": "closest",
          "mapbox": {
           "style": "light"
          },
          "paper_bgcolor": "white",
          "plot_bgcolor": "#E5ECF6",
          "polar": {
           "angularaxis": {
            "gridcolor": "white",
            "linecolor": "white",
            "ticks": ""
           },
           "bgcolor": "#E5ECF6",
           "radialaxis": {
            "gridcolor": "white",
            "linecolor": "white",
            "ticks": ""
           }
          },
          "scene": {
           "xaxis": {
            "backgroundcolor": "#E5ECF6",
            "gridcolor": "white",
            "gridwidth": 2,
            "linecolor": "white",
            "showbackground": true,
            "ticks": "",
            "zerolinecolor": "white"
           },
           "yaxis": {
            "backgroundcolor": "#E5ECF6",
            "gridcolor": "white",
            "gridwidth": 2,
            "linecolor": "white",
            "showbackground": true,
            "ticks": "",
            "zerolinecolor": "white"
           },
           "zaxis": {
            "backgroundcolor": "#E5ECF6",
            "gridcolor": "white",
            "gridwidth": 2,
            "linecolor": "white",
            "showbackground": true,
            "ticks": "",
            "zerolinecolor": "white"
           }
          },
          "shapedefaults": {
           "line": {
            "color": "#2a3f5f"
           }
          },
          "ternary": {
           "aaxis": {
            "gridcolor": "white",
            "linecolor": "white",
            "ticks": ""
           },
           "baxis": {
            "gridcolor": "white",
            "linecolor": "white",
            "ticks": ""
           },
           "bgcolor": "#E5ECF6",
           "caxis": {
            "gridcolor": "white",
            "linecolor": "white",
            "ticks": ""
           }
          },
          "title": {
           "x": 0.05
          },
          "xaxis": {
           "automargin": true,
           "gridcolor": "white",
           "linecolor": "white",
           "ticks": "",
           "title": {
            "standoff": 15
           },
           "zerolinecolor": "white",
           "zerolinewidth": 2
          },
          "yaxis": {
           "automargin": true,
           "gridcolor": "white",
           "linecolor": "white",
           "ticks": "",
           "title": {
            "standoff": 15
           },
           "zerolinecolor": "white",
           "zerolinewidth": 2
          }
         }
        },
        "title": {
         "text": "Promotions Heatmap by City"
        }
       }
      },
      "text/html": [
       "<div>                            <div id=\"de722a8e-dd8c-47ff-9133-7da595ed68e6\" class=\"plotly-graph-div\" style=\"height:525px; width:100%;\"></div>            <script type=\"text/javascript\">                require([\"plotly\"], function(Plotly) {                    window.PLOTLYENV=window.PLOTLYENV || {};                                    if (document.getElementById(\"de722a8e-dd8c-47ff-9133-7da595ed68e6\")) {                    Plotly.newPlot(                        \"de722a8e-dd8c-47ff-9133-7da595ed68e6\",                        [{\"hovertemplate\":\"\\u003cb\\u003e%{hovertext}\\u003c\\u002fb\\u003e\\u003cbr\\u003e\\u003cbr\\u003eonpromotion=%{marker.color}\\u003cbr\\u003eLatitude=%{lat}\\u003cbr\\u003eLongitude=%{lon}\\u003cextra\\u003e\\u003c\\u002fextra\\u003e\",\"hovertext\":[\"Ambato\",\"Babahoyo\",\"Cayambe\",\"Cuenca\",\"Daule\",\"El Carmen\",\"Esmeraldas\",\"Guaranda\",\"Guayaquil\",\"Ibarra\",\"Latacunga\",\"Libertad\",\"Loja\",\"Machala\",\"Manta\",\"Playas\",\"Puyo\",\"Quevedo\",\"Quito\",\"Riobamba\",\"Salinas\",\"Santo Domingo\"],\"lat\":[-1.241667,-1.801926,0.040704,-2.897414,-1.86218,-0.265308,0.95921,-1.609097,-2.170998,0.339176,-0.933333,-2.233333,-3.99313,-3.258611,-0.967653,-2.62986,-1.48371,-1.022512,-0.21861,-1.663551,-2.214015,-0.25221],\"legendgroup\":\"\",\"lon\":[-78.619545,-79.534645,-78.159666,-79.00453,-79.97773,-79.45645,-79.65397,-79.011261,-79.922359,-78.122234,-78.61667,-80.9,-79.20422,-79.955278,-80.70891,-80.37997,-77.98723,-79.460403,-78.50972,-78.654645,-80.973988,-79.17284],\"marker\":{\"color\":[10305,5954,5767,15797,5134,4226,5752,4297,40160,5042,8923,5697,5057,9558,8359,4047,4409,5125,101219,4468,4479,15479],\"coloraxis\":\"coloraxis\",\"size\":[10305,5954,5767,15797,5134,4226,5752,4297,40160,5042,8923,5697,5057,9558,8359,4047,4409,5125,101219,4468,4479,15479],\"sizemode\":\"area\",\"sizeref\":449.8622222222222},\"mode\":\"markers\",\"name\":\"\",\"showlegend\":false,\"subplot\":\"mapbox\",\"type\":\"scattermapbox\"}],                        {\"template\":{\"data\":{\"histogram2dcontour\":[{\"type\":\"histogram2dcontour\",\"colorbar\":{\"outlinewidth\":0,\"ticks\":\"\"},\"colorscale\":[[0.0,\"#0d0887\"],[0.1111111111111111,\"#46039f\"],[0.2222222222222222,\"#7201a8\"],[0.3333333333333333,\"#9c179e\"],[0.4444444444444444,\"#bd3786\"],[0.5555555555555556,\"#d8576b\"],[0.6666666666666666,\"#ed7953\"],[0.7777777777777778,\"#fb9f3a\"],[0.8888888888888888,\"#fdca26\"],[1.0,\"#f0f921\"]]}],\"choropleth\":[{\"type\":\"choropleth\",\"colorbar\":{\"outlinewidth\":0,\"ticks\":\"\"}}],\"histogram2d\":[{\"type\":\"histogram2d\",\"colorbar\":{\"outlinewidth\":0,\"ticks\":\"\"},\"colorscale\":[[0.0,\"#0d0887\"],[0.1111111111111111,\"#46039f\"],[0.2222222222222222,\"#7201a8\"],[0.3333333333333333,\"#9c179e\"],[0.4444444444444444,\"#bd3786\"],[0.5555555555555556,\"#d8576b\"],[0.6666666666666666,\"#ed7953\"],[0.7777777777777778,\"#fb9f3a\"],[0.8888888888888888,\"#fdca26\"],[1.0,\"#f0f921\"]]}],\"heatmap\":[{\"type\":\"heatmap\",\"colorbar\":{\"outlinewidth\":0,\"ticks\":\"\"},\"colorscale\":[[0.0,\"#0d0887\"],[0.1111111111111111,\"#46039f\"],[0.2222222222222222,\"#7201a8\"],[0.3333333333333333,\"#9c179e\"],[0.4444444444444444,\"#bd3786\"],[0.5555555555555556,\"#d8576b\"],[0.6666666666666666,\"#ed7953\"],[0.7777777777777778,\"#fb9f3a\"],[0.8888888888888888,\"#fdca26\"],[1.0,\"#f0f921\"]]}],\"heatmapgl\":[{\"type\":\"heatmapgl\",\"colorbar\":{\"outlinewidth\":0,\"ticks\":\"\"},\"colorscale\":[[0.0,\"#0d0887\"],[0.1111111111111111,\"#46039f\"],[0.2222222222222222,\"#7201a8\"],[0.3333333333333333,\"#9c179e\"],[0.4444444444444444,\"#bd3786\"],[0.5555555555555556,\"#d8576b\"],[0.6666666666666666,\"#ed7953\"],[0.7777777777777778,\"#fb9f3a\"],[0.8888888888888888,\"#fdca26\"],[1.0,\"#f0f921\"]]}],\"contourcarpet\":[{\"type\":\"contourcarpet\",\"colorbar\":{\"outlinewidth\":0,\"ticks\":\"\"}}],\"contour\":[{\"type\":\"contour\",\"colorbar\":{\"outlinewidth\":0,\"ticks\":\"\"},\"colorscale\":[[0.0,\"#0d0887\"],[0.1111111111111111,\"#46039f\"],[0.2222222222222222,\"#7201a8\"],[0.3333333333333333,\"#9c179e\"],[0.4444444444444444,\"#bd3786\"],[0.5555555555555556,\"#d8576b\"],[0.6666666666666666,\"#ed7953\"],[0.7777777777777778,\"#fb9f3a\"],[0.8888888888888888,\"#fdca26\"],[1.0,\"#f0f921\"]]}],\"surface\":[{\"type\":\"surface\",\"colorbar\":{\"outlinewidth\":0,\"ticks\":\"\"},\"colorscale\":[[0.0,\"#0d0887\"],[0.1111111111111111,\"#46039f\"],[0.2222222222222222,\"#7201a8\"],[0.3333333333333333,\"#9c179e\"],[0.4444444444444444,\"#bd3786\"],[0.5555555555555556,\"#d8576b\"],[0.6666666666666666,\"#ed7953\"],[0.7777777777777778,\"#fb9f3a\"],[0.8888888888888888,\"#fdca26\"],[1.0,\"#f0f921\"]]}],\"mesh3d\":[{\"type\":\"mesh3d\",\"colorbar\":{\"outlinewidth\":0,\"ticks\":\"\"}}],\"scatter\":[{\"fillpattern\":{\"fillmode\":\"overlay\",\"size\":10,\"solidity\":0.2},\"type\":\"scatter\"}],\"parcoords\":[{\"type\":\"parcoords\",\"line\":{\"colorbar\":{\"outlinewidth\":0,\"ticks\":\"\"}}}],\"scatterpolargl\":[{\"type\":\"scatterpolargl\",\"marker\":{\"colorbar\":{\"outlinewidth\":0,\"ticks\":\"\"}}}],\"bar\":[{\"error_x\":{\"color\":\"#2a3f5f\"},\"error_y\":{\"color\":\"#2a3f5f\"},\"marker\":{\"line\":{\"color\":\"#E5ECF6\",\"width\":0.5},\"pattern\":{\"fillmode\":\"overlay\",\"size\":10,\"solidity\":0.2}},\"type\":\"bar\"}],\"scattergeo\":[{\"type\":\"scattergeo\",\"marker\":{\"colorbar\":{\"outlinewidth\":0,\"ticks\":\"\"}}}],\"scatterpolar\":[{\"type\":\"scatterpolar\",\"marker\":{\"colorbar\":{\"outlinewidth\":0,\"ticks\":\"\"}}}],\"histogram\":[{\"marker\":{\"pattern\":{\"fillmode\":\"overlay\",\"size\":10,\"solidity\":0.2}},\"type\":\"histogram\"}],\"scattergl\":[{\"type\":\"scattergl\",\"marker\":{\"colorbar\":{\"outlinewidth\":0,\"ticks\":\"\"}}}],\"scatter3d\":[{\"type\":\"scatter3d\",\"line\":{\"colorbar\":{\"outlinewidth\":0,\"ticks\":\"\"}},\"marker\":{\"colorbar\":{\"outlinewidth\":0,\"ticks\":\"\"}}}],\"scattermapbox\":[{\"type\":\"scattermapbox\",\"marker\":{\"colorbar\":{\"outlinewidth\":0,\"ticks\":\"\"}}}],\"scatterternary\":[{\"type\":\"scatterternary\",\"marker\":{\"colorbar\":{\"outlinewidth\":0,\"ticks\":\"\"}}}],\"scattercarpet\":[{\"type\":\"scattercarpet\",\"marker\":{\"colorbar\":{\"outlinewidth\":0,\"ticks\":\"\"}}}],\"carpet\":[{\"aaxis\":{\"endlinecolor\":\"#2a3f5f\",\"gridcolor\":\"white\",\"linecolor\":\"white\",\"minorgridcolor\":\"white\",\"startlinecolor\":\"#2a3f5f\"},\"baxis\":{\"endlinecolor\":\"#2a3f5f\",\"gridcolor\":\"white\",\"linecolor\":\"white\",\"minorgridcolor\":\"white\",\"startlinecolor\":\"#2a3f5f\"},\"type\":\"carpet\"}],\"table\":[{\"cells\":{\"fill\":{\"color\":\"#EBF0F8\"},\"line\":{\"color\":\"white\"}},\"header\":{\"fill\":{\"color\":\"#C8D4E3\"},\"line\":{\"color\":\"white\"}},\"type\":\"table\"}],\"barpolar\":[{\"marker\":{\"line\":{\"color\":\"#E5ECF6\",\"width\":0.5},\"pattern\":{\"fillmode\":\"overlay\",\"size\":10,\"solidity\":0.2}},\"type\":\"barpolar\"}],\"pie\":[{\"automargin\":true,\"type\":\"pie\"}]},\"layout\":{\"autotypenumbers\":\"strict\",\"colorway\":[\"#636efa\",\"#EF553B\",\"#00cc96\",\"#ab63fa\",\"#FFA15A\",\"#19d3f3\",\"#FF6692\",\"#B6E880\",\"#FF97FF\",\"#FECB52\"],\"font\":{\"color\":\"#2a3f5f\"},\"hovermode\":\"closest\",\"hoverlabel\":{\"align\":\"left\"},\"paper_bgcolor\":\"white\",\"plot_bgcolor\":\"#E5ECF6\",\"polar\":{\"bgcolor\":\"#E5ECF6\",\"angularaxis\":{\"gridcolor\":\"white\",\"linecolor\":\"white\",\"ticks\":\"\"},\"radialaxis\":{\"gridcolor\":\"white\",\"linecolor\":\"white\",\"ticks\":\"\"}},\"ternary\":{\"bgcolor\":\"#E5ECF6\",\"aaxis\":{\"gridcolor\":\"white\",\"linecolor\":\"white\",\"ticks\":\"\"},\"baxis\":{\"gridcolor\":\"white\",\"linecolor\":\"white\",\"ticks\":\"\"},\"caxis\":{\"gridcolor\":\"white\",\"linecolor\":\"white\",\"ticks\":\"\"}},\"coloraxis\":{\"colorbar\":{\"outlinewidth\":0,\"ticks\":\"\"}},\"colorscale\":{\"sequential\":[[0.0,\"#0d0887\"],[0.1111111111111111,\"#46039f\"],[0.2222222222222222,\"#7201a8\"],[0.3333333333333333,\"#9c179e\"],[0.4444444444444444,\"#bd3786\"],[0.5555555555555556,\"#d8576b\"],[0.6666666666666666,\"#ed7953\"],[0.7777777777777778,\"#fb9f3a\"],[0.8888888888888888,\"#fdca26\"],[1.0,\"#f0f921\"]],\"sequentialminus\":[[0.0,\"#0d0887\"],[0.1111111111111111,\"#46039f\"],[0.2222222222222222,\"#7201a8\"],[0.3333333333333333,\"#9c179e\"],[0.4444444444444444,\"#bd3786\"],[0.5555555555555556,\"#d8576b\"],[0.6666666666666666,\"#ed7953\"],[0.7777777777777778,\"#fb9f3a\"],[0.8888888888888888,\"#fdca26\"],[1.0,\"#f0f921\"]],\"diverging\":[[0,\"#8e0152\"],[0.1,\"#c51b7d\"],[0.2,\"#de77ae\"],[0.3,\"#f1b6da\"],[0.4,\"#fde0ef\"],[0.5,\"#f7f7f7\"],[0.6,\"#e6f5d0\"],[0.7,\"#b8e186\"],[0.8,\"#7fbc41\"],[0.9,\"#4d9221\"],[1,\"#276419\"]]},\"xaxis\":{\"gridcolor\":\"white\",\"linecolor\":\"white\",\"ticks\":\"\",\"title\":{\"standoff\":15},\"zerolinecolor\":\"white\",\"automargin\":true,\"zerolinewidth\":2},\"yaxis\":{\"gridcolor\":\"white\",\"linecolor\":\"white\",\"ticks\":\"\",\"title\":{\"standoff\":15},\"zerolinecolor\":\"white\",\"automargin\":true,\"zerolinewidth\":2},\"scene\":{\"xaxis\":{\"backgroundcolor\":\"#E5ECF6\",\"gridcolor\":\"white\",\"linecolor\":\"white\",\"showbackground\":true,\"ticks\":\"\",\"zerolinecolor\":\"white\",\"gridwidth\":2},\"yaxis\":{\"backgroundcolor\":\"#E5ECF6\",\"gridcolor\":\"white\",\"linecolor\":\"white\",\"showbackground\":true,\"ticks\":\"\",\"zerolinecolor\":\"white\",\"gridwidth\":2},\"zaxis\":{\"backgroundcolor\":\"#E5ECF6\",\"gridcolor\":\"white\",\"linecolor\":\"white\",\"showbackground\":true,\"ticks\":\"\",\"zerolinecolor\":\"white\",\"gridwidth\":2}},\"shapedefaults\":{\"line\":{\"color\":\"#2a3f5f\"}},\"annotationdefaults\":{\"arrowcolor\":\"#2a3f5f\",\"arrowhead\":0,\"arrowwidth\":1},\"geo\":{\"bgcolor\":\"white\",\"landcolor\":\"#E5ECF6\",\"subunitcolor\":\"white\",\"showland\":true,\"showlakes\":true,\"lakecolor\":\"white\"},\"title\":{\"x\":0.05},\"mapbox\":{\"style\":\"light\"}}},\"mapbox\":{\"domain\":{\"x\":[0.0,1.0],\"y\":[0.0,1.0]},\"center\":{\"lat\":-1.426364909090909,\"lon\":-79.363012},\"zoom\":5,\"style\":\"carto-positron\"},\"coloraxis\":{\"colorbar\":{\"title\":{\"text\":\"onpromotion\"}},\"colorscale\":[[0.0,\"rgb(0,0,255)\"],[1.0,\"rgb(255,0,0)\"]]},\"legend\":{\"tracegroupgap\":0,\"itemsizing\":\"constant\"},\"margin\":{\"t\":0,\"r\":0,\"l\":0,\"b\":0},\"title\":{\"text\":\"Promotions Heatmap by City\"}},                        {\"responsive\": true}                    ).then(function(){\n",
       "                            \n",
       "var gd = document.getElementById('de722a8e-dd8c-47ff-9133-7da595ed68e6');\n",
       "var x = new MutationObserver(function (mutations, observer) {{\n",
       "        var display = window.getComputedStyle(gd).display;\n",
       "        if (!display || display === 'none') {{\n",
       "            console.log([gd, 'removed!']);\n",
       "            Plotly.purge(gd);\n",
       "            observer.disconnect();\n",
       "        }}\n",
       "}});\n",
       "\n",
       "// Listen for the removal of the full notebook cells\n",
       "var notebookContainer = gd.closest('#notebook-container');\n",
       "if (notebookContainer) {{\n",
       "    x.observe(notebookContainer, {childList: true});\n",
       "}}\n",
       "\n",
       "// Listen for the clearing of the current output cell\n",
       "var outputEl = gd.closest('.output');\n",
       "if (outputEl) {{\n",
       "    x.observe(outputEl, {childList: true});\n",
       "}}\n",
       "\n",
       "                        })                };                });            </script>        </div>"
      ]
     },
     "metadata": {},
     "output_type": "display_data"
    }
   ],
   "source": [
    "import plotly.express as px\n",
    "\n",
    "fig = px.scatter_mapbox(merged_data, \n",
    "                        lat=\"Latitude\", \n",
    "                        lon=\"Longitude\", \n",
    "                        size=\"onpromotion\", \n",
    "                        color=\"onpromotion\",\n",
    "                        color_continuous_scale=px.colors.sequential.Bluered, # 修改色板為藍紅色序列\n",
    "                        size_max=15, \n",
    "                        zoom=5, \n",
    "                        hover_name=\"City\",\n",
    "                        mapbox_style=\"carto-positron\")\n",
    "\n",
    "fig.update_layout(margin={\"r\":0,\"t\":0,\"l\":0,\"b\":0}, title=\"Promotions Heatmap by City\")\n",
    "fig.show()\n"
   ]
  },
  {
   "cell_type": "markdown",
   "id": "c4bb8908",
   "metadata": {},
   "source": [
    "發現5\n",
    "\n",
    "有兩座城市的促銷次數特別多\n",
    "\n",
    "Quito 10129 次\n",
    "Guyaquil 40160 次\n",
    "\n",
    "猜想: 是否和人口有關?\n",
    "\n",
    "查到的資料:\n",
    "- Quito's population (as of 2022): 1,763,275 (佔總人口 10%)\n",
    "- Guayaquil's population (as of 2022): 2,650,288  (佔總人口 15%)\n",
    "- Total population of Ecuador (estimated for 2022): 17,768,000\n",
    "\n",
    " Guayaquil 的人口只多5%，促銷次數卻多了3倍!"
   ]
  },
  {
   "cell_type": "code",
   "execution_count": null,
   "id": "6472add9",
   "metadata": {},
   "outputs": [],
   "source": []
  }
 ],
 "metadata": {
  "kernelspec": {
   "display_name": "Python 3 (ipykernel)",
   "language": "python",
   "name": "python3"
  },
  "language_info": {
   "codemirror_mode": {
    "name": "ipython",
    "version": 3
   },
   "file_extension": ".py",
   "mimetype": "text/x-python",
   "name": "python",
   "nbconvert_exporter": "python",
   "pygments_lexer": "ipython3",
   "version": "3.8.16"
  }
 },
 "nbformat": 4,
 "nbformat_minor": 5
}
