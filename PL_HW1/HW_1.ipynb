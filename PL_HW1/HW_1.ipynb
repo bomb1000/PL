{
 "cells": [
  {
   "cell_type": "markdown",
   "id": "93bf64c7",
   "metadata": {},
   "source": [
    "# 讀入資料"
   ]
  },
  {
   "cell_type": "code",
   "execution_count": 16,
   "id": "2e381abc",
   "metadata": {},
   "outputs": [],
   "source": [
    "import pandas as pd"
   ]
  },
  {
   "cell_type": "code",
   "execution_count": 17,
   "id": "b648ed03",
   "metadata": {},
   "outputs": [],
   "source": [
    "df = pd.read_csv('titanic.csv')"
   ]
  },
  {
   "cell_type": "code",
   "execution_count": 18,
   "id": "aa3c272e",
   "metadata": {},
   "outputs": [
    {
     "data": {
      "text/html": [
       "<div>\n",
       "<style scoped>\n",
       "    .dataframe tbody tr th:only-of-type {\n",
       "        vertical-align: middle;\n",
       "    }\n",
       "\n",
       "    .dataframe tbody tr th {\n",
       "        vertical-align: top;\n",
       "    }\n",
       "\n",
       "    .dataframe thead th {\n",
       "        text-align: right;\n",
       "    }\n",
       "</style>\n",
       "<table border=\"1\" class=\"dataframe\">\n",
       "  <thead>\n",
       "    <tr style=\"text-align: right;\">\n",
       "      <th></th>\n",
       "      <th>PassengerId</th>\n",
       "      <th>Survived</th>\n",
       "      <th>Pclass</th>\n",
       "      <th>Name</th>\n",
       "      <th>Sex</th>\n",
       "      <th>Age</th>\n",
       "      <th>SibSp</th>\n",
       "      <th>Parch</th>\n",
       "      <th>Ticket</th>\n",
       "      <th>Fare</th>\n",
       "      <th>Cabin</th>\n",
       "      <th>Embarked</th>\n",
       "    </tr>\n",
       "  </thead>\n",
       "  <tbody>\n",
       "    <tr>\n",
       "      <th>0</th>\n",
       "      <td>1</td>\n",
       "      <td>0</td>\n",
       "      <td>3</td>\n",
       "      <td>Braund, Mr. Owen Harris</td>\n",
       "      <td>male</td>\n",
       "      <td>22</td>\n",
       "      <td>1</td>\n",
       "      <td>0</td>\n",
       "      <td>A/5 21171</td>\n",
       "      <td>7.250</td>\n",
       "      <td>-</td>\n",
       "      <td>S</td>\n",
       "    </tr>\n",
       "    <tr>\n",
       "      <th>1</th>\n",
       "      <td>2</td>\n",
       "      <td>1</td>\n",
       "      <td>1</td>\n",
       "      <td>Cumings, Mrs. John Bradley (Florence Briggs Th...</td>\n",
       "      <td>female</td>\n",
       "      <td>38</td>\n",
       "      <td>1</td>\n",
       "      <td>0</td>\n",
       "      <td>PC 17599</td>\n",
       "      <td>71.283</td>\n",
       "      <td>C85</td>\n",
       "      <td>C</td>\n",
       "    </tr>\n",
       "    <tr>\n",
       "      <th>2</th>\n",
       "      <td>3</td>\n",
       "      <td>1</td>\n",
       "      <td>3</td>\n",
       "      <td>Heikkinen, Miss. Laina</td>\n",
       "      <td>female</td>\n",
       "      <td>26</td>\n",
       "      <td>0</td>\n",
       "      <td>0</td>\n",
       "      <td>STON/O2. 3101282</td>\n",
       "      <td>7.925</td>\n",
       "      <td>-</td>\n",
       "      <td>S</td>\n",
       "    </tr>\n",
       "    <tr>\n",
       "      <th>3</th>\n",
       "      <td>4</td>\n",
       "      <td>1</td>\n",
       "      <td>1</td>\n",
       "      <td>Futrelle, Mrs. Jacques Heath (Lily May Peel)</td>\n",
       "      <td>female</td>\n",
       "      <td>35</td>\n",
       "      <td>1</td>\n",
       "      <td>0</td>\n",
       "      <td>113803</td>\n",
       "      <td>53.100</td>\n",
       "      <td>C123</td>\n",
       "      <td>S</td>\n",
       "    </tr>\n",
       "    <tr>\n",
       "      <th>4</th>\n",
       "      <td>5</td>\n",
       "      <td>0</td>\n",
       "      <td>3</td>\n",
       "      <td>Allen, Mr. William Henry</td>\n",
       "      <td>male</td>\n",
       "      <td>35</td>\n",
       "      <td>0</td>\n",
       "      <td>0</td>\n",
       "      <td>373450</td>\n",
       "      <td>8.050</td>\n",
       "      <td>-</td>\n",
       "      <td>S</td>\n",
       "    </tr>\n",
       "  </tbody>\n",
       "</table>\n",
       "</div>"
      ],
      "text/plain": [
       "   PassengerId  Survived  Pclass  \\\n",
       "0            1         0       3   \n",
       "1            2         1       1   \n",
       "2            3         1       3   \n",
       "3            4         1       1   \n",
       "4            5         0       3   \n",
       "\n",
       "                                                Name     Sex Age  SibSp  \\\n",
       "0                            Braund, Mr. Owen Harris    male  22      1   \n",
       "1  Cumings, Mrs. John Bradley (Florence Briggs Th...  female  38      1   \n",
       "2                             Heikkinen, Miss. Laina  female  26      0   \n",
       "3       Futrelle, Mrs. Jacques Heath (Lily May Peel)  female  35      1   \n",
       "4                           Allen, Mr. William Henry    male  35      0   \n",
       "\n",
       "   Parch            Ticket    Fare Cabin Embarked  \n",
       "0      0         A/5 21171   7.250     -        S  \n",
       "1      0          PC 17599  71.283   C85        C  \n",
       "2      0  STON/O2. 3101282   7.925     -        S  \n",
       "3      0            113803  53.100  C123        S  \n",
       "4      0            373450   8.050     -        S  "
      ]
     },
     "execution_count": 18,
     "metadata": {},
     "output_type": "execute_result"
    }
   ],
   "source": [
    "df.head()"
   ]
  },
  {
   "cell_type": "code",
   "execution_count": 19,
   "id": "48160c0a",
   "metadata": {},
   "outputs": [
    {
     "data": {
      "text/plain": [
       "1      Cumings, Mrs. John Bradley (Florence Briggs Th...\n",
       "2                                 Heikkinen, Miss. Laina\n",
       "3           Futrelle, Mrs. Jacques Heath (Lily May Peel)\n",
       "8      Johnson, Mrs. Oscar W (Elisabeth Vilhelmina Berg)\n",
       "9                    Nasser, Mrs. Nicholas (Adele Achem)\n",
       "                             ...                        \n",
       "875                     Najib, Miss. Adele Kiamie \"Jane\"\n",
       "879        Potter, Mrs. Thomas Jr (Lily Alexenia Wilson)\n",
       "880         Shelley, Mrs. William (Imanita Parrish Hall)\n",
       "887                         Graham, Miss. Margaret Edith\n",
       "889                                Behr, Mr. Karl Howell\n",
       "Name: Name, Length: 342, dtype: object"
      ]
     },
     "execution_count": 19,
     "metadata": {},
     "output_type": "execute_result"
    }
   ],
   "source": [
    "survived_df = pd.DataFrame()\n",
    "survived_df['Name'] = df[df['Survived'] == 1]['Name']\n",
    "survived_df['Name']"
   ]
  },
  {
   "cell_type": "code",
   "execution_count": 20,
   "id": "8fae43fd",
   "metadata": {},
   "outputs": [],
   "source": [
    "# 首先，創建一個新的空 DataFrame 或者根據 df 的結構創建一個新的 DataFrame\n",
    "pclass1_df = pd.DataFrame()\n",
    "pclass1_df['Name'] = df[df['Pclass'] == 1]['Name']\n",
    "pclass1_set = set(pclass1_df['Name'])"
   ]
  },
  {
   "cell_type": "code",
   "execution_count": 33,
   "id": "00dba2e5",
   "metadata": {},
   "outputs": [],
   "source": [
    "pclass2_df = pd.DataFrame()\n",
    "pclass2_df['Name'] = df[df['Pclass'] == 2]['Name']\n",
    "pclass2_set = set(pclass2_df['Name'])"
   ]
  },
  {
   "cell_type": "code",
   "execution_count": 22,
   "id": "b81eb93c",
   "metadata": {
    "scrolled": false
   },
   "outputs": [
    {
     "data": {
      "text/plain": [
       "0                       Braund, Mr. Owen Harris\n",
       "2                        Heikkinen, Miss. Laina\n",
       "4                      Allen, Mr. William Henry\n",
       "5                              Moran, Mr. James\n",
       "7                Palsson, Master. Gosta Leonard\n",
       "                         ...                   \n",
       "882                Dahlberg, Miss. Gerda Ulrika\n",
       "884                      Sutehall, Mr. Henry Jr\n",
       "885        Rice, Mrs. William (Margaret Norton)\n",
       "888    Johnston, Miss. Catherine Helen \"Carrie\"\n",
       "890                         Dooley, Mr. Patrick\n",
       "Name: Name, Length: 491, dtype: object"
      ]
     },
     "execution_count": 22,
     "metadata": {},
     "output_type": "execute_result"
    }
   ],
   "source": [
    "pclass3_df = pd.DataFrame()\n",
    "pclass3_df['Name'] = df[df['Pclass'] == 3]['Name']\n",
    "pclass3_df['Name']"
   ]
  },
  {
   "cell_type": "code",
   "execution_count": 23,
   "id": "44be68f4",
   "metadata": {},
   "outputs": [
    {
     "name": "stdout",
     "output_type": "stream",
     "text": [
      "<class 'pandas.core.frame.DataFrame'>\n",
      "Int64Index: 491 entries, 0 to 890\n",
      "Data columns (total 1 columns):\n",
      " #   Column  Non-Null Count  Dtype \n",
      "---  ------  --------------  ----- \n",
      " 0   Name    491 non-null    object\n",
      "dtypes: object(1)\n",
      "memory usage: 7.7+ KB\n"
     ]
    }
   ],
   "source": [
    "pclass3_df.info()"
   ]
  },
  {
   "cell_type": "code",
   "execution_count": 24,
   "id": "97bc4478",
   "metadata": {},
   "outputs": [],
   "source": [
    "# 將DataFrame轉換為集合\n",
    "survived_set = set(survived_df['Name'])\n",
    "pclass3_set = set(pclass3_df['Name'])"
   ]
  },
  {
   "cell_type": "markdown",
   "id": "73a92345",
   "metadata": {},
   "source": [
    "# 聯集 (以下均以pclass3_set做操作)"
   ]
  },
  {
   "cell_type": "code",
   "execution_count": 25,
   "id": "0caa6f74",
   "metadata": {
    "scrolled": true
   },
   "outputs": [
    {
     "name": "stdout",
     "output_type": "stream",
     "text": [
      "聯集結果：\n",
      "\n",
      "元素個數為:  714 \n",
      "\n",
      "{'Dimic, Mr. Jovan', 'Najib, Miss. Adele Kiamie \"Jane\"', 'Touma, Mrs. Darwis (Hanne Youssef Razi)', 'Celotti, Mr. Francesco', 'Longley, Miss. Gretchen Fiske', 'Harknett, Miss. Alice Phoebe', 'Backstrom, Mrs. Karl Alfred (Maria Mathilda Gustafsson)', 'Johansson, Mr. Karl Johan', 'Slayter, Miss. Hilda Mary', 'Leader, Dr. Alice (Farnham)', 'Mernagh, Mr. Robert', 'Greenfield, Mr. William Bertram', 'Graham, Miss. Margaret Edith', 'Kenyon, Mrs. Frederick R (Marion)', 'Keane, Miss. Nora A', 'Bourke, Mr. John', 'Stone, Mrs. George Nelson (Martha Evelyn)', 'Mannion, Miss. Margareth', 'Adahl, Mr. Mauritz Nils Martin', 'van Billiard, Mr. Austin Blyler', 'Smith, Miss. Marion Elsie', 'Emanuel, Miss. Virginia Ethel', 'Brown, Mrs. Thomas William Solomon (Elizabeth Catherine Ford)', 'Andersson, Miss. Ellis Anna Maria', 'Morley, Mr. William', 'Kink, Mr. Vincenz', 'Frauenthal, Mrs. Henry William (Clara Heinsheimer)', 'Klasen, Mr. Klas Albin', 'Nakid, Mr. Sahid', 'Chip, Mr. Chang', 'Elias, Mr. Dibo', 'Peduzzi, Mr. Joseph', 'Goodwin, Master. Sidney Leonard', 'Perkin, Mr. John Henry', 'Berglund, Mr. Karl Ivar Sven', 'Ling, Mr. Lee', 'Collyer, Miss. Marjorie \"Lottie\"', 'Coutts, Master. Eden Leslie \"Neville\"', 'Johnston, Miss. Catherine Helen \"Carrie\"', 'Jerwan, Mrs. Amin S (Marie Marthe Thuillard)', 'Harper, Mrs. Henry Sleeper (Myna Haxtun)', 'Kimball, Mr. Edwin Nelson Jr', 'Sjoblom, Miss. Anna Sofia', 'Lennon, Mr. Denis', 'Panula, Master. Eino Viljami', 'Gronnestad, Mr. Daniel Danielsen', 'Ibrahim Shawah, Mr. Yousseff', 'Peter, Mrs. Catherine (Catherine Rizk)', 'Mullens, Miss. Katherine \"Katie\"', 'Madigan, Miss. Margaret \"Maggie\"', 'Arnold-Franchi, Mr. Josef', 'Abbott, Mr. Rossmore Edward', 'Harmer, Mr. Abraham (David Lishin)', 'Gilnagh, Miss. Katherine \"Katie\"', 'Turcin, Mr. Stjepan', 'Shellard, Mr. Frederick William', 'Weisz, Mrs. Leopold (Mathilde Francoise Pede)', 'Laitinen, Miss. Kristina Sofia', 'Johannesen-Bratthammer, Mr. Bernt', 'Meo, Mr. Alfonzo', 'Calderhead, Mr. Edward Pennington', 'Navratil, Master. Edmond Roger', 'Yousif, Mr. Wazli', 'Hays, Miss. Margaret Bechstein', 'Heikkinen, Miss. Laina', 'Plotcharsky, Mr. Vasil', 'Allum, Mr. Owen George', 'Herman, Mrs. Samuel (Jane Laver)', 'Wick, Miss. Mary Natalie', 'Lobb, Mrs. William Arthur (Cordelia K Stanlick)', 'Dahl, Mr. Karl Edwart', 'Sunderland, Mr. Victor Francis', 'Lehmann, Miss. Bertha', 'Sandstrom, Mrs. Hjalmar (Agnes Charlotta Bengtsson)', 'Sadlier, Mr. Matthew', 'Sage, Miss. Stella Anna', \"O'Driscoll, Miss. Bridget\", 'Rush, Mr. Alfred George John', 'Ford, Mr. William Neal', 'Harder, Mr. George Achilles', 'Culumovic, Mr. Jeso', 'Salkjelsvik, Miss. Anna Kristine', 'Johnson, Miss. Eleanor Ileen', 'Oreskovic, Miss. Marija', 'Van Impe, Miss. Catharina', 'Coleff, Mr. Peju', 'Allen, Miss. Elisabeth Walton', 'Jermyn, Miss. Annie', 'Razi, Mr. Raihed', 'McGowan, Miss. Anna \"Annie\"', 'Radeff, Mr. Alexander', 'Frolicher, Miss. Hedwig Margaritha', 'Romaine, Mr. Charles Hallace (\"Mr C Rolmane\")', 'Carter, Mrs. William Ernest (Lucile Polk)', 'O\\'Dwyer, Miss. Ellen \"Nellie\"', 'Olsen, Mr. Karl Siegwart Andreas', 'McCoy, Mr. Bernard', 'Barton, Mr. David John', 'Wiklund, Mr. Jakob Alfred', 'Stoytcheff, Mr. Ilia', 'Strandberg, Miss. Ida Sofia', 'Osen, Mr. Olaf Elon', 'Cameron, Miss. Clear Annie', 'Mionoff, Mr. Stoytcho', 'Torber, Mr. Ernst William', 'Abbing, Mr. Anthony', 'Bazzani, Miss. Albina', 'Theobald, Mr. Thomas Leonard', 'Simmons, Mr. John', 'Harris, Mrs. Henry Birkhardt (Irene Wallach)', 'Heininen, Miss. Wendla Maria', 'Adams, Mr. John', 'Moubarek, Master. Gerios', 'Bjornstrom-Steffansson, Mr. Mauritz Hakan', 'Tikkanen, Mr. Juho', 'Slabenoff, Mr. Petco', 'Pickard, Mr. Berk (Berk Trembisky)', 'Flynn, Mr. James', 'Frauenthal, Dr. Henry William', 'Wick, Mrs. George Dennick (Mary Hitchcock)', 'Oreskovic, Mr. Luka', 'Quick, Miss. Phyllis May', 'Ford, Miss. Robina Maggie \"Ruby\"', 'Serepeca, Miss. Augusta', 'Asplund, Master. Clarence Gustaf Hugo', 'Aubart, Mme. Leontine Pauline', 'Tobin, Mr. Roger', 'Hirvonen, Miss. Hildur E', 'Davies, Mr. Alfred J', 'Goldsmith, Master. Frank John William \"Frankie\"', 'Johnson, Mrs. Oscar W (Elisabeth Vilhelmina Berg)', 'Ivanoff, Mr. Kanio', 'Bidois, Miss. Rosalie', 'Laroche, Mrs. Joseph (Juliette Marie Louise Lafargue)', 'Yasbeck, Mr. Antoni', 'Dooley, Mr. Patrick', 'Waelens, Mr. Achille', 'Nysten, Miss. Anna Sofia', 'Palsson, Mrs. Nils (Alma Cornelia Berglund)', 'Hansen, Mr. Henrik Juul', 'Cohen, Mr. Gurshon \"Gus\"', 'Shorney, Mr. Charles Joseph', 'Sage, Mr. Frederick', 'Daly, Mr. Peter Denis ', 'Thomas, Master. Assad Alexander', 'Ryerson, Miss. Susan Parker \"Suzette\"', 'Ohman, Miss. Velin', 'Maioni, Miss. Roberta', 'de Messemaeker, Mrs. Guillaume Joseph (Emma)', 'Goodwin, Mrs. Frederick (Augusta Tyler)', 'Johansson, Mr. Erik', 'Sage, Master. Thomas Henry', 'Beesley, Mr. Lawrence', 'Skoog, Master. Karl Thorsten', 'Rosblom, Mr. Viktor Richard', 'Maisner, Mr. Simon', 'Eklund, Mr. Hans Linus', 'Rice, Master. Eric', 'Hart, Mr. Henry', 'Gilinski, Mr. Eliezer', 'Holverson, Mrs. Alexander Oskar (Mary Aline Towner)', 'Baclini, Mrs. Solomon (Latifa Qurban)', 'Rintamaki, Mr. Matti', 'Peters, Miss. Katie', 'Alhomaki, Mr. Ilmari Rudolf', 'Hedman, Mr. Oskar Arvid', 'Morrow, Mr. Thomas Rowan', 'Richards, Mrs. Sidney (Emily Hocking)', 'Leitch, Miss. Jessie Wills', 'Harper, Mr. Henry Sleeper', 'Niskanen, Mr. Juha', 'Cacic, Miss. Marija', 'Backstrom, Mr. Karl Alfred', 'Wells, Miss. Joan', 'Pekoniemi, Mr. Edvard', 'Widegren, Mr. Carl/Charles Peter', 'O\\'Leary, Miss. Hanora \"Norah\"', 'Petterson, Mr. Johan Emil', 'Brocklebank, Mr. William Alfred', 'Cook, Mr. Jacob', 'Johnson, Mr. Alfred', 'Thayer, Mr. John Borland Jr', 'Cumings, Mrs. John Bradley (Florence Briggs Thayer)', 'Ilett, Miss. Bertha', 'Collyer, Mrs. Harvey (Charlotte Annie Tate)', 'Bourke, Miss. Mary', 'Hewlett, Mrs. (Mary D Kingcome) ', 'Ward, Miss. Anna', 'Goldenberg, Mr. Samuel L', 'Hogeboom, Mrs. John C (Anna Andrews)', 'Canavan, Miss. Mary', \"O'Connor, Mr. Maurice\", 'Richards, Master. George Sibley', 'Potter, Mrs. Thomas Jr (Lily Alexenia Wilson)', 'Graham, Mrs. William Thompson (Edith Junkins)', 'Panula, Master. Juha Niilo', 'Harris, Mr. George', 'Johansson, Mr. Gustaf Joel', 'Attalah, Mr. Sleiman', 'Shelley, Mrs. William (Imanita Parrish Hall)', 'Nicola-Yarred, Master. Elias', 'Maenpaa, Mr. Matti Alexanteri', 'Barber, Miss. Ellen \"Nellie\"', 'Goodwin, Miss. Lillian Amy', 'Hippach, Miss. Jean Gertrude', 'Svensson, Mr. Olof', 'Cann, Mr. Ernest Charles', 'Stankovic, Mr. Ivan', 'Young, Miss. Marie Grice', 'Lam, Mr. Len', 'Strom, Miss. Telma Matilda', 'Thayer, Mrs. John Borland (Marian Longstreth Morris)', 'Olsen, Mr. Henry Margido', 'Goodwin, Mr. Charles Edward', 'Carter, Miss. Lucile Polk', 'Vanden Steen, Mr. Leo Peter', 'West, Miss. Constance Mirium', 'Laleff, Mr. Kristo', 'Vovk, Mr. Janko', 'de Pelsmaeker, Mr. Alfons', 'Carlsson, Mr. August Sigfrid', 'Laroche, Miss. Simonne Marie Anne Andree', 'Dantcheff, Mr. Ristiu', 'Nosworthy, Mr. Richard Cater', 'Nilsson, Miss. Helmina Josefina', 'Rothes, the Countess. of (Lucy Noel Martha Dyer-Edwards)', 'Beavan, Mr. William Thomas', 'Fortune, Miss. Mabel Helen', 'Saalfeld, Mr. Adolphe', 'Vande Velde, Mr. Johannes Joseph', 'Sage, Miss. Constance Gladys', 'Andersson, Miss. Ebba Iris Alfrida', 'Hakkarainen, Mr. Pekka Pietari', 'Thorneycroft, Mr. Percival', 'Lefebre, Master. Henry Forbes', 'Braund, Mr. Lewis Richard', 'Alexander, Mr. William', 'Lam, Mr. Ali', 'Taylor, Mrs. Elmer Zebley (Juliet Cummins Wright)', 'Andreasson, Mr. Paul Edvin', 'Connors, Mr. Patrick', 'Jensen, Mr. Svend Lauritz', 'Van Impe, Mrs. Jean Baptiste (Rosalie Paula Govaert)', 'Taussig, Miss. Ruth', 'Ahlin, Mrs. Johan (Johanna Persdotter Larsson)', \"O'Sullivan, Miss. Bridget Mary\", 'Cor, Mr. Liudevit', 'Dowdell, Miss. Elizabeth', 'Sirota, Mr. Maurice', 'Duff Gordon, Lady. (Lucille Christiana Sutherland) (\"Mrs Morgan\")', 'McCormack, Mr. Thomas Joseph', 'Barbara, Miss. Saiide', 'Birkeland, Mr. Hans Martin Monsen', 'Pears, Mrs. Thomas (Edith Wearne)', 'Palsson, Master. Gosta Leonard', 'Pettersson, Miss. Ellen Natalia', 'Gustafsson, Mr. Alfred Ossian', 'Petroff, Mr. Pastcho (\"Pentcho\")', 'Williams, Mr. Howard Hugh \"Harry\"', 'Silven, Miss. Lyyli Karoliina', 'Coxon, Mr. Daniel', 'Asplund, Miss. Lillian Gertrud', 'Zabour, Miss. Hileni', 'Johnston, Mr. Andrew G', 'Tornquist, Mr. William Henry', 'Nasser, Mrs. Nicholas (Adele Achem)', 'Burns, Miss. Elizabeth Margaret', 'Murphy, Miss. Katherine \"Kate\"', 'Lindahl, Miss. Agda Thorilda Viktoria', 'Hansen, Mr. Henry Damsgaard', 'Vander Planke, Mrs. Julius (Emelia Maria Vandemoortele)', 'Mellors, Mr. William John', 'Compton, Miss. Sara Rebecca', 'Arnold-Franchi, Mrs. Josef (Josefine Franchi)', 'Wiseman, Mr. Phillippe', 'Bissette, Miss. Amelia', 'Lester, Mr. James', 'Novel, Mr. Mansouer', 'Reed, Mr. James George', 'Kelly, Miss. Mary', 'Todoroff, Mr. Lalio', 'Bishop, Mr. Dickinson H', 'Burke, Mr. Jeremiah', 'Lundahl, Mr. Johan Svensson', 'Abelson, Mrs. Samuel (Hannah Wizosky)', 'Lindblom, Miss. Augusta Charlotta', 'Attalah, Miss. Malake', 'Henry, Miss. Delia', 'Youseff, Mr. Gerious', 'Markun, Mr. Johann', 'Icard, Miss. Amelie', 'Saad, Mr. Khalil', 'Andersson, Miss. Ingeborg Constanzia', 'Kalvik, Mr. Johannes Halvorsen', 'Bystrom, Mrs. (Karolina)', 'Panula, Mr. Jaako Arnold', 'Gustafsson, Mr. Johan Birger', \"O'Connell, Mr. Patrick D\", 'Thorneycroft, Mrs. Percival (Florence Kate White)', 'Hart, Mrs. Benjamin (Esther Ada Bloomfield)', 'Robert, Mrs. Edward Scott (Elisabeth Walton McMillan)', 'Shutes, Miss. Elizabeth W', 'Dennis, Mr. Samuel', 'Francatelli, Miss. Laura Mabel', 'Karlsson, Mr. Nils August', 'Farrell, Mr. James', 'Beckwith, Mrs. Richard Leonard (Sallie Monypeny)', 'Ryerson, Miss. Emily Borie', 'McMahon, Mr. Martin', 'Sivic, Mr. Husein', 'Robins, Mrs. Alexander A (Grace Charity Laury)', 'Hagland, Mr. Ingvald Olai Olsen', 'Caldwell, Mrs. Albert Francis (Sylvia Mae Harbaugh)', 'Sinkkonen, Miss. Anna', 'Hagland, Mr. Konrad Mathias Reiersen', 'Williams, Mr. Charles Eugene', 'Foo, Mr. Choong', 'Mangan, Miss. Mary', 'Yasbeck, Mrs. Antoni (Selini Alexander)', 'Sundman, Mr. Johan Julian', 'Woolner, Mr. Hugh', 'Navratil, Master. Michel M', 'Keefe, Mr. Arthur', 'Lemberopolous, Mr. Peter L', 'Silverthorne, Mr. Spencer Victor', 'Murphy, Miss. Margaret Jane', 'Chronopoulos, Mr. Apostolos', 'Horgan, Mr. John', 'Danbom, Mr. Ernst Gilbert', 'Becker, Master. Richard F', 'Bostandyeff, Mr. Guentcho', 'de Mulder, Mr. Theodore', 'Moor, Master. Meier', 'Brown, Mrs. James Joseph (Margaret Tobin)', 'Davies, Master. John Morgan Jr', 'Doling, Mrs. John T (Ada Julia Bone)', 'Gustafsson, Mr. Karl Gideon', 'McNamee, Mr. Neal', 'Asplund, Mrs. Carl Oscar (Selma Augusta Emilia Johansson)', 'Pavlovic, Mr. Stefo', 'Elias, Mr. Tannous', 'Taussig, Mrs. Emil (Tillie Mandelbaum)', 'Turja, Miss. Anna Sofia', 'Ryan, Mr. Patrick', 'Dean, Master. Bertram Vere', 'Hoyt, Mr. Frederick Maxfield', 'Becker, Miss. Marion Louise', 'Rice, Master. George Hugh', 'Hart, Miss. Eva Miriam', 'Persson, Mr. Ernst Ulrik', 'Hassab, Mr. Hammad', 'Williams, Mr. Leslie', 'Ali, Mr. William', 'Salonen, Mr. Johan Werner', 'Spedden, Mrs. Frederic Oakley (Margaretta Corning Stone)', 'Jonsson, Mr. Carl', 'Renouf, Mrs. Peter Henry (Lillian Jefferys)', 'Eustis, Miss. Elizabeth Mussey', 'Meyer, Mrs. Edgar Joseph (Leila Saks)', 'Duane, Mr. Frank', 'Allison, Master. Hudson Trevor', 'Lindqvist, Mr. Eino William', 'Stephenson, Mrs. Walter Bertram (Martha Eustis)', 'Daniel, Mr. Robert Williams', 'Jussila, Miss. Mari Aina', 'Mellinger, Miss. Madeleine Violet', 'Lefebre, Miss. Ida', 'Smiljanic, Mr. Mile', 'Rothschild, Mrs. Martin (Elizabeth L. Barrett)', 'Larsson, Mr. Bengt Edvin', 'Rosblom, Mrs. Viktor (Helena Wilhelmina)', 'Kelly, Miss. Anna Katherine \"Annie Kate\"', 'Andersson, Mrs. Anders Johan (Alfrida Konstantia Brogren)', 'Calic, Mr. Petar', 'Moutal, Mr. Rahamin Haim', 'Kilgannon, Mr. Thomas J', 'Johanson, Mr. Jakob Alfred', 'Mineff, Mr. Ivan', 'Barah, Mr. Hanna Assi', 'Christmann, Mr. Emil', 'Betros, Mr. Tannous', 'Danbom, Mrs. Ernst Gilbert (Anna Sigrid Maria Brogren)', 'Dorking, Mr. Edward Arthur', 'Doling, Miss. Elsie', 'Leonard, Mr. Lionel', 'Johnson, Mr. William Cahoone Jr', 'Nankoff, Mr. Minko', 'Ridsdale, Miss. Lucy', 'Caldwell, Master. Alden Gates', 'Nenkoff, Mr. Christo', 'Vande Walle, Mr. Nestor Cyriel', 'Petroff, Mr. Nedelio', 'Lurette, Miss. Elise', 'Faunthorpe, Mrs. Lizzie (Elizabeth Anne Wilkinson)', 'Behr, Mr. Karl Howell', 'Newsom, Miss. Helen Monypeny', 'Hosono, Mr. Masabumi', 'Sage, Mr. Douglas Bullen', 'Gustafsson, Mr. Anders Vilhelm', 'Carter, Mr. William Ernest', 'Perreault, Miss. Anne', 'Madill, Miss. Georgette Alexandra', 'Willey, Mr. Edward', 'Marechal, Mr. Pierre', 'Spencer, Mrs. William Augustus (Marie Eugenie)', 'Bradley, Mr. George (\"George Arthur Brayton\")', 'Risien, Mr. Samuel Beard', 'Astor, Mrs. John Jacob (Madeleine Talmadge Force)', 'Murdlin, Mr. Joseph', 'van Melkebeke, Mr. Philemon', 'Coutts, Master. William Loch \"William\"', 'Doharr, Mr. Tannous', 'Kallio, Mr. Nikolai Erland', 'Lovell, Mr. John Hall (\"Henry\")', 'Boulos, Miss. Nourelain', 'Anderson, Mr. Harry', 'Bowen, Mr. David John \"Dai\"', 'Skoog, Miss. Margit Elizabeth', 'Hakkarainen, Mrs. Pekka Pietari (Elin Matilda Dolck)', 'Yousseff, Mr. Gerious', 'Corn, Mr. Harry', 'Dahlberg, Miss. Gerda Ulrika', 'Jardin, Mr. Jose Neto', 'West, Mrs. Edwy Arthur (Ada Mary Worth)', 'Andersen-Jensen, Miss. Carla Christine Nielsine', 'Blank, Mr. Henry', 'Lindell, Mr. Edvard Bengtsson', 'Keane, Mr. Andrew \"Andy\"', 'Staneff, Mr. Ivan', 'Skoog, Miss. Mabel', 'Kelly, Mrs. Florence \"Fannie\"', 'Louch, Mrs. Charles Alexander (Alice Adelaide Slow)', 'Rugg, Miss. Emily', 'Sirayanian, Mr. Orsen', 'Rice, Master. Arthur', 'Sawyer, Mr. Frederick Charles', 'Glynn, Miss. Mary Agatha', 'Naidenoff, Mr. Penko', 'Smith, Mr. Thomas', 'Myhrman, Mr. Pehr Fabian Oliver Malkolm', 'Ekstrom, Mr. Johan', 'Moran, Mr. James', 'Turkula, Mrs. (Hedwig)', 'Emir, Mr. Farred Chehab', 'Quick, Mrs. Frederick Charles (Jane Richards)', 'Chambers, Mrs. Norman Campbell (Bertha Griggs)', 'Wilhelms, Mr. Charles', 'Charters, Mr. David', 'Leinonen, Mr. Antti Gustaf', 'Sutehall, Mr. Henry Jr', 'Endres, Miss. Caroline Louise', 'Dakic, Mr. Branko', 'Moss, Mr. Albert Johan', 'Skoog, Mrs. William (Anna Bernhardina Karlsson)', 'Paulner, Mr. Uscher', 'Barkworth, Mr. Algernon Henry Wilson', 'Landergren, Miss. Aurora Adelia', 'Rice, Master. Eugene', 'Watt, Mrs. James (Elizabeth \"Bessie\" Inglis Milne)', 'Garfirth, Mr. John', 'Lemore, Mrs. (Amelia Milley)', 'Andrews, Miss. Kornelia Theodosia', 'Johnson, Master. Harold Theodor', 'Moran, Miss. Bertha', 'Gheorgheff, Mr. Stanio', 'Lesurer, Mr. Gustave J', 'Petranec, Miss. Matilda', 'Skoog, Mr. Wilhelm', 'Nicola-Yarred, Miss. Jamila', 'Moor, Mrs. (Beila)', 'Sivola, Mr. Antti Wilhelm', 'Goodwin, Master. Harold Victor', 'Rouse, Mr. Richard Henry', 'Frolicher-Stehli, Mr. Maxmillian', 'Lang, Mr. Fang', 'Karun, Miss. Manca', 'Clarke, Mrs. Charles V (Ada Maria Winfield)', 'Moubarek, Master. Halim Gonios (\"William George\")', 'Mamee, Mr. Hanna', 'Lulic, Mr. Nikola', 'Zimmerman, Mr. Leo', 'Rice, Mrs. William (Margaret Norton)', 'Jalsevac, Mr. Ivan', 'Jansson, Mr. Carl Olof', 'Futrelle, Mrs. Jacques Heath (Lily May Peel)', 'Duff Gordon, Sir. Cosmo Edmund (\"Mr Morgan\")', 'O\\'Brien, Mrs. Thomas (Johanna \"Hannah\" Godfrey)', 'Lefebre, Miss. Jeannie', 'Goodwin, Master. William Frederick', 'Jonkoff, Mr. Lalio', 'Baclini, Miss. Eugenie', 'Jensen, Mr. Niels Peder', 'Andersson, Mr. August Edvard (\"Wennerstrom\")', 'Devaney, Miss. Margaret Delia', 'Healy, Miss. Hanora \"Nora\"', 'Garside, Miss. Ethel', 'Rekic, Mr. Tido', 'Asplund, Master. Edvin Rojj Felix', 'Windelov, Mr. Einar', 'Simonius-Blumer, Col. Oberst Alfons', 'Brown, Miss. Amelia \"Mildred\"', 'Beane, Mrs. Edward (Ethel Clarke)', 'Palsson, Miss. Stina Viola', 'Newell, Miss. Madeleine', 'Asim, Mr. Adola', 'Ford, Miss. Doolina Margaret \"Daisy\"', 'Sagesser, Mlle. Emma', 'Dick, Mr. Albert Adrian', 'Boulos, Mrs. Joseph (Sultana)', 'Hamalainen, Master. Viljo', 'Odahl, Mr. Nils Martin', 'Webber, Miss. Susan', 'Fischer, Mr. Eberhard Thelander', 'Cherry, Miss. Gladys', 'Sage, Mr. George John Jr', 'Nye, Mrs. (Elizabeth Ramell)', 'Abbott, Mrs. Stanton (Rosa Hunt)', 'Fleming, Miss. Margaret', 'Nirva, Mr. Iisakki Antino Aijo', 'Holm, Mr. John Fredrik Alexander', 'Mallet, Master. Andre', 'Goncalves, Mr. Manuel Estanslas', 'Kink-Heilmann, Miss. Luise Gretchen', 'Bing, Mr. Lee', 'Elias, Mr. Joseph Jr', 'Troutt, Miss. Edwina Celia \"Winnie\"', 'Beckwith, Mr. Richard Leonard', 'Kiernan, Mr. Philip', 'Toomey, Miss. Ellen', 'Moussa, Mrs. (Mantoura Boulos)', 'Ali, Mr. Ahmed', 'Danoff, Mr. Yoto', 'Slocovski, Mr. Selman Francis', 'Andersson, Master. Sigvard Harald Elias', 'Badt, Mr. Mohamed', 'Chambers, Mr. Norman Campbell', 'Hawksford, Mr. Walter James', 'Samaan, Mr. Youssef', 'Cribb, Mr. John Hatfield', 'Hays, Mrs. Charles Melville (Clara Jennings Gregg)', 'Rogers, Mr. William John', 'Toufik, Mr. Nakli', 'Zabour, Miss. Thamine', 'Augustsson, Mr. Albert', 'Hoyt, Mrs. Frederick Maxfield (Jane Anne Forby)', 'Drew, Mrs. James Vivian (Lulu Thorne Christian)', 'Olsvigen, Mr. Thor Anderson', 'Gallagher, Mr. Martin', 'Olsson, Miss. Elina', 'Trout, Mrs. William H (Jessie L)', 'Svensson, Mr. Johan', 'Appleton, Mrs. Edward Dale (Charlotte Lamson)', 'Green, Mr. George Henry', 'Andersson, Miss. Erna Alexandra', 'Cacic, Mr. Luka', 'Stanley, Miss. Amy Zillah Elsie', 'Sdycoff, Mr. Todor', 'Carr, Miss. Helen \"Ellen\"', 'Reynaldo, Ms. Encarnacion', 'Tomlin, Mr. Ernest Portage', 'Angle, Mrs. William A (Florence \"Mary\" Agnes Hughes)', 'Crosby, Miss. Harriet R', 'Kantor, Mrs. Sinai (Miriam Sternin)', 'Buss, Miss. Kate', 'Jussila, Mr. Eiriik', 'Jensen, Mr. Hans Peder', 'Newell, Miss. Marjorie', 'Hanna, Mr. Mansour', 'Saundercock, Mr. William Henry', 'McEvoy, Mr. Michael', 'Christy, Miss. Julie Rachel', 'Herman, Miss. Alice', 'Johnson, Mr. Malkolm Joackim', 'Bengtsson, Mr. John Viktor', 'Strom, Mrs. Wilhelm (Elna Matilda Persson)', 'Coelho, Mr. Domingos Fernandeo', 'Swift, Mrs. Frederick Joel (Margaret Welles Barron)', 'Warren, Mrs. Frank Manley (Anna Sophia Atkinson)', 'Sloper, Mr. William Thompson', 'Larsson, Mr. August Viktor', 'Hendekovic, Mr. Ignjac', 'Hamalainen, Mrs. William (Anna)', 'Thorne, Mrs. Gertrude Maybelle', 'Kassem, Mr. Fared', 'Vestrom, Miss. Hulda Amanda Adolfina', 'Hampe, Mr. Leon', 'Osman, Mrs. Mara', 'Palsson, Miss. Torborg Danira', 'Kelly, Mr. James', 'Caram, Mrs. Joseph (Maria Elias)', 'Kraeff, Mr. Theodor', 'Lefebre, Miss. Mathilde', 'Vander Planke, Mr. Leo Edmondus', 'Carter, Master. William Thornton II', 'Boulos, Mr. Hanna', 'Bowerman, Miss. Elsie Edith', 'Panula, Master. Urho Abraham', 'Dodge, Master. Washington', 'Drazenoic, Mr. Jozef', 'Andersson, Miss. Sigrid Elisabeth', \"O'Brien, Mr. Timothy\", 'Mitkoff, Mr. Mito', 'Van Impe, Mr. Jean Baptiste', 'Pinsky, Mrs. (Rosa)', 'Peuchen, Major. Arthur Godfrey', 'Mayne, Mlle. Berthe Antonine (\"Mrs de Villiers\")', 'Jacobsohn, Mrs. Sidney Samuel (Amy Frances Christy)', 'Connaghton, Mr. Michael', 'Davison, Mrs. Thomas Henry (Mary E Finck)', 'Panula, Mr. Ernesti Arvid', 'Bourke, Mrs. John (Catherine)', 'Lahoud, Mr. Sarkis', 'Baxter, Mrs. James (Helene DeLaudeniere Chaput)', 'Honkanen, Miss. Eliina', 'Haas, Miss. Aloisia', 'Cardeza, Mr. Thomas Drake Martinez', 'Hansen, Mr. Claus Peter', 'Ball, Mrs. (Ada E Hall)', 'Denkoff, Mr. Mitto', 'Penasco y Castellana, Mrs. Victor de Satode (Maria Josefa Perez de Soto y Vallejo)', 'McCoy, Miss. Agnes', 'Vander Planke, Miss. Augusta Maria', 'Cleaver, Miss. Alice', 'Scanlan, Mr. James', 'Goldsmith, Mrs. Frank John (Emily Alice Brown)', 'Ilmakangas, Miss. Pieta Sofia', 'Masselmani, Mrs. Fatima', 'Davis, Miss. Mary', 'Stranden, Mr. Juho', 'Flynn, Mr. John Irwin (\"Irving\")', 'Jussila, Miss. Katriina', 'Hocking, Mrs. Elizabeth (Eliza Needs)', 'Skoog, Master. Harald', 'Dick, Mrs. Albert Adrian (Vera Gillespie)', 'Mellinger, Mrs. (Elizabeth Anne Maidment)', 'Nysveen, Mr. Johan Hansen', 'Moen, Mr. Sigurd Hansen', 'Saad, Mr. Amin', 'Sandstrom, Miss. Marguerite Rut', 'Seward, Mr. Frederic Kimber', 'Parrish, Mrs. (Lutie Davis)', 'Leeni, Mr. Fahim (\"Philip Zenni\")', 'Somerton, Mr. Francis William', 'Goldsmith, Mr. Frank John', 'Minahan, Miss. Daisy E', 'Padro y Manent, Mr. Julian', 'Madsen, Mr. Fridtjof Arne', 'Baclini, Miss. Marie Catherine', 'Webber, Mr. James', 'Hippach, Mrs. Louis Albert (Ida Sophia Fischer)', 'Lines, Miss. Mary Conover', 'Vander Cruyssen, Mr. Victor', 'Markoff, Mr. Marin', 'Beane, Mr. Edward', 'Balkic, Mr. Cerin', 'Barbara, Mrs. (Catherine David)', 'Edvardsson, Mr. Gustaf Hjalmar', 'Moore, Mr. Leonard Charles', 'Olsen, Mr. Ole Martin', 'Stanley, Mr. Edward Roland', 'Baclini, Miss. Helene Barbara', 'Peter, Miss. Anna', 'Moran, Mr. Daniel J', 'Mockler, Miss. Helen Mary \"Ellie\"', 'Coleff, Mr. Satio', 'Elsbury, Mr. William James', 'Goldenberg, Mrs. Samuel L (Edwiga Grabowska)', 'Chibnall, Mrs. (Edith Martha Bowerman)', 'Homer, Mr. Harry (\"Mr E Haven\")', 'Albimona, Mr. Nassef Cassem', 'Silvey, Mrs. William Baird (Alice Munger)', 'Panula, Mrs. Juha (Maria Emilia Ojala)', 'Meanwell, Miss. (Marion Ogden)', 'Sage, Miss. Dorothy Edith \"Dolly\"', 'Hegarty, Miss. Hanora \"Nora\"', 'Fortune, Miss. Alice Elizabeth', 'Pasic, Mr. Jakob', 'Braund, Mr. Owen Harris', 'Richards, Master. William Rowe', 'Hassan, Mr. Houssein G N', 'Ford, Mrs. Edward (Margaret Ann Watson)', 'Dean, Mr. Bertram Frank', 'Olsson, Mr. Nils Johan Goransson', 'Patchett, Mr. George', 'Rommetvedt, Mr. Knud Paust', 'Ayoub, Miss. Banoura', 'Andersson, Mr. Anders Johan', 'McGough, Mr. James Robert', 'Connolly, Miss. Kate', 'LeRoy, Miss. Bertha', 'Crease, Mr. Ernest James', 'Bonnell, Miss. Elizabeth', 'McGovern, Miss. Mary', 'Taylor, Mr. Elmer Zebley', 'Harper, Miss. Annie Jessie \"Nina\"', 'Bishop, Mrs. Dickinson H (Helen Walton)', 'Daly, Mr. Eugene Patrick', 'Humblen, Mr. Adolf Mathias Nicolai Olsen', 'Karaic, Mr. Milan', \"O'Brien, Mr. Thomas\", 'Meek, Mrs. Thomas (Annie Louise Rowley)', 'Flynn, Mr. John', 'Aks, Mrs. Sam (Leah Rosen)', 'Lievens, Mr. Rene Aime', 'Duran y More, Miss. Asuncion', 'Phillips, Miss. Kate Florence (\"Mrs Kate Louise Phillips Marshall\")', 'McDermott, Miss. Brigdet Delia', 'Soholt, Mr. Peter Andreas Lauritz Andersen', 'Allen, Mr. William Henry', 'Stahelin-Maeglin, Dr. Max', 'Sheerlinck, Mr. Jan Baptist', 'Calic, Mr. Jovo', 'Lobb, Mr. William Arthur', 'Nakid, Miss. Maria (\"Mary\")'}\n"
     ]
    }
   ],
   "source": [
    "# 聯集\n",
    "union_set = survived_set | pclass3_set\n",
    "\n",
    "print(\"聯集結果：\\n\")\n",
    "print(\"元素個數為: \", len(union_set), '\\n')\n",
    "print(union_set)"
   ]
  },
  {
   "cell_type": "markdown",
   "id": "b31b0b37",
   "metadata": {},
   "source": [
    "# 差集"
   ]
  },
  {
   "cell_type": "code",
   "execution_count": 26,
   "id": "c87abaf2",
   "metadata": {
    "scrolled": true
   },
   "outputs": [
    {
     "name": "stdout",
     "output_type": "stream",
     "text": [
      "survived_df 中有而 pclass3_df 中沒有的差集：\n",
      "\n",
      "元素個數為:  223 \n",
      "\n",
      "{'Hoyt, Mrs. Frederick Maxfield (Jane Anne Forby)', 'Drew, Mrs. James Vivian (Lulu Thorne Christian)', 'Spedden, Mrs. Frederic Oakley (Margaretta Corning Stone)', 'Longley, Miss. Gretchen Fiske', 'Richards, Mrs. Sidney (Emily Hocking)', 'Leitch, Miss. Jessie Wills', 'Harper, Mr. Henry Sleeper', 'Renouf, Mrs. Peter Henry (Lillian Jefferys)', 'Eustis, Miss. Elizabeth Mussey', 'Meyer, Mrs. Edgar Joseph (Leila Saks)', 'Trout, Mrs. William H (Jessie L)', 'Appleton, Mrs. Edward Dale (Charlotte Lamson)', 'Wells, Miss. Joan', 'Allison, Master. Hudson Trevor', 'Stephenson, Mrs. Walter Bertram (Martha Eustis)', 'Daniel, Mr. Robert Williams', 'Slayter, Miss. Hilda Mary', 'Leader, Dr. Alice (Farnham)', 'Greenfield, Mr. William Bertram', 'Graham, Miss. Margaret Edith', 'Kenyon, Mrs. Frederick R (Marion)', 'Mellinger, Miss. Madeleine Violet', 'Thayer, Mr. John Borland Jr', 'Cumings, Mrs. John Bradley (Florence Briggs Thayer)', 'Keane, Miss. Nora A', 'Reynaldo, Ms. Encarnacion', 'Ilett, Miss. Bertha', 'Collyer, Mrs. Harvey (Charlotte Annie Tate)', 'Stone, Mrs. George Nelson (Martha Evelyn)', 'Hewlett, Mrs. (Mary D Kingcome) ', 'Ward, Miss. Anna', 'Goldenberg, Mr. Samuel L', 'Hogeboom, Mrs. John C (Anna Andrews)', 'Rothschild, Mrs. Martin (Elizabeth L. Barrett)', 'Smith, Miss. Marion Elsie', 'Angle, Mrs. William A (Florence \"Mary\" Agnes Hughes)', 'Brown, Mrs. Thomas William Solomon (Elizabeth Catherine Ford)', 'Richards, Master. George Sibley', 'Crosby, Miss. Harriet R', 'Potter, Mrs. Thomas Jr (Lily Alexenia Wilson)', 'Graham, Mrs. William Thompson (Edith Junkins)', 'Kantor, Mrs. Sinai (Miriam Sternin)', 'Buss, Miss. Kate', 'Harris, Mr. George', 'Frauenthal, Mrs. Henry William (Clara Heinsheimer)', 'Newell, Miss. Marjorie', 'Christy, Miss. Julie Rachel', 'Doling, Miss. Elsie', 'Herman, Miss. Alice', 'Ridsdale, Miss. Lucy', 'Caldwell, Master. Alden Gates', 'Shelley, Mrs. William (Imanita Parrish Hall)', 'Lurette, Miss. Elise', 'Faunthorpe, Mrs. Lizzie (Elizabeth Anne Wilkinson)', 'Behr, Mr. Karl Howell', 'Barber, Miss. Ellen \"Nellie\"', 'Newsom, Miss. Helen Monypeny', 'Hosono, Mr. Masabumi', 'Hippach, Miss. Jean Gertrude', 'Swift, Mrs. Frederick Joel (Margaret Welles Barron)', 'Warren, Mrs. Frank Manley (Anna Sophia Atkinson)', 'Sloper, Mr. William Thompson', 'Young, Miss. Marie Grice', 'Carter, Mr. William Ernest', 'Perreault, Miss. Anne', 'Madill, Miss. Georgette Alexandra', 'Marechal, Mr. Pierre', 'Spencer, Mrs. William Augustus (Marie Eugenie)', 'Thayer, Mrs. John Borland (Marian Longstreth Morris)', 'Bradley, Mr. George (\"George Arthur Brayton\")', 'Hamalainen, Mrs. William (Anna)', 'Collyer, Miss. Marjorie \"Lottie\"', 'Thorne, Mrs. Gertrude Maybelle', 'Astor, Mrs. John Jacob (Madeleine Talmadge Force)', 'Jerwan, Mrs. Amin S (Marie Marthe Thuillard)', 'Harper, Mrs. Henry Sleeper (Myna Haxtun)', 'Kimball, Mr. Edwin Nelson Jr', 'Carter, Miss. Lucile Polk', 'West, Miss. Constance Mirium', 'Anderson, Mr. Harry', 'Laroche, Miss. Simonne Marie Anne Andree', 'Carter, Master. William Thornton II', 'Rothes, the Countess. of (Lucy Noel Martha Dyer-Edwards)', 'Fortune, Miss. Mabel Helen', 'Saalfeld, Mr. Adolphe', 'Bowerman, Miss. Elsie Edith', 'West, Mrs. Edwy Arthur (Ada Mary Worth)', 'Dodge, Master. Washington', 'Blank, Mr. Henry', 'Weisz, Mrs. Leopold (Mathilde Francoise Pede)', 'Taylor, Mrs. Elmer Zebley (Juliet Cummins Wright)', 'Calderhead, Mr. Edward Pennington', 'Taussig, Miss. Ruth', 'Navratil, Master. Edmond Roger', 'Kelly, Mrs. Florence \"Fannie\"', 'Louch, Mrs. Charles Alexander (Alice Adelaide Slow)', 'Rugg, Miss. Emily', 'Pinsky, Mrs. (Rosa)', 'Peuchen, Major. Arthur Godfrey', 'Hays, Miss. Margaret Bechstein', 'Mayne, Mlle. Berthe Antonine (\"Mrs de Villiers\")', 'Jacobsohn, Mrs. Sidney Samuel (Amy Frances Christy)', 'Herman, Mrs. Samuel (Jane Laver)', 'Duff Gordon, Lady. (Lucille Christiana Sutherland) (\"Mrs Morgan\")', 'Wick, Miss. Mary Natalie', 'Pears, Mrs. Thomas (Edith Wearne)', 'Baxter, Mrs. James (Helene DeLaudeniere Chaput)', 'Lehmann, Miss. Bertha', 'Cardeza, Mr. Thomas Drake Martinez', 'Silven, Miss. Lyyli Karoliina', 'Ball, Mrs. (Ada E Hall)', 'Penasco y Castellana, Mrs. Victor de Satode (Maria Josefa Perez de Soto y Vallejo)', 'Quick, Mrs. Frederick Charles (Jane Richards)', 'Harder, Mr. George Achilles', 'Cleaver, Miss. Alice', 'Burns, Miss. Elizabeth Margaret', 'Nasser, Mrs. Nicholas (Adele Achem)', 'Chambers, Mrs. Norman Campbell (Bertha Griggs)', 'Wilhelms, Mr. Charles', 'Davis, Miss. Mary', 'Mellors, Mr. William John', 'Compton, Miss. Sara Rebecca', 'Endres, Miss. Caroline Louise', 'Flynn, Mr. John Irwin (\"Irving\")', 'Bissette, Miss. Amelia', 'Allen, Miss. Elisabeth Walton', 'Hocking, Mrs. Elizabeth (Eliza Needs)', 'Dick, Mrs. Albert Adrian (Vera Gillespie)', 'Mellinger, Mrs. (Elizabeth Anne Maidment)', 'Barkworth, Mr. Algernon Henry Wilson', 'Frolicher, Miss. Hedwig Margaritha', 'Romaine, Mr. Charles Hallace (\"Mr C Rolmane\")', 'Carter, Mrs. William Ernest (Lucile Polk)', 'Bishop, Mr. Dickinson H', 'Watt, Mrs. James (Elizabeth \"Bessie\" Inglis Milne)', 'Seward, Mr. Frederic Kimber', 'Parrish, Mrs. (Lutie Davis)', 'Lemore, Mrs. (Amelia Milley)', 'Andrews, Miss. Kornelia Theodosia', 'Abelson, Mrs. Samuel (Hannah Wizosky)', 'Minahan, Miss. Daisy E', 'Padro y Manent, Mr. Julian', 'Lesurer, Mr. Gustave J', 'Cameron, Miss. Clear Annie', 'Hippach, Mrs. Louis Albert (Ida Sophia Fischer)', 'Icard, Miss. Amelie', 'Lines, Miss. Mary Conover', 'Beane, Mr. Edward', 'Bazzani, Miss. Albina', 'Frolicher-Stehli, Mr. Maxmillian', 'Clarke, Mrs. Charles V (Ada Maria Winfield)', 'Harris, Mrs. Henry Birkhardt (Irene Wallach)', 'Bystrom, Mrs. (Karolina)', 'Futrelle, Mrs. Jacques Heath (Lily May Peel)', 'Bjornstrom-Steffansson, Mr. Mauritz Hakan', 'Duff Gordon, Sir. Cosmo Edmund (\"Mr Morgan\")', 'Frauenthal, Dr. Henry William', 'Wick, Mrs. George Dennick (Mary Hitchcock)', 'Hart, Mrs. Benjamin (Esther Ada Bloomfield)', 'Robert, Mrs. Edward Scott (Elisabeth Walton McMillan)', 'Shutes, Miss. Elizabeth W', 'Quick, Miss. Phyllis May', 'Francatelli, Miss. Laura Mabel', 'Garside, Miss. Ethel', 'Serepeca, Miss. Augusta', 'Simonius-Blumer, Col. Oberst Alfons', 'Aubart, Mme. Leontine Pauline', 'Beckwith, Mrs. Richard Leonard (Sallie Monypeny)', 'Ryerson, Miss. Emily Borie', 'Brown, Miss. Amelia \"Mildred\"', 'Beane, Mrs. Edward (Ethel Clarke)', 'Caldwell, Mrs. Albert Francis (Sylvia Mae Harbaugh)', 'Newell, Miss. Madeleine', 'Goldenberg, Mrs. Samuel L (Edwiga Grabowska)', 'Chibnall, Mrs. (Edith Martha Bowerman)', 'Sinkkonen, Miss. Anna', 'Bidois, Miss. Rosalie', 'Laroche, Mrs. Joseph (Juliette Marie Louise Lafargue)', 'Williams, Mr. Charles Eugene', 'Sagesser, Mlle. Emma', 'Homer, Mr. Harry (\"Mr E Haven\")', 'Silvey, Mrs. William Baird (Alice Munger)', 'Dick, Mr. Albert Adrian', 'Woolner, Mr. Hugh', 'Navratil, Master. Michel M', 'Hamalainen, Master. Viljo', 'Fortune, Miss. Alice Elizabeth', 'Silverthorne, Mr. Spencer Victor', 'Webber, Miss. Susan', 'Richards, Master. William Rowe', 'Daly, Mr. Peter Denis ', 'McGough, Mr. James Robert', 'Cherry, Miss. Gladys', 'LeRoy, Miss. Bertha', 'Nye, Mrs. (Elizabeth Ramell)', 'Ryerson, Miss. Susan Parker \"Suzette\"', 'Becker, Master. Richard F', 'Fleming, Miss. Margaret', 'Bonnell, Miss. Elizabeth', 'Mallet, Master. Andre', 'Taylor, Mr. Elmer Zebley', 'Harper, Miss. Annie Jessie \"Nina\"', 'Maioni, Miss. Roberta', 'Bishop, Mrs. Dickinson H (Helen Walton)', 'Beesley, Mr. Lawrence', 'Brown, Mrs. James Joseph (Margaret Tobin)', 'Davies, Master. John Morgan Jr', 'Doling, Mrs. John T (Ada Julia Bone)', 'Troutt, Miss. Edwina Celia \"Winnie\"', 'Beckwith, Mr. Richard Leonard', 'Taussig, Mrs. Emil (Tillie Mandelbaum)', 'Toomey, Miss. Ellen', 'Duran y More, Miss. Asuncion', 'Phillips, Miss. Kate Florence (\"Mrs Kate Louise Phillips Marshall\")', 'Hoyt, Mr. Frederick Maxfield', 'Chambers, Mr. Norman Campbell', 'Hawksford, Mr. Walter James', 'Becker, Miss. Marion Louise', 'Stahelin-Maeglin, Dr. Max', 'Hart, Miss. Eva Miriam', 'Holverson, Mrs. Alexander Oskar (Mary Aline Towner)', 'Hays, Mrs. Charles Melville (Clara Jennings Gregg)', 'Hassab, Mr. Hammad'}\n"
     ]
    }
   ],
   "source": [
    "# 差集\n",
    "# survived_df 中有而 pclass3_df 中沒有的 pclass1 + pclass2 的存活名單\n",
    "difference_set_survived = survived_set - pclass3_set\n",
    "print(\"survived_df 中有而 pclass3_df 中沒有的差集：\\n\")\n",
    "print(\"元素個數為: \", len(difference_set_survived), '\\n')\n",
    "print(difference_set_survived)"
   ]
  },
  {
   "cell_type": "code",
   "execution_count": 27,
   "id": "072c738e",
   "metadata": {
    "scrolled": true
   },
   "outputs": [
    {
     "name": "stdout",
     "output_type": "stream",
     "text": [
      "pclass3_df 中有而 survived_df 中沒有的差集：\n",
      "\n",
      "元素個數為:  372 \n",
      "\n",
      "{'Dimic, Mr. Jovan', 'Celotti, Mr. Francesco', 'Harknett, Miss. Alice Phoebe', 'Johansson, Mr. Karl Johan', 'Mernagh, Mr. Robert', 'Bourke, Mr. John', 'Adahl, Mr. Mauritz Nils Martin', 'van Billiard, Mr. Austin Blyler', 'Andersson, Miss. Ellis Anna Maria', 'Morley, Mr. William', 'Kink, Mr. Vincenz', 'Klasen, Mr. Klas Albin', 'Elias, Mr. Dibo', 'Peduzzi, Mr. Joseph', 'Goodwin, Master. Sidney Leonard', 'Perkin, Mr. John Henry', 'Berglund, Mr. Karl Ivar Sven', 'Ling, Mr. Lee', 'Johnston, Miss. Catherine Helen \"Carrie\"', 'Lennon, Mr. Denis', 'Panula, Master. Eino Viljami', 'Gronnestad, Mr. Daniel Danielsen', 'Ibrahim Shawah, Mr. Yousseff', 'Arnold-Franchi, Mr. Josef', 'Abbott, Mr. Rossmore Edward', 'Harmer, Mr. Abraham (David Lishin)', 'Turcin, Mr. Stjepan', 'Shellard, Mr. Frederick William', 'Laitinen, Miss. Kristina Sofia', 'Meo, Mr. Alfonzo', 'Yousif, Mr. Wazli', 'Plotcharsky, Mr. Vasil', 'Allum, Mr. Owen George', 'Lobb, Mrs. William Arthur (Cordelia K Stanlick)', 'Sadlier, Mr. Matthew', 'Sage, Miss. Stella Anna', 'Rush, Mr. Alfred George John', 'Ford, Mr. William Neal', 'Culumovic, Mr. Jeso', 'Oreskovic, Miss. Marija', 'Van Impe, Miss. Catharina', 'Coleff, Mr. Peju', 'Razi, Mr. Raihed', 'Radeff, Mr. Alexander', 'Olsen, Mr. Karl Siegwart Andreas', 'Barton, Mr. David John', 'Wiklund, Mr. Jakob Alfred', 'Stoytcheff, Mr. Ilia', 'Strandberg, Miss. Ida Sofia', 'Osen, Mr. Olaf Elon', 'Mionoff, Mr. Stoytcho', 'Torber, Mr. Ernst William', 'Abbing, Mr. Anthony', 'Theobald, Mr. Thomas Leonard', 'Simmons, Mr. John', 'Heininen, Miss. Wendla Maria', 'Adams, Mr. John', 'Slabenoff, Mr. Petco', 'Tikkanen, Mr. Juho', 'Flynn, Mr. James', 'Oreskovic, Mr. Luka', 'Ford, Miss. Robina Maggie \"Ruby\"', 'Asplund, Master. Clarence Gustaf Hugo', 'Tobin, Mr. Roger', 'Davies, Mr. Alfred J', 'Ivanoff, Mr. Kanio', 'Yasbeck, Mr. Antoni', 'Dooley, Mr. Patrick', 'Waelens, Mr. Achille', 'Palsson, Mrs. Nils (Alma Cornelia Berglund)', 'Hansen, Mr. Henrik Juul', 'Shorney, Mr. Charles Joseph', 'Sage, Mr. Frederick', 'Goodwin, Mrs. Frederick (Augusta Tyler)', 'Johansson, Mr. Erik', 'Sage, Master. Thomas Henry', 'Skoog, Master. Karl Thorsten', 'Rosblom, Mr. Viktor Richard', 'Maisner, Mr. Simon', 'Eklund, Mr. Hans Linus', 'Rice, Master. Eric', 'Hart, Mr. Henry', 'Gilinski, Mr. Eliezer', 'Peters, Miss. Katie', 'Rintamaki, Mr. Matti', 'Alhomaki, Mr. Ilmari Rudolf', 'Morrow, Mr. Thomas Rowan', 'Cacic, Miss. Marija', 'Backstrom, Mr. Karl Alfred', 'Pekoniemi, Mr. Edvard', 'Widegren, Mr. Carl/Charles Peter', 'Petterson, Mr. Johan Emil', 'Cook, Mr. Jacob', 'Brocklebank, Mr. William Alfred', 'Johnson, Mr. Alfred', 'Bourke, Miss. Mary', 'Canavan, Miss. Mary', \"O'Connor, Mr. Maurice\", 'Panula, Master. Juha Niilo', 'Johansson, Mr. Gustaf Joel', 'Attalah, Mr. Sleiman', 'Maenpaa, Mr. Matti Alexanteri', 'Goodwin, Miss. Lillian Amy', 'Svensson, Mr. Olof', 'Cann, Mr. Ernest Charles', 'Stankovic, Mr. Ivan', 'Lam, Mr. Len', 'Strom, Miss. Telma Matilda', 'Olsen, Mr. Henry Margido', 'Goodwin, Mr. Charles Edward', 'Vanden Steen, Mr. Leo Peter', 'Laleff, Mr. Kristo', 'Vovk, Mr. Janko', 'de Pelsmaeker, Mr. Alfons', 'Carlsson, Mr. August Sigfrid', 'Dantcheff, Mr. Ristiu', 'Nosworthy, Mr. Richard Cater', 'Beavan, Mr. William Thomas', 'Vande Velde, Mr. Johannes Joseph', 'Andersson, Miss. Ebba Iris Alfrida', 'Sage, Miss. Constance Gladys', 'Hakkarainen, Mr. Pekka Pietari', 'Thorneycroft, Mr. Percival', 'Lefebre, Master. Henry Forbes', 'Braund, Mr. Lewis Richard', 'Alexander, Mr. William', 'Andreasson, Mr. Paul Edvin', 'Connors, Mr. Patrick', 'Jensen, Mr. Svend Lauritz', 'Van Impe, Mrs. Jean Baptiste (Rosalie Paula Govaert)', 'Ahlin, Mrs. Johan (Johanna Persdotter Larsson)', \"O'Sullivan, Miss. Bridget Mary\", 'Cor, Mr. Liudevit', 'Sirota, Mr. Maurice', 'Barbara, Miss. Saiide', 'Birkeland, Mr. Hans Martin Monsen', 'Palsson, Master. Gosta Leonard', 'Pettersson, Miss. Ellen Natalia', 'Gustafsson, Mr. Alfred Ossian', 'Petroff, Mr. Pastcho (\"Pentcho\")', 'Williams, Mr. Howard Hugh \"Harry\"', 'Coxon, Mr. Daniel', 'Zabour, Miss. Hileni', 'Johnston, Mr. Andrew G', 'Lindahl, Miss. Agda Thorilda Viktoria', 'Hansen, Mr. Henry Damsgaard', 'Vander Planke, Mrs. Julius (Emelia Maria Vandemoortele)', 'Arnold-Franchi, Mrs. Josef (Josefine Franchi)', 'Wiseman, Mr. Phillippe', 'Lester, Mr. James', 'Novel, Mr. Mansouer', 'Reed, Mr. James George', 'Todoroff, Mr. Lalio', 'Burke, Mr. Jeremiah', 'Lundahl, Mr. Johan Svensson', 'Lindblom, Miss. Augusta Charlotta', 'Attalah, Miss. Malake', 'Henry, Miss. Delia', 'Youseff, Mr. Gerious', 'Markun, Mr. Johann', 'Saad, Mr. Khalil', 'Andersson, Miss. Ingeborg Constanzia', 'Kalvik, Mr. Johannes Halvorsen', 'Panula, Mr. Jaako Arnold', 'Gustafsson, Mr. Johan Birger', \"O'Connell, Mr. Patrick D\", 'Dennis, Mr. Samuel', 'Karlsson, Mr. Nils August', 'Farrell, Mr. James', 'McMahon, Mr. Martin', 'Sivic, Mr. Husein', 'Robins, Mrs. Alexander A (Grace Charity Laury)', 'Hagland, Mr. Ingvald Olai Olsen', 'Hagland, Mr. Konrad Mathias Reiersen', 'Mangan, Miss. Mary', 'Keefe, Mr. Arthur', 'Lemberopolous, Mr. Peter L', 'Chronopoulos, Mr. Apostolos', 'Horgan, Mr. John', 'Danbom, Mr. Ernst Gilbert', 'Bostandyeff, Mr. Guentcho', 'Gustafsson, Mr. Karl Gideon', 'McNamee, Mr. Neal', 'Pavlovic, Mr. Stefo', 'Elias, Mr. Tannous', 'Ryan, Mr. Patrick', 'Rice, Master. George Hugh', 'Ali, Mr. William', 'Williams, Mr. Leslie', 'Salonen, Mr. Johan Werner', 'Duane, Mr. Frank', 'Jussila, Miss. Mari Aina', 'Lefebre, Miss. Ida', 'Smiljanic, Mr. Mile', 'Larsson, Mr. Bengt Edvin', 'Rosblom, Mrs. Viktor (Helena Wilhelmina)', 'Kilgannon, Mr. Thomas J', 'Andersson, Mrs. Anders Johan (Alfrida Konstantia Brogren)', 'Calic, Mr. Petar', 'Moutal, Mr. Rahamin Haim', 'Johanson, Mr. Jakob Alfred', 'Mineff, Mr. Ivan', 'Christmann, Mr. Emil', 'Betros, Mr. Tannous', 'Danbom, Mrs. Ernst Gilbert (Anna Sigrid Maria Brogren)', 'Nankoff, Mr. Minko', 'Leonard, Mr. Lionel', 'Johnson, Mr. William Cahoone Jr', 'Nenkoff, Mr. Christo', 'Vande Walle, Mr. Nestor Cyriel', 'Petroff, Mr. Nedelio', 'Sage, Mr. Douglas Bullen', 'Gustafsson, Mr. Anders Vilhelm', 'Willey, Mr. Edward', 'Risien, Mr. Samuel Beard', 'Murdlin, Mr. Joseph', 'van Melkebeke, Mr. Philemon', 'Doharr, Mr. Tannous', 'Kallio, Mr. Nikolai Erland', 'Lovell, Mr. John Hall (\"Henry\")', 'Boulos, Miss. Nourelain', 'Bowen, Mr. David John \"Dai\"', 'Skoog, Miss. Margit Elizabeth', 'Yousseff, Mr. Gerious', 'Corn, Mr. Harry', 'Dahlberg, Miss. Gerda Ulrika', 'Jardin, Mr. Jose Neto', 'Lindell, Mr. Edvard Bengtsson', 'Keane, Mr. Andrew \"Andy\"', 'Staneff, Mr. Ivan', 'Skoog, Miss. Mabel', 'Sirayanian, Mr. Orsen', 'Rice, Master. Arthur', 'Sawyer, Mr. Frederick Charles', 'Naidenoff, Mr. Penko', 'Smith, Mr. Thomas', 'Myhrman, Mr. Pehr Fabian Oliver Malkolm', 'Ekstrom, Mr. Johan', 'Moran, Mr. James', 'Emir, Mr. Farred Chehab', 'Charters, Mr. David', 'Leinonen, Mr. Antti Gustaf', 'Sutehall, Mr. Henry Jr', 'Dakic, Mr. Branko', 'Skoog, Mrs. William (Anna Bernhardina Karlsson)', 'Paulner, Mr. Uscher', 'Rice, Master. Eugene', 'Garfirth, Mr. John', 'Gheorgheff, Mr. Stanio', 'Petranec, Miss. Matilda', 'Skoog, Mr. Wilhelm', 'Sivola, Mr. Antti Wilhelm', 'Goodwin, Master. Harold Victor', 'Rouse, Mr. Richard Henry', 'Rice, Mrs. William (Margaret Norton)', 'Zimmerman, Mr. Leo', 'Lefebre, Miss. Jeannie', 'Goodwin, Master. William Frederick', 'Jonkoff, Mr. Lalio', 'Jensen, Mr. Niels Peder', 'Rekic, Mr. Tido', 'Windelov, Mr. Einar', 'Palsson, Miss. Stina Viola', 'Asim, Mr. Adola', 'Ford, Miss. Doolina Margaret \"Daisy\"', 'Boulos, Mrs. Joseph (Sultana)', 'Odahl, Mr. Nils Martin', 'Fischer, Mr. Eberhard Thelander', 'Sage, Mr. George John Jr', 'Nirva, Mr. Iisakki Antino Aijo', 'Holm, Mr. John Fredrik Alexander', 'Goncalves, Mr. Manuel Estanslas', 'Elias, Mr. Joseph Jr', 'Kiernan, Mr. Philip', 'Ali, Mr. Ahmed', 'Danoff, Mr. Yoto', 'Slocovski, Mr. Selman Francis', 'Andersson, Master. Sigvard Harald Elias', 'Badt, Mr. Mohamed', 'Samaan, Mr. Youssef', 'Cribb, Mr. John Hatfield', 'Rogers, Mr. William John', 'Toufik, Mr. Nakli', 'Zabour, Miss. Thamine', 'Augustsson, Mr. Albert', 'Olsvigen, Mr. Thor Anderson', 'Gallagher, Mr. Martin', 'Olsson, Miss. Elina', 'Svensson, Mr. Johan', 'Green, Mr. George Henry', 'Cacic, Mr. Luka', 'Sdycoff, Mr. Todor', 'Tomlin, Mr. Ernest Portage', 'Jensen, Mr. Hans Peder', 'Hanna, Mr. Mansour', 'Saundercock, Mr. William Henry', 'McEvoy, Mr. Michael', 'Johnson, Mr. Malkolm Joackim', 'Bengtsson, Mr. John Viktor', 'Strom, Mrs. Wilhelm (Elna Matilda Persson)', 'Coelho, Mr. Domingos Fernandeo', 'Larsson, Mr. August Viktor', 'Hendekovic, Mr. Ignjac', 'Kassem, Mr. Fared', 'Vestrom, Miss. Hulda Amanda Adolfina', 'Hampe, Mr. Leon', 'Palsson, Miss. Torborg Danira', 'Kelly, Mr. James', 'Caram, Mrs. Joseph (Maria Elias)', 'Kraeff, Mr. Theodor', 'Lefebre, Miss. Mathilde', 'Vander Planke, Mr. Leo Edmondus', 'Boulos, Mr. Hanna', 'Panula, Master. Urho Abraham', 'Drazenoic, Mr. Jozef', 'Andersson, Miss. Sigrid Elisabeth', \"O'Brien, Mr. Timothy\", 'Mitkoff, Mr. Mito', 'Van Impe, Mr. Jean Baptiste', 'Connaghton, Mr. Michael', 'Panula, Mr. Ernesti Arvid', 'Bourke, Mrs. John (Catherine)', 'Lahoud, Mr. Sarkis', 'Haas, Miss. Aloisia', 'Hansen, Mr. Claus Peter', 'Denkoff, Mr. Mitto', 'Vander Planke, Miss. Augusta Maria', 'Scanlan, Mr. James', 'Ilmakangas, Miss. Pieta Sofia', 'Jussila, Miss. Katriina', 'Skoog, Master. Harald', 'Nysveen, Mr. Johan Hansen', 'Moen, Mr. Sigurd Hansen', 'Saad, Mr. Amin', 'Somerton, Mr. Francis William', 'Goldsmith, Mr. Frank John', 'Webber, Mr. James', 'Vander Cruyssen, Mr. Victor', 'Markoff, Mr. Marin', 'Balkic, Mr. Cerin', 'Barbara, Mrs. (Catherine David)', 'Edvardsson, Mr. Gustaf Hjalmar', 'Moore, Mr. Leonard Charles', 'Olsen, Mr. Ole Martin', 'Stanley, Mr. Edward Roland', 'Moran, Mr. Daniel J', 'Coleff, Mr. Satio', 'Elsbury, Mr. William James', 'Panula, Mrs. Juha (Maria Emilia Ojala)', 'Meanwell, Miss. (Marion Ogden)', 'Sage, Miss. Dorothy Edith \"Dolly\"', 'Hegarty, Miss. Hanora \"Nora\"', 'Pasic, Mr. Jakob', 'Braund, Mr. Owen Harris', 'Hassan, Mr. Houssein G N', 'Ford, Mrs. Edward (Margaret Ann Watson)', 'Dean, Mr. Bertram Frank', 'Olsson, Mr. Nils Johan Goransson', 'Patchett, Mr. George', 'Rommetvedt, Mr. Knud Paust', 'Andersson, Mr. Anders Johan', 'Crease, Mr. Ernest James', 'Humblen, Mr. Adolf Mathias Nicolai Olsen', 'Karaic, Mr. Milan', \"O'Brien, Mr. Thomas\", 'Meek, Mrs. Thomas (Annie Louise Rowley)', 'Flynn, Mr. John', 'Lievens, Mr. Rene Aime', 'Soholt, Mr. Peter Andreas Lauritz Andersen', 'Allen, Mr. William Henry', 'Calic, Mr. Jovo', 'Lobb, Mr. William Arthur'}\n"
     ]
    }
   ],
   "source": [
    "# pclass3_df 中有而 survived_df 中沒有的，i.e.pclass3的死亡名單\n",
    "difference_set_pclass3 = pclass3_set - survived_set\n",
    "print(\"pclass3_df 中有而 survived_df 中沒有的差集：\\n\")\n",
    "print(\"元素個數為: \", len(difference_set_pclass3), '\\n')\n",
    "print(difference_set_pclass3)"
   ]
  },
  {
   "cell_type": "markdown",
   "id": "bb7a0e82",
   "metadata": {},
   "source": [
    "# 交集"
   ]
  },
  {
   "cell_type": "code",
   "execution_count": 28,
   "id": "e472233c",
   "metadata": {
    "scrolled": true
   },
   "outputs": [
    {
     "name": "stdout",
     "output_type": "stream",
     "text": [
      "交集結果：\n",
      "\n",
      "元素個數為:  119 \n",
      "\n",
      "{'Najib, Miss. Adele Kiamie \"Jane\"', 'Touma, Mrs. Darwis (Hanne Youssef Razi)', 'Hedman, Mr. Oskar Arvid', 'Jonsson, Mr. Carl', 'Niskanen, Mr. Juha', 'Lindqvist, Mr. Eino William', 'Backstrom, Mrs. Karl Alfred (Maria Mathilda Gustafsson)', 'Andersson, Miss. Erna Alexandra', 'O\\'Leary, Miss. Hanora \"Norah\"', 'Stanley, Miss. Amy Zillah Elsie', 'Carr, Miss. Helen \"Ellen\"', 'Mannion, Miss. Margareth', 'Emanuel, Miss. Virginia Ethel', 'Kelly, Miss. Anna Katherine \"Annie Kate\"', 'Jussila, Mr. Eiriik', 'Barah, Mr. Hanna Assi', 'Nakid, Mr. Sahid', 'Dorking, Mr. Edward Arthur', 'Baclini, Mrs. Solomon (Latifa Qurban)', 'Chip, Mr. Chang', 'Nicola-Yarred, Master. Elias', 'Coutts, Master. Eden Leslie \"Neville\"', 'Sjoblom, Miss. Anna Sofia', 'Coutts, Master. William Loch \"William\"', 'Peter, Mrs. Catherine (Catherine Rizk)', 'Osman, Mrs. Mara', 'Mullens, Miss. Katherine \"Katie\"', 'Madigan, Miss. Margaret \"Maggie\"', 'Hakkarainen, Mrs. Pekka Pietari (Elin Matilda Dolck)', 'Nilsson, Miss. Helmina Josefina', 'Gilnagh, Miss. Katherine \"Katie\"', 'Andersen-Jensen, Miss. Carla Christine Nielsine', 'Lam, Mr. Ali', 'Johannesen-Bratthammer, Mr. Bernt', 'Heikkinen, Miss. Laina', 'Davison, Mrs. Thomas Henry (Mary E Finck)', 'Dowdell, Miss. Elizabeth', 'Glynn, Miss. Mary Agatha', 'McCormack, Mr. Thomas Joseph', 'Honkanen, Miss. Eliina', 'Dahl, Mr. Karl Edwart', 'Sunderland, Mr. Victor Francis', 'Sandstrom, Mrs. Hjalmar (Agnes Charlotta Bengtsson)', \"O'Driscoll, Miss. Bridget\", 'Turkula, Mrs. (Hedwig)', 'Asplund, Miss. Lillian Gertrud', 'McCoy, Miss. Agnes', 'Tornquist, Mr. William Henry', 'Goldsmith, Mrs. Frank John (Emily Alice Brown)', 'Salkjelsvik, Miss. Anna Kristine', 'Johnson, Miss. Eleanor Ileen', 'Murphy, Miss. Katherine \"Kate\"', 'Masselmani, Mrs. Fatima', 'Stranden, Mr. Juho', 'Moss, Mr. Albert Johan', 'Jermyn, Miss. Annie', 'McGowan, Miss. Anna \"Annie\"', 'Kelly, Miss. Mary', 'Landergren, Miss. Aurora Adelia', 'Sandstrom, Miss. Marguerite Rut', 'O\\'Dwyer, Miss. Ellen \"Nellie\"', 'McCoy, Mr. Bernard', 'Johnson, Master. Harold Theodor', 'Leeni, Mr. Fahim (\"Philip Zenni\")', 'Moran, Miss. Bertha', 'Madsen, Mr. Fridtjof Arne', 'Baclini, Miss. Marie Catherine', 'Nicola-Yarred, Miss. Jamila', 'Moor, Mrs. (Beila)', 'Lang, Mr. Fang', 'Karun, Miss. Manca', 'Moubarek, Master. Halim Gonios (\"William George\")', 'Lulic, Mr. Nikola', 'Mamee, Mr. Hanna', 'Jalsevac, Mr. Ivan', 'Jansson, Mr. Carl Olof', 'Nakid, Miss. Maria (\"Mary\")', 'Moubarek, Master. Gerios', 'Thorneycroft, Mrs. Percival (Florence Kate White)', 'O\\'Brien, Mrs. Thomas (Johanna \"Hannah\" Godfrey)', 'Pickard, Mr. Berk (Berk Trembisky)', 'Baclini, Miss. Helene Barbara', 'Baclini, Miss. Eugenie', 'Peter, Miss. Anna', 'Andersson, Mr. August Edvard (\"Wennerstrom\")', 'Devaney, Miss. Margaret Delia', 'Healy, Miss. Hanora \"Nora\"', 'Mockler, Miss. Helen Mary \"Ellie\"', 'Asplund, Master. Edvin Rojj Felix', 'Hirvonen, Miss. Hildur E', 'Goldsmith, Master. Frank John William \"Frankie\"', 'Johnson, Mrs. Oscar W (Elisabeth Vilhelmina Berg)', 'Albimona, Mr. Nassef Cassem', 'Foo, Mr. Choong', 'Nysten, Miss. Anna Sofia', 'Yasbeck, Mrs. Antoni (Selini Alexander)', 'Sundman, Mr. Johan Julian', 'Cohen, Mr. Gurshon \"Gus\"', 'Murphy, Miss. Margaret Jane', 'Ayoub, Miss. Banoura', 'Thomas, Master. Assad Alexander', 'Connolly, Miss. Kate', 'Abbott, Mrs. Stanton (Rosa Hunt)', 'de Mulder, Mr. Theodore', 'McGovern, Miss. Mary', 'Ohman, Miss. Velin', 'Kink-Heilmann, Miss. Luise Gretchen', 'de Messemaeker, Mrs. Guillaume Joseph (Emma)', 'Moor, Master. Meier', 'Bing, Mr. Lee', 'Daly, Mr. Eugene Patrick', 'Asplund, Mrs. Carl Oscar (Selma Augusta Emilia Johansson)', 'Aks, Mrs. Sam (Leah Rosen)', 'Turja, Miss. Anna Sofia', 'Moussa, Mrs. (Mantoura Boulos)', 'McDermott, Miss. Brigdet Delia', 'Dean, Master. Bertram Vere', 'Sheerlinck, Mr. Jan Baptist', 'Persson, Mr. Ernst Ulrik'}\n"
     ]
    }
   ],
   "source": [
    "# 交集 pclass3的存活名單\n",
    "intersection_set = survived_set & pclass3_set\n",
    "print(\"交集結果：\\n\")\n",
    "print(\"元素個數為: \", len(intersection_set), '\\n')\n",
    "print(intersection_set)"
   ]
  },
  {
   "cell_type": "markdown",
   "id": "805c3d9d",
   "metadata": {},
   "source": [
    "# 分析"
   ]
  },
  {
   "cell_type": "markdown",
   "id": "b05fca03",
   "metadata": {},
   "source": [
    "## 計算存活率\n",
    "\n",
    "- Pclass1 存活率: 62.96%\n",
    "- Pclass2 存活率: 47.28%\n",
    "- Pclass3 存活率: 24.24%"
   ]
  },
  {
   "cell_type": "code",
   "execution_count": 29,
   "id": "2c286d83",
   "metadata": {},
   "outputs": [],
   "source": [
    "def survive_rate(survived_set, pclass_set):\n",
    "    intersection_set = survived_set & pclass_set\n",
    "    \n",
    "    surv_rate = (len(intersection_set)/len(pclass_set))\n",
    "    return surv_rate"
   ]
  },
  {
   "cell_type": "code",
   "execution_count": 30,
   "id": "2a6e7ea9",
   "metadata": {},
   "outputs": [
    {
     "data": {
      "text/plain": [
       "0.6296296296296297"
      ]
     },
     "execution_count": 30,
     "metadata": {},
     "output_type": "execute_result"
    }
   ],
   "source": [
    "# Pclass1 存活率\n",
    "survive_rate(survived_set, pclass1_set)"
   ]
  },
  {
   "cell_type": "code",
   "execution_count": 34,
   "id": "5ec1bd81",
   "metadata": {
    "scrolled": true
   },
   "outputs": [
    {
     "data": {
      "text/plain": [
       "0.47282608695652173"
      ]
     },
     "execution_count": 34,
     "metadata": {},
     "output_type": "execute_result"
    }
   ],
   "source": [
    "# Pclass2 存活率\n",
    "survive_rate(survived_set, pclass2_set)"
   ]
  },
  {
   "cell_type": "code",
   "execution_count": 32,
   "id": "db21b41f",
   "metadata": {},
   "outputs": [
    {
     "data": {
      "text/plain": [
       "0.24236252545824846"
      ]
     },
     "execution_count": 32,
     "metadata": {},
     "output_type": "execute_result"
    }
   ],
   "source": [
    "# Pclass3 存活率\n",
    "survive_rate(survived_set, pclass3_set)"
   ]
  },
  {
   "cell_type": "markdown",
   "id": "826ed370",
   "metadata": {},
   "source": [
    "# 結論\n",
    "\n",
    "艙位越高級，存活率越高"
   ]
  },
  {
   "cell_type": "code",
   "execution_count": null,
   "id": "0329afa3",
   "metadata": {},
   "outputs": [],
   "source": []
  }
 ],
 "metadata": {
  "kernelspec": {
   "display_name": "Python 3 (ipykernel)",
   "language": "python",
   "name": "python3"
  },
  "language_info": {
   "codemirror_mode": {
    "name": "ipython",
    "version": 3
   },
   "file_extension": ".py",
   "mimetype": "text/x-python",
   "name": "python",
   "nbconvert_exporter": "python",
   "pygments_lexer": "ipython3",
   "version": "3.8.16"
  }
 },
 "nbformat": 4,
 "nbformat_minor": 5
}
