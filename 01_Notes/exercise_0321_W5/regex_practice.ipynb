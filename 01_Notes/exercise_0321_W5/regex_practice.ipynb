{
 "cells": [
  {
   "cell_type": "markdown",
   "id": "2be50f4d-2ca8-48d0-9c59-58d7eace8b23",
   "metadata": {},
   "source": [
    "# 抓取 Supermaxi的資料\n",
    "\n",
    "[Supermaxi](https://www.supermaxi.com/categoria-producto/promociones/licores/)\n",
    "\n",
    "### 介紹\n",
    "\n",
    "Corporación Favorita 在厄瓜多運營三個主要部門：商業、工業和房地產：\r\n",
    "\r\n",
    "商業部門：這是他們運營各種店面格式的部分。他們擁有：\r\n",
    "\r\n",
    "超市：Supermaxi、Megamaxi、Aki 和 Gran Aki，迎合不同的購物需求和預算。\r\n",
    "家居改善和配件：Kywi、Megakywi、TodoHogar、Sukasa 和聖誕節裝飾店 Salon de Navidad，提供從家居工具到節日裝飾等一切。\r\n",
    "專門店：他們經營 TVentas（一個家庭購物頻道）、Radio Shack（電子產品店）、Mr Books（書店）以及 Jugueton 和 Bebemundo 玩具店。\r\n",
    "工業部門：涉及他們的配送中心和子公司，如 Agropesa（牛肉和豬肉產品）、Enermax（電力生成）、Maxipan（麵包店）和 Pofasa（家禽生產商）。\r\n",
    "\r\n",
    "房地產部門：他們管理多個購物中心，為各種零售體驗提供空間。\r\n",
    "\r\n",
    "商業部門中的每種店鋪類型都服務於不同的市場部分，提供從雜貨到家居改善項目再到電子產ta 的業務和提供的商品。"
   ]
  },
  {
   "cell_type": "markdown",
   "id": "1f9525ef-18ca-4019-8561-71faf480fc3a",
   "metadata": {},
   "source": [
    "![beverage](beverage.png)"
   ]
  },
  {
   "cell_type": "code",
   "execution_count": 43,
   "id": "8f753210-a5cd-447d-a5dc-74eb2162b8e4",
   "metadata": {},
   "outputs": [],
   "source": [
    "import requests\n",
    "from bs4 import BeautifulSoup\n",
    "\n",
    "# 設定目標網址\n",
    "url = 'https://www.supermaxi.com/categoria-producto/promociones/licores/'\n",
    "\n",
    "# 發送HTTP請求\n",
    "response = requests.get(url)\n",
    "\n",
    "# 解析網頁\n",
    "soup = BeautifulSoup(response.text, 'html.parser')\n",
    "\n",
    "# print(soup)"
   ]
  },
  {
   "cell_type": "markdown",
   "id": "6ff8dd85-0990-4b39-87eb-2b096861372d",
   "metadata": {},
   "source": [
    "# 嘗試印出首頁的飲料品項"
   ]
  },
  {
   "cell_type": "code",
   "execution_count": 44,
   "id": "f1f948ca-a46c-4be4-9e01-3b774e79e29f",
   "metadata": {},
   "outputs": [
    {
     "name": "stdout",
     "output_type": "stream",
     "text": [
      "SANTA CAROLINA RESERVADO MERLOT 750 ml\n",
      "SANTA CAROLINA RESERVADO CABERNET SAUVIG 750 ml\n",
      "SANTA CAROLINA ROSE 750 ml\n",
      "CANCILLER BLEND VINO BLANCO SYRAH CHARDONNAY 750 ml\n",
      "GATO NEGRO CABERNET MERLOT 750 ml\n",
      "GATO NEGRO MERLOT 750 ml\n",
      "GATO NEGRO SAUVIGNON BLANCO 750 ml\n",
      "GATO NEGRO CARMENERE 750 ml\n",
      "GATO NEGRO CABERNET SAUVIGNON 750 ml\n",
      "GATO NEGRO CABERNET SAUVIG ROSE 750 ml\n",
      "GATO NEGRO CABERNET SAUVIG 1500 ml\n",
      "GATO NEGRO PREMIUM 4 X 187 ml\n",
      "GRANTS TRIPLE WOOD 12 AOS 750 ml\n",
      "HENDRICK S GIN 700 ml\n",
      "GRANTS TRIPLE WOOD CAJA 750 ml\n",
      "GATO NEGRO CABERNET SAUVIGNON 375 ml\n",
      "MC CUVEE GOLD 750 ml\n",
      "POLIAKOV VODKA 700 ml\n",
      "MARTINI ESPUMANTE ASTI DULCE 750 ml\n",
      "MARTINI ROSE SPARKLING 750 ml\n",
      "SAN MIGUEL 5 750 ml\n",
      "TRAVESIA MALBEC 750 ml\n",
      "NOVECENTO ROSADO ESPUMANTE 750 ml\n",
      "SANTA JULIA BRUT ROSE ESPUMANTE 750 ml\n"
     ]
    }
   ],
   "source": [
    "# 尋找所有產品名稱，這裡假設它們位於帶有class 'product-name' 的'h2'標籤內\n",
    "products = soup.findAll('h2', class_='woocommerce-loop-product__title')\n",
    "\n",
    "\n",
    "# 印出所有產品名稱\n",
    "for product in products:\n",
    "    print(product.text.strip())  # 使用strip()去除多餘空白"
   ]
  },
  {
   "cell_type": "markdown",
   "id": "1fcaee93-4c35-4f1d-b7c7-a6997915d13a",
   "metadata": {},
   "source": [
    "# 嘗試翻頁抓取所有品項\n",
    "\n",
    "總共翻6頁"
   ]
  },
  {
   "cell_type": "code",
   "execution_count": 45,
   "id": "69d2d890-1ec0-4120-97d1-a889704e4774",
   "metadata": {
    "scrolled": true
   },
   "outputs": [
    {
     "name": "stdout",
     "output_type": "stream",
     "text": [
      "['SANTA CAROLINA RESERVADO MERLOT 750 ml', 'SANTA CAROLINA RESERVADO CABERNET SAUVIG 750 ml', 'SANTA CAROLINA ROSE 750 ml', 'CANCILLER BLEND VINO BLANCO SYRAH CHARDONNAY 750 ml', 'GATO NEGRO CABERNET MERLOT 750 ml', 'GATO NEGRO MERLOT 750 ml', 'GATO NEGRO SAUVIGNON BLANCO 750 ml', 'GATO NEGRO CARMENERE 750 ml', 'GATO NEGRO CABERNET SAUVIGNON 750 ml', 'GATO NEGRO CABERNET SAUVIG ROSE 750 ml', 'GATO NEGRO CABERNET SAUVIG 1500 ml', 'GATO NEGRO PREMIUM 4 X 187 ml', 'GRANTS TRIPLE WOOD 12 A\\x84OS 750 ml', 'HENDRICK S GIN 700 ml', 'GRANTS TRIPLE WOOD CAJA 750 ml', 'GATO NEGRO CABERNET SAUVIGNON 375 ml', 'MC CUVEE GOLD 750 ml', 'POLIAKOV VODKA 700 ml', 'MARTINI ESPUMANTE ASTI DULCE 750 ml', 'MARTINI ROSE SPARKLING 750 ml', 'SAN MIGUEL 5 750 ml', 'TRAVESIA MALBEC 750 ml', 'NOVECENTO ROSADO ESPUMANTE 750 ml', 'SANTA JULIA BRUT ROSE ESPUMANTE 750 ml', 'FLOR DE CANA CENTENARIO 12 ANOS 750 ml', 'NOVECENTO EXTRA BRUT ESPUMANTE 750 ml', 'FLOR DE CANA RON EXTRA SECO 750 ml', 'CHIVAS REGAL 15 ANOS BLENDED 750 ml', 'OLD PARR CAJA. 750 ml', 'JOHNNIE WALKER NEGRO BOTELLA 750 ml', 'CRESPO LONDON DRY GIN 700 ml', 'SANTA CAROLINA ESPUMANTE BRUT 750 ml', 'SANTA CAROLINA ESPUMANTE DEMISEC 750 ml', 'SANTA CAROLINA RESERVADO CARMENERE 750 ml', 'SANTA CAROLINA RESERVADO CABERNET SAUVIGNON 1 500 ml', 'SANTA CAROLINA RESERVADO BRUT VINO ESPUMANTE 750 ml', 'SANTA CAROLINA RESERVADO CABERNET SAUVIGNON MERLOT 750 ml', 'SANTA CAROLINA RESERVADO CHARDONAY 750 ml', 'SANTA CAROLINA RESERVADO SAUVIG BLANCO 750 ml', 'SANTA CAROLINA RESERVA CABERNET SAUVIG 750 ml', 'ALFREDO ROCA FINCAS MALBEC 750 ml', 'CANCILLER CABERNET SAUVIGNON 750 ml', 'SANTA CAROLINA RESERVA CARMENERE 750 ml', 'SANTA CAROLINA RESERVA ASSEMBLAGE VINO TINTO 750 ml', 'CANCILLER CHARDONNAY 750 ml', 'CANCILLER MALBEC 750 ml', 'SANTA CAROLINA RESERVA SAUVIG BLANCO 750 ml', 'SANTA CAROLINA RESERVA CHARDONAY 750 ml', 'ALFREDO ROCA FINCAS CHENIN 750 ml', 'SANTA CAROLINA RESERVA MERLOT 750 ml', 'LOPEZ DE HARO VINO BLANCO 750 ml', 'ALFREDO ROCA DEDICACION PERSONAL BONARDA 750 ml', 'LOPEZ DE HARO TEMPRANILLO 750 ml', 'LOPEZ DE HARO TINTO CRIANZA 750 ml', 'LOPEZ DE HARO VINO ROSADO 750 ml', 'SPRITZ COCTEL AROMAS DE AMARGOS 750 ml', 'MAMA COCTEL DURAZNO LATA 250 ml', 'MAMA COCTEL GRANADA 750 ml', 'MAMA COCTEL DURAZNO 750 ml', 'MAMA COCTEL GRANADA LATA 250 ml', 'MAMA COCTEL MANGO LATA 250 ml', 'STA CAROLINA GRAN RESERVA CARMENERE 750 ml', 'CANCILLER BLEND VINO TINTO SYRAH MALBEC 750 ml', 'ROTKAPPCHEN ESPUMANTE DEMI SEC 750 ml', 'ANTIOQUENO AGUARDIENTE SIN AZUCAR 1000 ml', 'ANTIOQUENO AGUARDIENTE 375 ml', 'ANTIOQUENO AGUARDIENTE SIN AZUCAR… 375 ml', 'ANTIOQUEO AGUARDIENTE VERDE 750 ml', 'ANTIOQUENO AGUARDIENTE VERDE 375 ml', 'ANTIOQUENO AGUARDIENTE 1000 ml', 'ANTIOQUENO AGUARDIENTE SIN AZUCAR 750 ml', 'ANTIOQUENO AGUARDIENTE VERDE 1000 ml', 'ANTIOQUENO AGUARDIENTE 750 ml', 'V&F LICOR CREMA SABOR A HIERBAS 1000 ml', 'V&F COCTEL SABOR A PINA COLADA 750 ml', 'V&F COCTEL CREMA SABOR A ROMPOPE 750 ml', 'V&F CREMA DE MENTA 750 ml', 'V&F AMARETTO 750 ml', 'ADOBE RESERVA ROSE 750 ml', 'VALLFORMOSA CAVA SEMI SECO 750 ml', 'VALLFORMOSA CAVA BRUT 750 ml', 'ADOBE RESERVA CARMENERE 750 ml', 'FINCA TORREMILANOS VINO TTO LOS CANTOS 750 ml', 'UNO CABERNET SAUVIGNON VINO TINTO 750 ml', 'TINAZZI VINO BLANCO ISTA PINOT 750 ml', 'FINCA TORREMILANOS VINO TTO MONTECASTRILL 750 ml', 'TINAZZI VINO TINTO PRIMITIVO PUGLIA 750 ml', 'SANTA JULIA MALBEC RESERVA 750 ml', 'SANTA JULIA MERLOT RESERVA 750 ml', 'SANTA JULIA ROBLE TEMPRANILLO 750 ml', 'SANTA JULIA SYRAH 750 ml', 'SANTA JULIA MERLOT 750 ml', 'SANTA JULIA SYRAH ROSE 750 ml', 'ESTANCIA MENDOZA CABERNET SAUVIGNON 750 ml', 'SANTA JULIA VINO TINTO TEMPRANILLO MALBEC 750 ml', 'ESTANCIA MENDOZA ROBLE MALBEC 750 ml', 'SANTA JULIA TARDIO 500 ml', 'CASTILLO DE ELARO VINO TINTO 750 ml', 'EL CHARRO TEQUILA GOLD 750 ml', 'EL CHARRO MARGARITA SABOR LIMON 750 ml', 'EL CHARRO MARGARITA SABOR FRESA 750 ml', 'CARMEN SAUVIGNON BLANCO 750 ml', 'CARMEN MERLOT 750 ml', 'EL CHARRO TEQUILA SYLVER 750 ml', 'CARMEN CARMENERE 750 u', 'CARMEN CARBENET SAUVIGNON 750 ml', 'ESPUELA TEQUILA GOLD 750 ml', 'EL CHARRO TEQUILA AGUJON 750 ml', 'BOLTONS MENTA 750 ml', 'COUSINO MACUL MERLOT RESERVADO 750 ml', 'DERKOKTEL ALEXANDER/CHOC Y VAINILLA 750 ml', 'MORANDE PIONERO PINOT NOIR. 750 ml', 'MORANDE PIONERO CARMENERE 750 ml', 'MORANDE PIONERO SONADOR ROSE-PINOT NOIR.. 750 ml', 'MORANDE PIONERO MERLOT 750 ml', 'MORANDE PIONERO SAUVIGNON BLANCO 750 ml', 'MORANDE PIONERO CABERNET SAUVIG 750 ml', 'MORANDE RESERVA CHARDONAY 750 ml', 'POSTALES DEL FIN MUNDO VINO TINTO ROBLE MALBEC 750 ml', 'POSTALES DEL FIN MUNDO VINO TINTO ROBLE CABERNET SAUVIG 750 ml']\n"
     ]
    }
   ],
   "source": [
    "# https://www.supermaxi.com/categoria-producto/promociones/licores/page/2/\n",
    "\n",
    "import requests\n",
    "\n",
    "# 假设第一页的数据可以从以下URL获取\n",
    "base_url = \"https://www.supermaxi.com/categoria-producto/promociones/licores/page\"\n",
    "\n",
    "product_list = []\n",
    "for page in range(1, 6):  # 假设有5页内容\n",
    "    url = base_url + str(page) + '/'\n",
    "    response = requests.get(url)\n",
    "    soup = BeautifulSoup(response.text, 'html.parser')\n",
    "    # 尋找所有產品名稱，這裡假設它們位於帶有class 'product-name' 的'h2'標籤內\n",
    "    products = soup.findAll('h2', class_='woocommerce-loop-product__title')\n",
    "    \n",
    "    # 印出所有產品名稱\n",
    "    for product in products:\n",
    "        product_list.append(product.text.strip())\n",
    "        # print(product.text.strip())  # 使用strip()去除多餘空白\n",
    "        # print(response)\n",
    "\n",
    "print(product_list)"
   ]
  },
  {
   "cell_type": "markdown",
   "id": "c7420291-14fb-4551-a02c-432805ee8e6b",
   "metadata": {},
   "source": [
    "# 提取飲料名稱\n",
    "\n",
    "畢竟是南美洲國家，所以有很多飲料名稱含有英文以外的字母"
   ]
  },
  {
   "cell_type": "code",
   "execution_count": 46,
   "id": "946492c0-348d-476c-b4b3-1fa9bd613932",
   "metadata": {
    "scrolled": true
   },
   "outputs": [
    {
     "name": "stdout",
     "output_type": "stream",
     "text": [
      "['SANTA CAROLINA RESERVADO MERLOT', 'SANTA CAROLINA RESERVADO CABERNET SAUVIG', 'SANTA CAROLINA ROSE', 'CANCILLER BLEND VINO BLANCO SYRAH CHARDONNAY', 'GATO NEGRO CABERNET MERLOT', 'GATO NEGRO MERLOT', 'GATO NEGRO SAUVIGNON BLANCO', 'GATO NEGRO CARMENERE', 'GATO NEGRO CABERNET SAUVIGNON', 'GATO NEGRO CABERNET SAUVIG ROSE', 'GATO NEGRO CABERNET SAUVIG', 'GATO NEGRO PREMIUM 4 X', 'GRANTS TRIPLE WOOD 12 A\\x84OS', 'HENDRICK S GIN', 'GRANTS TRIPLE WOOD CAJA', 'GATO NEGRO CABERNET SAUVIGNON', 'MC CUVEE GOLD', 'POLIAKOV VODKA', 'MARTINI ESPUMANTE ASTI DULCE', 'MARTINI ROSE SPARKLING', 'SAN MIGUEL 5', 'TRAVESIA MALBEC', 'NOVECENTO ROSADO ESPUMANTE', 'SANTA JULIA BRUT ROSE ESPUMANTE', 'FLOR DE CANA CENTENARIO 12 ANOS', 'NOVECENTO EXTRA BRUT ESPUMANTE', 'FLOR DE CANA RON EXTRA SECO', 'CHIVAS REGAL 15 ANOS BLENDED', 'OLD PARR CAJA.', 'JOHNNIE WALKER NEGRO BOTELLA', 'CRESPO LONDON DRY GIN', 'SANTA CAROLINA ESPUMANTE BRUT', 'SANTA CAROLINA ESPUMANTE DEMISEC', 'SANTA CAROLINA RESERVADO CARMENERE', 'SANTA CAROLINA RESERVADO CABERNET SAUVIGNON 1', 'SANTA CAROLINA RESERVADO BRUT VINO ESPUMANTE', 'SANTA CAROLINA RESERVADO CABERNET SAUVIGNON MERLOT', 'SANTA CAROLINA RESERVADO CHARDONAY', 'SANTA CAROLINA RESERVADO SAUVIG BLANCO', 'SANTA CAROLINA RESERVA CABERNET SAUVIG', 'ALFREDO ROCA FINCAS MALBEC', 'CANCILLER CABERNET SAUVIGNON', 'SANTA CAROLINA RESERVA CARMENERE', 'SANTA CAROLINA RESERVA ASSEMBLAGE VINO TINTO', 'CANCILLER CHARDONNAY', 'CANCILLER MALBEC', 'SANTA CAROLINA RESERVA SAUVIG BLANCO', 'SANTA CAROLINA RESERVA CHARDONAY', 'ALFREDO ROCA FINCAS CHENIN', 'SANTA CAROLINA RESERVA MERLOT', 'LOPEZ DE HARO VINO BLANCO', 'ALFREDO ROCA DEDICACION PERSONAL BONARDA', 'LOPEZ DE HARO TEMPRANILLO', 'LOPEZ DE HARO TINTO CRIANZA', 'LOPEZ DE HARO VINO ROSADO', 'SPRITZ COCTEL AROMAS DE AMARGOS', 'MAMA COCTEL DURAZNO LATA', 'MAMA COCTEL GRANADA', 'MAMA COCTEL DURAZNO', 'MAMA COCTEL GRANADA LATA', 'MAMA COCTEL MANGO LATA', 'STA CAROLINA GRAN RESERVA CARMENERE', 'CANCILLER BLEND VINO TINTO SYRAH MALBEC', 'ROTKAPPCHEN ESPUMANTE DEMI SEC', 'ANTIOQUENO AGUARDIENTE SIN AZUCAR', 'ANTIOQUENO AGUARDIENTE', 'ANTIOQUENO AGUARDIENTE SIN AZUCAR…', 'ANTIOQUEO AGUARDIENTE VERDE', 'ANTIOQUENO AGUARDIENTE VERDE', 'ANTIOQUENO AGUARDIENTE', 'ANTIOQUENO AGUARDIENTE SIN AZUCAR', 'ANTIOQUENO AGUARDIENTE VERDE', 'ANTIOQUENO AGUARDIENTE', 'V&F LICOR CREMA SABOR A HIERBAS', 'V&F COCTEL SABOR A PINA COLADA', 'V&F COCTEL CREMA SABOR A ROMPOPE', 'V&F CREMA DE MENTA', 'V&F AMARETTO', 'ADOBE RESERVA ROSE', 'VALLFORMOSA CAVA SEMI SECO', 'VALLFORMOSA CAVA BRUT', 'ADOBE RESERVA CARMENERE', 'FINCA TORREMILANOS VINO TTO LOS CANTOS', 'UNO CABERNET SAUVIGNON VINO TINTO', 'TINAZZI VINO BLANCO ISTA PINOT', 'FINCA TORREMILANOS VINO TTO MONTECASTRILL', 'TINAZZI VINO TINTO PRIMITIVO PUGLIA', 'SANTA JULIA MALBEC RESERVA', 'SANTA JULIA MERLOT RESERVA', 'SANTA JULIA ROBLE TEMPRANILLO', 'SANTA JULIA SYRAH', 'SANTA JULIA MERLOT', 'SANTA JULIA SYRAH ROSE', 'ESTANCIA MENDOZA CABERNET SAUVIGNON', 'SANTA JULIA VINO TINTO TEMPRANILLO MALBEC', 'ESTANCIA MENDOZA ROBLE MALBEC', 'SANTA JULIA TARDIO', 'CASTILLO DE ELARO VINO TINTO', 'EL CHARRO TEQUILA GOLD', 'EL CHARRO MARGARITA SABOR LIMON', 'EL CHARRO MARGARITA SABOR FRESA', 'CARMEN SAUVIGNON BLANCO', 'CARMEN MERLOT', 'EL CHARRO TEQUILA SYLVER', 'CARMEN CARMENERE', 'CARMEN CARBENET SAUVIGNON', 'ESPUELA TEQUILA GOLD', 'EL CHARRO TEQUILA AGUJON', 'BOLTONS MENTA', 'COUSINO MACUL MERLOT RESERVADO', 'DERKOKTEL ALEXANDER/CHOC Y VAINILLA', 'MORANDE PIONERO PINOT NOIR.', 'MORANDE PIONERO CARMENERE', 'MORANDE PIONERO SONADOR ROSE-PINOT NOIR..', 'MORANDE PIONERO MERLOT', 'MORANDE PIONERO SAUVIGNON BLANCO', 'MORANDE PIONERO CABERNET SAUVIG', 'MORANDE RESERVA CHARDONAY', 'POSTALES DEL FIN MUNDO VINO TINTO ROBLE MALBEC', 'POSTALES DEL FIN MUNDO VINO TINTO ROBLE CABERNET SAUVIG']\n"
     ]
    }
   ],
   "source": [
    "import regex\n",
    "\n",
    "product_name_list = []\n",
    "for i in product_list:\n",
    "    # 嘗試捕獲位於容量描述前的所有文本，包括特殊字符\n",
    "    product_name = regex.findall(r\"^(.*?)(?=\\s*\\d+\\s*(ml|u))\", i, regex.IGNORECASE)\n",
    "    if product_name:  # 檢查列表是否不為空\n",
    "        product_name_list.append(product_name[0][0].strip())  # 提取匹配的產品名並去除首尾空格\n",
    "    else:\n",
    "        print(i)  # 打印未匹配的產品名稱，以便進一步分析\n",
    "        product_name_list.append(\"未知產品名稱\")\n",
    "\n",
    "print(product_name_list)\n"
   ]
  },
  {
   "cell_type": "markdown",
   "id": "5efbb39f-c273-4bfc-9e0a-0f0d6707e75b",
   "metadata": {},
   "source": [
    "# 提取飲料容量"
   ]
  },
  {
   "cell_type": "code",
   "execution_count": 47,
   "id": "ccd6676e-6c23-4ac9-b142-51943212cb5d",
   "metadata": {
    "scrolled": true
   },
   "outputs": [
    {
     "name": "stdout",
     "output_type": "stream",
     "text": [
      "['750 ml', '750 ml', '750 ml', '750 ml', '750 ml', '750 ml', '750 ml', '750 ml', '750 ml', '750 ml', '1500 ml', '187 ml', '750 ml', '700 ml', '750 ml', '375 ml', '750 ml', '700 ml', '750 ml', '750 ml', '750 ml', '750 ml', '750 ml', '750 ml', '750 ml', '750 ml', '750 ml', '750 ml', '750 ml', '750 ml', '700 ml', '750 ml', '750 ml', '750 ml', '500 ml', '750 ml', '750 ml', '750 ml', '750 ml', '750 ml', '750 ml', '750 ml', '750 ml', '750 ml', '750 ml', '750 ml', '750 ml', '750 ml', '750 ml', '750 ml', '750 ml', '750 ml', '750 ml', '750 ml', '750 ml', '750 ml', '250 ml', '750 ml', '750 ml', '250 ml', '250 ml', '750 ml', '750 ml', '750 ml', '1000 ml', '375 ml', '375 ml', '750 ml', '375 ml', '1000 ml', '750 ml', '1000 ml', '750 ml', '1000 ml', '750 ml', '750 ml', '750 ml', '750 ml', '750 ml', '750 ml', '750 ml', '750 ml', '750 ml', '750 ml', '750 ml', '750 ml', '750 ml', '750 ml', '750 ml', '750 ml', '750 ml', '750 ml', '750 ml', '750 ml', '750 ml', '750 ml', '500 ml', '750 ml', '750 ml', '750 ml', '750 ml', '750 ml', '750 ml', '750 ml', '未知產品容量', '750 ml', '750 ml', '750 ml', '750 ml', '750 ml', '750 ml', '750 ml', '750 ml', '750 ml', '750 ml', '750 ml', '750 ml', '750 ml', '750 ml', '750 ml']\n"
     ]
    }
   ],
   "source": [
    "product_vol_list = []\n",
    "for i in product_list:\n",
    "    product_vol = re.findall(\"\\d+ ml$\", i)\n",
    "    if product_vol:  # 檢查列表是否不為空\n",
    "        product_vol_list.append(product_vol[0])\n",
    "    else:  # 如果找不到匹配，可以追加一個預設值或進行其他操作\n",
    "        product_vol_list.append(\"未知產品容量\")  # 或者也可以選擇不添加任何東西，或添加一個特定的占位符\n",
    "\n",
    "print(product_vol_list)\n"
   ]
  },
  {
   "cell_type": "markdown",
   "id": "2b9b0342-6116-4b66-a84f-8578321b1d48",
   "metadata": {},
   "source": [
    "# 將兩筆合併成一個DataFrame"
   ]
  },
  {
   "cell_type": "code",
   "execution_count": 48,
   "id": "379b1856-3331-4da3-b5ca-b7796431bf8f",
   "metadata": {},
   "outputs": [
    {
     "name": "stdout",
     "output_type": "stream",
     "text": [
      "                                                  產品名稱      容量\n",
      "0                      SANTA CAROLINA RESERVADO MERLOT  750 ml\n",
      "1             SANTA CAROLINA RESERVADO CABERNET SAUVIG  750 ml\n",
      "2                                  SANTA CAROLINA ROSE  750 ml\n",
      "3         CANCILLER BLEND VINO BLANCO SYRAH CHARDONNAY  750 ml\n",
      "4                           GATO NEGRO CABERNET MERLOT  750 ml\n",
      "..                                                 ...     ...\n",
      "115                   MORANDE PIONERO SAUVIGNON BLANCO  750 ml\n",
      "116                    MORANDE PIONERO CABERNET SAUVIG  750 ml\n",
      "117                          MORANDE RESERVA CHARDONAY  750 ml\n",
      "118     POSTALES DEL FIN MUNDO VINO TINTO ROBLE MALBEC  750 ml\n",
      "119  POSTALES DEL FIN MUNDO VINO TINTO ROBLE CABERN...  750 ml\n",
      "\n",
      "[120 rows x 2 columns]\n"
     ]
    }
   ],
   "source": [
    "import pandas as pd\n",
    "\n",
    "# 確保 product_name_list 和 product_vol_list 的長度相同\n",
    "assert len(product_name_list) == len(product_vol_list), \"列表長度不匹配\"\n",
    "\n",
    "# 創建一個字典，用於構建 DataFrame\n",
    "data = {'產品名稱': product_name_list, '容量': product_vol_list}\n",
    "\n",
    "# 使用字典創建 DataFrame\n",
    "df = pd.DataFrame(data)\n",
    "\n",
    "# 顯示 DataFrame\n",
    "print(df)\n"
   ]
  },
  {
   "cell_type": "code",
   "execution_count": 49,
   "id": "697ef31d-3b5c-40ba-bd07-851ec0db3655",
   "metadata": {},
   "outputs": [
    {
     "name": "stdout",
     "output_type": "stream",
     "text": [
      "CSV 檔案已成功保存到 products.csv\n"
     ]
    }
   ],
   "source": [
    "# 導出 DataFrame 到 CSV 檔案\n",
    "csv_file_path = 'products.csv'  # 指定檔案名稱\n",
    "df.to_csv(csv_file_path, index=False)  # index=False 表示不將行索引寫入 CSV 檔案\n",
    "\n",
    "print(f\"CSV 檔案已成功保存到 {csv_file_path}\")\n"
   ]
  }
 ],
 "metadata": {
  "kernelspec": {
   "display_name": "Python 3 (ipykernel)",
   "language": "python",
   "name": "python3"
  },
  "language_info": {
   "codemirror_mode": {
    "name": "ipython",
    "version": 3
   },
   "file_extension": ".py",
   "mimetype": "text/x-python",
   "name": "python",
   "nbconvert_exporter": "python",
   "pygments_lexer": "ipython3",
   "version": "3.8.19"
  }
 },
 "nbformat": 4,
 "nbformat_minor": 5
}
