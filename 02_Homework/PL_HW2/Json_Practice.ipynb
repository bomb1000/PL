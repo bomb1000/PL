{
 "cells": [
  {
   "cell_type": "markdown",
   "id": "5397e683",
   "metadata": {},
   "source": [
    "### Data Source\n",
    "\n",
    "[players & teams data](https://github.com/bttmly/nba/blob/master/data/players.json)<br>\n",
    "[nba_2022_2023_data](https://www.kaggle.com/datasets/bryanchungweather/nba-players-data-2022-2023?select=nba_2022_2023.csv)"
   ]
  },
  {
   "cell_type": "code",
   "execution_count": 38,
   "id": "abef29f3",
   "metadata": {
    "scrolled": true
   },
   "outputs": [
    {
     "name": "stdout",
     "output_type": "stream",
     "text": [
      "<class 'list'>\n",
      "<class 'list'>\n"
     ]
    }
   ],
   "source": [
    "import json\n",
    "data_1 = open('data/players.json',encoding=\"utf8\")\n",
    "data_2 = open('data/teams.json',encoding=\"utf8\")\n",
    "data_3 = open('data/nba_2022_2023.json',encoding=\"utf8\")\n",
    "\n",
    "players_data = json.load(data_1)\n",
    "teams_data = json.load(data_2)\n",
    "nba_2022_2023_data = json.load(data_3)\n",
    "print(type(players_data))\n",
    "print(type(teams_data))"
   ]
  },
  {
   "cell_type": "markdown",
   "id": "c5e74937",
   "metadata": {},
   "source": [
    "<br><br><br>\n",
    "# 合併資料\n",
    "- 合併 players_data 和 teams_data\n",
    "- 合併 merged_data 和 nba_2022_2023_data 成新的 merged_data"
   ]
  },
  {
   "cell_type": "markdown",
   "id": "6a1d298a",
   "metadata": {},
   "source": [
    "### 合併 players_data 和 teams_data"
   ]
  },
  {
   "cell_type": "code",
   "execution_count": 39,
   "id": "9b598cef",
   "metadata": {
    "scrolled": true
   },
   "outputs": [],
   "source": [
    "# 将 data1 和 data2 根据 'teamId' 合并成一个数据\n",
    "merged_data = [dict(item1, **item2) for item1 in players_data for item2 in teams_data if item1['teamId'] == item2['teamId']]\n",
    "\n",
    "# 显示合并后的数据\n",
    "# print(merged_data)"
   ]
  },
  {
   "cell_type": "markdown",
   "id": "77880efb",
   "metadata": {},
   "source": [
    "### 合併 merged_data 和 nba_2022_2023_data 成新的 merged_data"
   ]
  },
  {
   "cell_type": "code",
   "execution_count": 40,
   "id": "979e6109",
   "metadata": {},
   "outputs": [],
   "source": [
    "# merged_data 根據共同球員名字合併 nba_2022_2023_data\n",
    "\n",
    "for j in range(len(nba_2022_2023_data)):\n",
    "    player = nba_2022_2023_data[j]['Player']\n",
    "    for i in range(len(merged_data)):\n",
    "        full_name = merged_data[i]['firstName']+' '+merged_data[i]['lastName']\n",
    "        if player == full_name:\n",
    "            merged_data[i].update(nba_2022_2023_data[j])\n"
   ]
  },
  {
   "cell_type": "markdown",
   "id": "58a52c22",
   "metadata": {},
   "source": [
    "<br><br><br>\n",
    "# 展示查詢功能\n",
    "- 輸入球員名字，查詢所屬球隊\n",
    "- 輸入球員名字，查詢球員年紀"
   ]
  },
  {
   "cell_type": "markdown",
   "id": "be795486",
   "metadata": {},
   "source": [
    "### 輸入球員名字，查詢所屬球隊"
   ]
  },
  {
   "cell_type": "code",
   "execution_count": 41,
   "id": "546782c2",
   "metadata": {},
   "outputs": [
    {
     "name": "stdout",
     "output_type": "stream",
     "text": [
      "LeBron James is a player of Los Angeles Lakers\n"
     ]
    }
   ],
   "source": [
    "#查詢球員所屬球隊\n",
    "ask = 'LeBron'\n",
    "\n",
    "for i in range(len(merged_data)):\n",
    "    if ask == merged_data[i].get('firstName') or ask == merged_data[i].get('lastName'):\n",
    "        print(merged_data[i].get('firstName') + ' ' + merged_data[i].get('lastName'), 'is a player of', merged_data[i].get('teamName'))\n",
    "    "
   ]
  },
  {
   "cell_type": "markdown",
   "id": "23ec109a",
   "metadata": {},
   "source": [
    "### 輸入球員名字，查詢所屬球隊"
   ]
  },
  {
   "cell_type": "code",
   "execution_count": 44,
   "id": "8b3d75af",
   "metadata": {},
   "outputs": [
    {
     "name": "stdout",
     "output_type": "stream",
     "text": [
      "LeBron James is 38 years old\n"
     ]
    }
   ],
   "source": [
    "#查詢球員年紀\n",
    "ask = 'LeBron'\n",
    "\n",
    "for i in range(len(merged_data)):\n",
    "    if ask == merged_data[i].get('firstName') or ask == merged_data[i].get('lastName'):\n",
    "        print(merged_data[i].get('firstName') + ' ' + merged_data[i].get('lastName'), 'is', merged_data[i].get('Age'), 'years old')\n"
   ]
  },
  {
   "cell_type": "markdown",
   "id": "d3482641",
   "metadata": {},
   "source": [
    "<br><br><br>\n",
    "# 將CSV檔轉換成Json檔"
   ]
  },
  {
   "cell_type": "code",
   "execution_count": 43,
   "id": "1adb9661",
   "metadata": {},
   "outputs": [],
   "source": [
    "# # nba_2022_2023.csv\n",
    "# import csv\n",
    "# import json\n",
    "\n",
    "# def csv_to_json(csv_file_path, json_file_path):\n",
    "#     # 读取 CSV 文件\n",
    "#     with open(csv_file_path, 'r', newline='', encoding='utf-8') as csv_file:\n",
    "#         # 使用 DictReader 将 CSV 文件转换为字典列表\n",
    "#         csv_reader = csv.DictReader(csv_file)\n",
    "#         # 将字典列表转换为 JSON 格式的字符串\n",
    "#         json_data = json.dumps(list(csv_reader), indent=4)\n",
    "\n",
    "#     # 将 JSON 数据写入到 JSON 文件\n",
    "#     with open(json_file_path, 'w', encoding='utf-8') as json_file:\n",
    "#         json_file.write(json_data)\n",
    "\n",
    "# # 调用函数将 CSV 转换为 JSON\n",
    "# # csv_to_json('data/nba_2022_2023.csv', 'data/nba_2022_2023.json')\n"
   ]
  }
 ],
 "metadata": {
  "kernelspec": {
   "display_name": "Python 3 (ipykernel)",
   "language": "python",
   "name": "python3"
  },
  "language_info": {
   "codemirror_mode": {
    "name": "ipython",
    "version": 3
   },
   "file_extension": ".py",
   "mimetype": "text/x-python",
   "name": "python",
   "nbconvert_exporter": "python",
   "pygments_lexer": "ipython3",
   "version": "3.8.16"
  }
 },
 "nbformat": 4,
 "nbformat_minor": 5
}
