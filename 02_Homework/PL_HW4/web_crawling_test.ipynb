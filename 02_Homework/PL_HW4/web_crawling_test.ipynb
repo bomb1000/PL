{
 "cells": [
  {
   "cell_type": "code",
   "execution_count": 6,
   "id": "819edb1d-96df-4d7d-bbd2-692eaef59bab",
   "metadata": {},
   "outputs": [],
   "source": [
    "import requests\n",
    "from bs4 import BeautifulSoup"
   ]
  },
  {
   "cell_type": "code",
   "execution_count": 7,
   "id": "0ea24f10-2612-496c-8c1d-f7b6e1b51fd8",
   "metadata": {},
   "outputs": [],
   "source": [
    "# ! pip install selenium"
   ]
  },
  {
   "cell_type": "code",
   "execution_count": 12,
   "id": "9dc9de94-0849-4809-8d2f-99d1189a8999",
   "metadata": {},
   "outputs": [
    {
     "ename": "SyntaxError",
     "evalue": "invalid syntax (3525477269.py, line 32)",
     "output_type": "error",
     "traceback": [
      "\u001b[1;36m  Cell \u001b[1;32mIn[12], line 32\u001b[1;36m\u001b[0m\n\u001b[1;33m    name = driver.find_element(By.class, 'ec-title')\u001b[0m\n\u001b[1;37m                                  ^\u001b[0m\n\u001b[1;31mSyntaxError\u001b[0m\u001b[1;31m:\u001b[0m invalid syntax\n"
     ]
    }
   ],
   "source": [
    "from selenium import webdriver\n",
    "from selenium.webdriver.edge.service import Service\n",
    "from selenium.webdriver.edge.options import Options\n",
    "from selenium.webdriver.common.by import By\n",
    "from selenium.webdriver.common.keys import Keys\n",
    "\n",
    "import time\n",
    "\n",
    "\n",
    "# Specify the path to the msedgedriver.exe\n",
    "driver_path = 'edgedriver_win64/msedgedriver.exe'\n",
    "service = Service(executable_path=driver_path)\n",
    "\n",
    "# Set up Edge options (if needed, you can specify options like headless mode here)\n",
    "options = Options()\n",
    "# options.add_argument('--headless')  # Example to run headless\n",
    "\n",
    "# Create a new instance of the Edge driver\n",
    "driver = webdriver.Edge(service=service, options=options)\n",
    "\n",
    "# Go to the webpage\n",
    "driver.get(\"https://news.agentm.tw/category/%E9%9B%BB%E5%BD%B1%E5%BD%B1%E8%A9%95/\")\n",
    "\n",
    "# Retrieve the title of the page\n",
    "title = driver.title\n",
    "print(\"The title of the page is:\", title)\n",
    "\n",
    "# search = driver.find_element(By.NAME, 'query')\n",
    "# search.send_keys('電影')\n",
    "# search.send_keys(Keys.RETURN)\n",
    "\n",
    "name = driver.find_element(By.CLASS, 'ec-title')\n",
    "print('name')\n",
    "\n",
    "# Close the browser window\n",
    "# driver.quit()  # It's better to use quit() to close the entire browser session\n"
   ]
  },
  {
   "cell_type": "code",
   "execution_count": 14,
   "id": "096c7804-c56b-4a24-8561-2255c70011ce",
   "metadata": {},
   "outputs": [
    {
     "name": "stdout",
     "output_type": "stream",
     "text": [
      "【影評】Netflix《眼淚工匠》：乍看還以為是義大利版《暮光之城》，原來只是孤兒版《禁忌世代》\n",
      "【影評】《禁忌之慾》：凸顯了肉體情慾，卻疏略心理描繪的可惜之作\n",
      "【影評】相米慎二《搬家》: 父母要離婚了，被迫成為被害者的女孩，決定踏上成為少女的冒險\n",
      "【影評】《功夫熊貓4》：屬於阿波生涯尾聲的傳承篇章，睽違 8 年的優秀續集\n",
      "【影評】《SISU：黃金硬漢》：他只是拒絕死亡——人狠話不多的北歐殺神\n",
      "【影評】《天魔：惡之初》：看似懷舊，卻處處充滿新意的優秀前傳\n",
      "【影評】《超危險警探》：有懸疑感但劇本缺乏修飾，一點也不危險的懸疑小品\n",
      "【影評】《源生罪》：一字排開都是入圍獎項，電影卻毫無記憶點\n",
      "【影評】《怪物樵夫》：病態殺人魔大戰神秘怪物的設定如此瘋狂，卻不像是瘋狂導演三池崇史的電影\n",
      "【影評】《聖鬥士星矢》：喚醒你的神祕第七感！燃燒吧，你的爛片小宇宙！\n",
      "【影評】《絕地救援》：當你受困火星，卻成為史上最知名的馬鈴薯農夫\n",
      "【影評】《哥吉拉與金剛：新帝國》：比之前還要無腦，是好片還是爛片，完全取決於你對怪獸片的口味\n",
      "劇場版《排球少年 !! 垃圾場的決戰》開箱心得：用傳接球聯繫出精采比賽，也織出聯繫眾人的網──\n",
      "【影評】Netflix《恐懼的代價》：有兩個經典版本珠玉在前，網飛真的不用再拍了謝謝\n",
      "簡單快樂讓《哥吉拉與金剛：新帝國》成功在望！怪獸宇宙十年有成，終於找到屬於自己的步伐\n",
      "【影評】《莎莉》：在千里尋愛的過程，找回自我的價值\n"
     ]
    }
   ],
   "source": [
    "import requests\n",
    "from bs4 import BeautifulSoup\n",
    "\n",
    "url = 'https://news.agentm.tw/category/%E9%9B%BB%E5%BD%B1%E5%BD%B1%E8%A9%95/'\n",
    "response = requests.get(url)\n",
    "soup = BeautifulSoup(response.text, 'html.parser')\n",
    "\n",
    "titles = soup.find_all('h3', class_='ec-title')  # Update selector as needed\n",
    "\n",
    "for title in titles:\n",
    "    print(title.get_text().strip())\n"
   ]
  },
  {
   "cell_type": "code",
   "execution_count": null,
   "id": "c16ada4a-9f32-4b4b-bc76-11c95b933497",
   "metadata": {},
   "outputs": [],
   "source": []
  },
  {
   "cell_type": "code",
   "execution_count": null,
   "id": "b791bef4-d836-40c7-ae74-37273bbe3c36",
   "metadata": {},
   "outputs": [],
   "source": []
  },
  {
   "cell_type": "code",
   "execution_count": null,
   "id": "2074d725-0dae-43bf-bd39-a852dde6f7f0",
   "metadata": {},
   "outputs": [],
   "source": []
  },
  {
   "cell_type": "code",
   "execution_count": null,
   "id": "70db3b7b-0140-4a3e-be2c-f36ddcb845c3",
   "metadata": {},
   "outputs": [],
   "source": [
    "<h3 class=\"ec-title\"><a href=\"https://news.agentm.tw/277463/\" title=\"【影評】Netflix《眼淚工匠》：乍看還以為是義大利版《暮光之城》，原來只是孤兒版《禁忌世代》\">【影評】Netflix《眼淚工匠》：乍看還以為是義大利版《暮光之城》，原來只是孤兒版《禁忌世代》</a>\n",
    "</h3>"
   ]
  }
 ],
 "metadata": {
  "kernelspec": {
   "display_name": "Python 3 (ipykernel)",
   "language": "python",
   "name": "python3"
  },
  "language_info": {
   "codemirror_mode": {
    "name": "ipython",
    "version": 3
   },
   "file_extension": ".py",
   "mimetype": "text/x-python",
   "name": "python",
   "nbconvert_exporter": "python",
   "pygments_lexer": "ipython3",
   "version": "3.8.19"
  }
 },
 "nbformat": 4,
 "nbformat_minor": 5
}
